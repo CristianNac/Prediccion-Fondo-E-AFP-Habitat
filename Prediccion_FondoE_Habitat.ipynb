{
  "nbformat": 4,
  "nbformat_minor": 0,
  "metadata": {
    "colab": {
      "provenance": []
    },
    "kernelspec": {
      "name": "python3",
      "display_name": "Python 3"
    },
    "language_info": {
      "name": "python"
    }
  },
  "cells": [
    {
      "cell_type": "markdown",
      "source": [
        "#Librerías"
      ],
      "metadata": {
        "id": "Htw59DMS97bF"
      }
    },
    {
      "cell_type": "code",
      "execution_count": 2,
      "metadata": {
        "id": "OwjRPzV694kf"
      },
      "outputs": [],
      "source": [
        "import pandas as pd\n",
        "import numpy as np\n",
        "import matplotlib.pyplot as plt\n",
        "import statsmodels.graphics.tsaplots as sgt\n",
        "import statsmodels.tsa.stattools as sts\n",
        "from statsmodels.tsa.arima.model import ARIMA\n",
        "from scipy.stats.distributions import chi2\n",
        "from statsmodels.tsa.seasonal import seasonal_decompose\n",
        "import seaborn as sns\n",
        "sns.set()"
      ]
    },
    {
      "cell_type": "markdown",
      "source": [
        "#Cargar la información"
      ],
      "metadata": {
        "id": "LylvJUi9-MKA"
      }
    },
    {
      "cell_type": "code",
      "source": [
        "df = pd.read_csv('Habitat-E.csv', index_col = 'Date', parse_dates = True)\n",
        "df = df.asfreq('d') #Establece la frecuencia de la serie en diaria\n"
      ],
      "metadata": {
        "id": "KQ8uss9S-PwF"
      },
      "execution_count": 3,
      "outputs": []
    },
    {
      "cell_type": "code",
      "source": [
        "df.isnull().sum()     #Verifica si existen valores nulos"
      ],
      "metadata": {
        "colab": {
          "base_uri": "https://localhost:8080/"
        },
        "id": "yz5mvGMj_Szw",
        "outputId": "faf5244c-c03a-43eb-cfff-e0b9eae803f6"
      },
      "execution_count": 4,
      "outputs": [
        {
          "output_type": "execute_result",
          "data": {
            "text/plain": [
              "Open      0\n",
              "High      0\n",
              "Low       0\n",
              "Close     0\n",
              "Volume    0\n",
              "dtype: int64"
            ]
          },
          "metadata": {},
          "execution_count": 4
        }
      ]
    },
    {
      "cell_type": "code",
      "source": [
        "del df['Open']\n",
        "del df['High']\n",
        "del df['Low']\n",
        "del df['Volume']"
      ],
      "metadata": {
        "id": "xVLYVc51B0p3"
      },
      "execution_count": 5,
      "outputs": []
    },
    {
      "cell_type": "markdown",
      "source": [
        "#Separar los datos en un conjunto de entrenamiento y prueba"
      ],
      "metadata": {
        "id": "tTaDA3Z4Axsx"
      }
    },
    {
      "cell_type": "code",
      "source": [
        "size = int(len(df)*0.8)\n",
        "df_train, df_test = df[:size], df[size:]"
      ],
      "metadata": {
        "id": "Ogs9-oG7A0m9"
      },
      "execution_count": 6,
      "outputs": []
    },
    {
      "cell_type": "markdown",
      "source": [
        "## Se debe corroborar que no se repita la fecha entre el conjunto de entrenamiento y prueba"
      ],
      "metadata": {
        "id": "Ygyt9bH0BP8v"
      }
    },
    {
      "cell_type": "code",
      "source": [
        "df_train.tail()"
      ],
      "metadata": {
        "colab": {
          "base_uri": "https://localhost:8080/",
          "height": 237
        },
        "id": "-SPv3DQbBDOW",
        "outputId": "3a6a0b18-1564-46b4-b7a1-ba4bcbe9797d"
      },
      "execution_count": 7,
      "outputs": [
        {
          "output_type": "execute_result",
          "data": {
            "text/plain": [
              "            Close\n",
              "Date             \n",
              "2019-11-21  41585\n",
              "2019-11-22  41629\n",
              "2019-11-23  41629\n",
              "2019-11-24  41629\n",
              "2019-11-25  41718"
            ],
            "text/html": [
              "\n",
              "  <div id=\"df-56a0b6b2-7117-4c4e-9670-52366a03554c\" class=\"colab-df-container\">\n",
              "    <div>\n",
              "<style scoped>\n",
              "    .dataframe tbody tr th:only-of-type {\n",
              "        vertical-align: middle;\n",
              "    }\n",
              "\n",
              "    .dataframe tbody tr th {\n",
              "        vertical-align: top;\n",
              "    }\n",
              "\n",
              "    .dataframe thead th {\n",
              "        text-align: right;\n",
              "    }\n",
              "</style>\n",
              "<table border=\"1\" class=\"dataframe\">\n",
              "  <thead>\n",
              "    <tr style=\"text-align: right;\">\n",
              "      <th></th>\n",
              "      <th>Close</th>\n",
              "    </tr>\n",
              "    <tr>\n",
              "      <th>Date</th>\n",
              "      <th></th>\n",
              "    </tr>\n",
              "  </thead>\n",
              "  <tbody>\n",
              "    <tr>\n",
              "      <th>2019-11-21</th>\n",
              "      <td>41585</td>\n",
              "    </tr>\n",
              "    <tr>\n",
              "      <th>2019-11-22</th>\n",
              "      <td>41629</td>\n",
              "    </tr>\n",
              "    <tr>\n",
              "      <th>2019-11-23</th>\n",
              "      <td>41629</td>\n",
              "    </tr>\n",
              "    <tr>\n",
              "      <th>2019-11-24</th>\n",
              "      <td>41629</td>\n",
              "    </tr>\n",
              "    <tr>\n",
              "      <th>2019-11-25</th>\n",
              "      <td>41718</td>\n",
              "    </tr>\n",
              "  </tbody>\n",
              "</table>\n",
              "</div>\n",
              "    <div class=\"colab-df-buttons\">\n",
              "\n",
              "  <div class=\"colab-df-container\">\n",
              "    <button class=\"colab-df-convert\" onclick=\"convertToInteractive('df-56a0b6b2-7117-4c4e-9670-52366a03554c')\"\n",
              "            title=\"Convert this dataframe to an interactive table.\"\n",
              "            style=\"display:none;\">\n",
              "\n",
              "  <svg xmlns=\"http://www.w3.org/2000/svg\" height=\"24px\" viewBox=\"0 -960 960 960\">\n",
              "    <path d=\"M120-120v-720h720v720H120Zm60-500h600v-160H180v160Zm220 220h160v-160H400v160Zm0 220h160v-160H400v160ZM180-400h160v-160H180v160Zm440 0h160v-160H620v160ZM180-180h160v-160H180v160Zm440 0h160v-160H620v160Z\"/>\n",
              "  </svg>\n",
              "    </button>\n",
              "\n",
              "  <style>\n",
              "    .colab-df-container {\n",
              "      display:flex;\n",
              "      gap: 12px;\n",
              "    }\n",
              "\n",
              "    .colab-df-convert {\n",
              "      background-color: #E8F0FE;\n",
              "      border: none;\n",
              "      border-radius: 50%;\n",
              "      cursor: pointer;\n",
              "      display: none;\n",
              "      fill: #1967D2;\n",
              "      height: 32px;\n",
              "      padding: 0 0 0 0;\n",
              "      width: 32px;\n",
              "    }\n",
              "\n",
              "    .colab-df-convert:hover {\n",
              "      background-color: #E2EBFA;\n",
              "      box-shadow: 0px 1px 2px rgba(60, 64, 67, 0.3), 0px 1px 3px 1px rgba(60, 64, 67, 0.15);\n",
              "      fill: #174EA6;\n",
              "    }\n",
              "\n",
              "    .colab-df-buttons div {\n",
              "      margin-bottom: 4px;\n",
              "    }\n",
              "\n",
              "    [theme=dark] .colab-df-convert {\n",
              "      background-color: #3B4455;\n",
              "      fill: #D2E3FC;\n",
              "    }\n",
              "\n",
              "    [theme=dark] .colab-df-convert:hover {\n",
              "      background-color: #434B5C;\n",
              "      box-shadow: 0px 1px 3px 1px rgba(0, 0, 0, 0.15);\n",
              "      filter: drop-shadow(0px 1px 2px rgba(0, 0, 0, 0.3));\n",
              "      fill: #FFFFFF;\n",
              "    }\n",
              "  </style>\n",
              "\n",
              "    <script>\n",
              "      const buttonEl =\n",
              "        document.querySelector('#df-56a0b6b2-7117-4c4e-9670-52366a03554c button.colab-df-convert');\n",
              "      buttonEl.style.display =\n",
              "        google.colab.kernel.accessAllowed ? 'block' : 'none';\n",
              "\n",
              "      async function convertToInteractive(key) {\n",
              "        const element = document.querySelector('#df-56a0b6b2-7117-4c4e-9670-52366a03554c');\n",
              "        const dataTable =\n",
              "          await google.colab.kernel.invokeFunction('convertToInteractive',\n",
              "                                                    [key], {});\n",
              "        if (!dataTable) return;\n",
              "\n",
              "        const docLinkHtml = 'Like what you see? Visit the ' +\n",
              "          '<a target=\"_blank\" href=https://colab.research.google.com/notebooks/data_table.ipynb>data table notebook</a>'\n",
              "          + ' to learn more about interactive tables.';\n",
              "        element.innerHTML = '';\n",
              "        dataTable['output_type'] = 'display_data';\n",
              "        await google.colab.output.renderOutput(dataTable, element);\n",
              "        const docLink = document.createElement('div');\n",
              "        docLink.innerHTML = docLinkHtml;\n",
              "        element.appendChild(docLink);\n",
              "      }\n",
              "    </script>\n",
              "  </div>\n",
              "\n",
              "\n",
              "<div id=\"df-7f408977-5c65-4931-9d55-3afc1351270e\">\n",
              "  <button class=\"colab-df-quickchart\" onclick=\"quickchart('df-7f408977-5c65-4931-9d55-3afc1351270e')\"\n",
              "            title=\"Suggest charts\"\n",
              "            style=\"display:none;\">\n",
              "\n",
              "<svg xmlns=\"http://www.w3.org/2000/svg\" height=\"24px\"viewBox=\"0 0 24 24\"\n",
              "     width=\"24px\">\n",
              "    <g>\n",
              "        <path d=\"M19 3H5c-1.1 0-2 .9-2 2v14c0 1.1.9 2 2 2h14c1.1 0 2-.9 2-2V5c0-1.1-.9-2-2-2zM9 17H7v-7h2v7zm4 0h-2V7h2v10zm4 0h-2v-4h2v4z\"/>\n",
              "    </g>\n",
              "</svg>\n",
              "  </button>\n",
              "\n",
              "<style>\n",
              "  .colab-df-quickchart {\n",
              "      --bg-color: #E8F0FE;\n",
              "      --fill-color: #1967D2;\n",
              "      --hover-bg-color: #E2EBFA;\n",
              "      --hover-fill-color: #174EA6;\n",
              "      --disabled-fill-color: #AAA;\n",
              "      --disabled-bg-color: #DDD;\n",
              "  }\n",
              "\n",
              "  [theme=dark] .colab-df-quickchart {\n",
              "      --bg-color: #3B4455;\n",
              "      --fill-color: #D2E3FC;\n",
              "      --hover-bg-color: #434B5C;\n",
              "      --hover-fill-color: #FFFFFF;\n",
              "      --disabled-bg-color: #3B4455;\n",
              "      --disabled-fill-color: #666;\n",
              "  }\n",
              "\n",
              "  .colab-df-quickchart {\n",
              "    background-color: var(--bg-color);\n",
              "    border: none;\n",
              "    border-radius: 50%;\n",
              "    cursor: pointer;\n",
              "    display: none;\n",
              "    fill: var(--fill-color);\n",
              "    height: 32px;\n",
              "    padding: 0;\n",
              "    width: 32px;\n",
              "  }\n",
              "\n",
              "  .colab-df-quickchart:hover {\n",
              "    background-color: var(--hover-bg-color);\n",
              "    box-shadow: 0 1px 2px rgba(60, 64, 67, 0.3), 0 1px 3px 1px rgba(60, 64, 67, 0.15);\n",
              "    fill: var(--button-hover-fill-color);\n",
              "  }\n",
              "\n",
              "  .colab-df-quickchart-complete:disabled,\n",
              "  .colab-df-quickchart-complete:disabled:hover {\n",
              "    background-color: var(--disabled-bg-color);\n",
              "    fill: var(--disabled-fill-color);\n",
              "    box-shadow: none;\n",
              "  }\n",
              "\n",
              "  .colab-df-spinner {\n",
              "    border: 2px solid var(--fill-color);\n",
              "    border-color: transparent;\n",
              "    border-bottom-color: var(--fill-color);\n",
              "    animation:\n",
              "      spin 1s steps(1) infinite;\n",
              "  }\n",
              "\n",
              "  @keyframes spin {\n",
              "    0% {\n",
              "      border-color: transparent;\n",
              "      border-bottom-color: var(--fill-color);\n",
              "      border-left-color: var(--fill-color);\n",
              "    }\n",
              "    20% {\n",
              "      border-color: transparent;\n",
              "      border-left-color: var(--fill-color);\n",
              "      border-top-color: var(--fill-color);\n",
              "    }\n",
              "    30% {\n",
              "      border-color: transparent;\n",
              "      border-left-color: var(--fill-color);\n",
              "      border-top-color: var(--fill-color);\n",
              "      border-right-color: var(--fill-color);\n",
              "    }\n",
              "    40% {\n",
              "      border-color: transparent;\n",
              "      border-right-color: var(--fill-color);\n",
              "      border-top-color: var(--fill-color);\n",
              "    }\n",
              "    60% {\n",
              "      border-color: transparent;\n",
              "      border-right-color: var(--fill-color);\n",
              "    }\n",
              "    80% {\n",
              "      border-color: transparent;\n",
              "      border-right-color: var(--fill-color);\n",
              "      border-bottom-color: var(--fill-color);\n",
              "    }\n",
              "    90% {\n",
              "      border-color: transparent;\n",
              "      border-bottom-color: var(--fill-color);\n",
              "    }\n",
              "  }\n",
              "</style>\n",
              "\n",
              "  <script>\n",
              "    async function quickchart(key) {\n",
              "      const quickchartButtonEl =\n",
              "        document.querySelector('#' + key + ' button');\n",
              "      quickchartButtonEl.disabled = true;  // To prevent multiple clicks.\n",
              "      quickchartButtonEl.classList.add('colab-df-spinner');\n",
              "      try {\n",
              "        const charts = await google.colab.kernel.invokeFunction(\n",
              "            'suggestCharts', [key], {});\n",
              "      } catch (error) {\n",
              "        console.error('Error during call to suggestCharts:', error);\n",
              "      }\n",
              "      quickchartButtonEl.classList.remove('colab-df-spinner');\n",
              "      quickchartButtonEl.classList.add('colab-df-quickchart-complete');\n",
              "    }\n",
              "    (() => {\n",
              "      let quickchartButtonEl =\n",
              "        document.querySelector('#df-7f408977-5c65-4931-9d55-3afc1351270e button');\n",
              "      quickchartButtonEl.style.display =\n",
              "        google.colab.kernel.accessAllowed ? 'block' : 'none';\n",
              "    })();\n",
              "  </script>\n",
              "</div>\n",
              "\n",
              "    </div>\n",
              "  </div>\n"
            ],
            "application/vnd.google.colaboratory.intrinsic+json": {
              "type": "dataframe",
              "summary": "{\n  \"name\": \"df_train\",\n  \"rows\": 5,\n  \"fields\": [\n    {\n      \"column\": \"Date\",\n      \"properties\": {\n        \"dtype\": \"date\",\n        \"min\": \"2019-11-21 00:00:00\",\n        \"max\": \"2019-11-25 00:00:00\",\n        \"num_unique_values\": 5,\n        \"samples\": [\n          \"2019-11-22 00:00:00\",\n          \"2019-11-25 00:00:00\",\n          \"2019-11-23 00:00:00\"\n        ],\n        \"semantic_type\": \"\",\n        \"description\": \"\"\n      }\n    },\n    {\n      \"column\": \"Close\",\n      \"properties\": {\n        \"dtype\": \"number\",\n        \"std\": 48,\n        \"min\": 41585,\n        \"max\": 41718,\n        \"num_unique_values\": 3,\n        \"samples\": [\n          41585,\n          41629,\n          41718\n        ],\n        \"semantic_type\": \"\",\n        \"description\": \"\"\n      }\n    }\n  ]\n}"
            }
          },
          "metadata": {},
          "execution_count": 7
        }
      ]
    },
    {
      "cell_type": "code",
      "source": [
        "df_test.head()"
      ],
      "metadata": {
        "colab": {
          "base_uri": "https://localhost:8080/",
          "height": 237
        },
        "id": "3qGvQM-HBLKE",
        "outputId": "b8086fa1-d996-413d-8b71-91f90c121c7f"
      },
      "execution_count": 8,
      "outputs": [
        {
          "output_type": "execute_result",
          "data": {
            "text/plain": [
              "            Close\n",
              "Date             \n",
              "2019-11-26  41863\n",
              "2019-11-27  41976\n",
              "2019-11-28  41985\n",
              "2019-11-29  41915\n",
              "2019-11-30  41915"
            ],
            "text/html": [
              "\n",
              "  <div id=\"df-89558387-0f88-4f2a-acd6-f739b90e72ab\" class=\"colab-df-container\">\n",
              "    <div>\n",
              "<style scoped>\n",
              "    .dataframe tbody tr th:only-of-type {\n",
              "        vertical-align: middle;\n",
              "    }\n",
              "\n",
              "    .dataframe tbody tr th {\n",
              "        vertical-align: top;\n",
              "    }\n",
              "\n",
              "    .dataframe thead th {\n",
              "        text-align: right;\n",
              "    }\n",
              "</style>\n",
              "<table border=\"1\" class=\"dataframe\">\n",
              "  <thead>\n",
              "    <tr style=\"text-align: right;\">\n",
              "      <th></th>\n",
              "      <th>Close</th>\n",
              "    </tr>\n",
              "    <tr>\n",
              "      <th>Date</th>\n",
              "      <th></th>\n",
              "    </tr>\n",
              "  </thead>\n",
              "  <tbody>\n",
              "    <tr>\n",
              "      <th>2019-11-26</th>\n",
              "      <td>41863</td>\n",
              "    </tr>\n",
              "    <tr>\n",
              "      <th>2019-11-27</th>\n",
              "      <td>41976</td>\n",
              "    </tr>\n",
              "    <tr>\n",
              "      <th>2019-11-28</th>\n",
              "      <td>41985</td>\n",
              "    </tr>\n",
              "    <tr>\n",
              "      <th>2019-11-29</th>\n",
              "      <td>41915</td>\n",
              "    </tr>\n",
              "    <tr>\n",
              "      <th>2019-11-30</th>\n",
              "      <td>41915</td>\n",
              "    </tr>\n",
              "  </tbody>\n",
              "</table>\n",
              "</div>\n",
              "    <div class=\"colab-df-buttons\">\n",
              "\n",
              "  <div class=\"colab-df-container\">\n",
              "    <button class=\"colab-df-convert\" onclick=\"convertToInteractive('df-89558387-0f88-4f2a-acd6-f739b90e72ab')\"\n",
              "            title=\"Convert this dataframe to an interactive table.\"\n",
              "            style=\"display:none;\">\n",
              "\n",
              "  <svg xmlns=\"http://www.w3.org/2000/svg\" height=\"24px\" viewBox=\"0 -960 960 960\">\n",
              "    <path d=\"M120-120v-720h720v720H120Zm60-500h600v-160H180v160Zm220 220h160v-160H400v160Zm0 220h160v-160H400v160ZM180-400h160v-160H180v160Zm440 0h160v-160H620v160ZM180-180h160v-160H180v160Zm440 0h160v-160H620v160Z\"/>\n",
              "  </svg>\n",
              "    </button>\n",
              "\n",
              "  <style>\n",
              "    .colab-df-container {\n",
              "      display:flex;\n",
              "      gap: 12px;\n",
              "    }\n",
              "\n",
              "    .colab-df-convert {\n",
              "      background-color: #E8F0FE;\n",
              "      border: none;\n",
              "      border-radius: 50%;\n",
              "      cursor: pointer;\n",
              "      display: none;\n",
              "      fill: #1967D2;\n",
              "      height: 32px;\n",
              "      padding: 0 0 0 0;\n",
              "      width: 32px;\n",
              "    }\n",
              "\n",
              "    .colab-df-convert:hover {\n",
              "      background-color: #E2EBFA;\n",
              "      box-shadow: 0px 1px 2px rgba(60, 64, 67, 0.3), 0px 1px 3px 1px rgba(60, 64, 67, 0.15);\n",
              "      fill: #174EA6;\n",
              "    }\n",
              "\n",
              "    .colab-df-buttons div {\n",
              "      margin-bottom: 4px;\n",
              "    }\n",
              "\n",
              "    [theme=dark] .colab-df-convert {\n",
              "      background-color: #3B4455;\n",
              "      fill: #D2E3FC;\n",
              "    }\n",
              "\n",
              "    [theme=dark] .colab-df-convert:hover {\n",
              "      background-color: #434B5C;\n",
              "      box-shadow: 0px 1px 3px 1px rgba(0, 0, 0, 0.15);\n",
              "      filter: drop-shadow(0px 1px 2px rgba(0, 0, 0, 0.3));\n",
              "      fill: #FFFFFF;\n",
              "    }\n",
              "  </style>\n",
              "\n",
              "    <script>\n",
              "      const buttonEl =\n",
              "        document.querySelector('#df-89558387-0f88-4f2a-acd6-f739b90e72ab button.colab-df-convert');\n",
              "      buttonEl.style.display =\n",
              "        google.colab.kernel.accessAllowed ? 'block' : 'none';\n",
              "\n",
              "      async function convertToInteractive(key) {\n",
              "        const element = document.querySelector('#df-89558387-0f88-4f2a-acd6-f739b90e72ab');\n",
              "        const dataTable =\n",
              "          await google.colab.kernel.invokeFunction('convertToInteractive',\n",
              "                                                    [key], {});\n",
              "        if (!dataTable) return;\n",
              "\n",
              "        const docLinkHtml = 'Like what you see? Visit the ' +\n",
              "          '<a target=\"_blank\" href=https://colab.research.google.com/notebooks/data_table.ipynb>data table notebook</a>'\n",
              "          + ' to learn more about interactive tables.';\n",
              "        element.innerHTML = '';\n",
              "        dataTable['output_type'] = 'display_data';\n",
              "        await google.colab.output.renderOutput(dataTable, element);\n",
              "        const docLink = document.createElement('div');\n",
              "        docLink.innerHTML = docLinkHtml;\n",
              "        element.appendChild(docLink);\n",
              "      }\n",
              "    </script>\n",
              "  </div>\n",
              "\n",
              "\n",
              "<div id=\"df-0057e7b6-62b0-45ca-b27e-18c5888180ae\">\n",
              "  <button class=\"colab-df-quickchart\" onclick=\"quickchart('df-0057e7b6-62b0-45ca-b27e-18c5888180ae')\"\n",
              "            title=\"Suggest charts\"\n",
              "            style=\"display:none;\">\n",
              "\n",
              "<svg xmlns=\"http://www.w3.org/2000/svg\" height=\"24px\"viewBox=\"0 0 24 24\"\n",
              "     width=\"24px\">\n",
              "    <g>\n",
              "        <path d=\"M19 3H5c-1.1 0-2 .9-2 2v14c0 1.1.9 2 2 2h14c1.1 0 2-.9 2-2V5c0-1.1-.9-2-2-2zM9 17H7v-7h2v7zm4 0h-2V7h2v10zm4 0h-2v-4h2v4z\"/>\n",
              "    </g>\n",
              "</svg>\n",
              "  </button>\n",
              "\n",
              "<style>\n",
              "  .colab-df-quickchart {\n",
              "      --bg-color: #E8F0FE;\n",
              "      --fill-color: #1967D2;\n",
              "      --hover-bg-color: #E2EBFA;\n",
              "      --hover-fill-color: #174EA6;\n",
              "      --disabled-fill-color: #AAA;\n",
              "      --disabled-bg-color: #DDD;\n",
              "  }\n",
              "\n",
              "  [theme=dark] .colab-df-quickchart {\n",
              "      --bg-color: #3B4455;\n",
              "      --fill-color: #D2E3FC;\n",
              "      --hover-bg-color: #434B5C;\n",
              "      --hover-fill-color: #FFFFFF;\n",
              "      --disabled-bg-color: #3B4455;\n",
              "      --disabled-fill-color: #666;\n",
              "  }\n",
              "\n",
              "  .colab-df-quickchart {\n",
              "    background-color: var(--bg-color);\n",
              "    border: none;\n",
              "    border-radius: 50%;\n",
              "    cursor: pointer;\n",
              "    display: none;\n",
              "    fill: var(--fill-color);\n",
              "    height: 32px;\n",
              "    padding: 0;\n",
              "    width: 32px;\n",
              "  }\n",
              "\n",
              "  .colab-df-quickchart:hover {\n",
              "    background-color: var(--hover-bg-color);\n",
              "    box-shadow: 0 1px 2px rgba(60, 64, 67, 0.3), 0 1px 3px 1px rgba(60, 64, 67, 0.15);\n",
              "    fill: var(--button-hover-fill-color);\n",
              "  }\n",
              "\n",
              "  .colab-df-quickchart-complete:disabled,\n",
              "  .colab-df-quickchart-complete:disabled:hover {\n",
              "    background-color: var(--disabled-bg-color);\n",
              "    fill: var(--disabled-fill-color);\n",
              "    box-shadow: none;\n",
              "  }\n",
              "\n",
              "  .colab-df-spinner {\n",
              "    border: 2px solid var(--fill-color);\n",
              "    border-color: transparent;\n",
              "    border-bottom-color: var(--fill-color);\n",
              "    animation:\n",
              "      spin 1s steps(1) infinite;\n",
              "  }\n",
              "\n",
              "  @keyframes spin {\n",
              "    0% {\n",
              "      border-color: transparent;\n",
              "      border-bottom-color: var(--fill-color);\n",
              "      border-left-color: var(--fill-color);\n",
              "    }\n",
              "    20% {\n",
              "      border-color: transparent;\n",
              "      border-left-color: var(--fill-color);\n",
              "      border-top-color: var(--fill-color);\n",
              "    }\n",
              "    30% {\n",
              "      border-color: transparent;\n",
              "      border-left-color: var(--fill-color);\n",
              "      border-top-color: var(--fill-color);\n",
              "      border-right-color: var(--fill-color);\n",
              "    }\n",
              "    40% {\n",
              "      border-color: transparent;\n",
              "      border-right-color: var(--fill-color);\n",
              "      border-top-color: var(--fill-color);\n",
              "    }\n",
              "    60% {\n",
              "      border-color: transparent;\n",
              "      border-right-color: var(--fill-color);\n",
              "    }\n",
              "    80% {\n",
              "      border-color: transparent;\n",
              "      border-right-color: var(--fill-color);\n",
              "      border-bottom-color: var(--fill-color);\n",
              "    }\n",
              "    90% {\n",
              "      border-color: transparent;\n",
              "      border-bottom-color: var(--fill-color);\n",
              "    }\n",
              "  }\n",
              "</style>\n",
              "\n",
              "  <script>\n",
              "    async function quickchart(key) {\n",
              "      const quickchartButtonEl =\n",
              "        document.querySelector('#' + key + ' button');\n",
              "      quickchartButtonEl.disabled = true;  // To prevent multiple clicks.\n",
              "      quickchartButtonEl.classList.add('colab-df-spinner');\n",
              "      try {\n",
              "        const charts = await google.colab.kernel.invokeFunction(\n",
              "            'suggestCharts', [key], {});\n",
              "      } catch (error) {\n",
              "        console.error('Error during call to suggestCharts:', error);\n",
              "      }\n",
              "      quickchartButtonEl.classList.remove('colab-df-spinner');\n",
              "      quickchartButtonEl.classList.add('colab-df-quickchart-complete');\n",
              "    }\n",
              "    (() => {\n",
              "      let quickchartButtonEl =\n",
              "        document.querySelector('#df-0057e7b6-62b0-45ca-b27e-18c5888180ae button');\n",
              "      quickchartButtonEl.style.display =\n",
              "        google.colab.kernel.accessAllowed ? 'block' : 'none';\n",
              "    })();\n",
              "  </script>\n",
              "</div>\n",
              "\n",
              "    </div>\n",
              "  </div>\n"
            ],
            "application/vnd.google.colaboratory.intrinsic+json": {
              "type": "dataframe",
              "variable_name": "df_test",
              "summary": "{\n  \"name\": \"df_test\",\n  \"rows\": 1582,\n  \"fields\": [\n    {\n      \"column\": \"Date\",\n      \"properties\": {\n        \"dtype\": \"date\",\n        \"min\": \"2019-11-26 00:00:00\",\n        \"max\": \"2024-03-25 00:00:00\",\n        \"num_unique_values\": 1582,\n        \"samples\": [\n          \"2022-12-24 00:00:00\",\n          \"2022-02-16 00:00:00\",\n          \"2023-02-13 00:00:00\"\n        ],\n        \"semantic_type\": \"\",\n        \"description\": \"\"\n      }\n    },\n    {\n      \"column\": \"Close\",\n      \"properties\": {\n        \"dtype\": \"number\",\n        \"std\": 4099,\n        \"min\": 37500,\n        \"max\": 55004,\n        \"num_unique_values\": 1041,\n        \"samples\": [\n          44843,\n          48336,\n          46127\n        ],\n        \"semantic_type\": \"\",\n        \"description\": \"\"\n      }\n    }\n  ]\n}"
            }
          },
          "metadata": {},
          "execution_count": 8
        }
      ]
    },
    {
      "cell_type": "markdown",
      "source": [
        "#Analizar tendencia, estacionalidad y residuos de la serie"
      ],
      "metadata": {
        "id": "n9iOvA56_cbL"
      }
    },
    {
      "cell_type": "code",
      "source": [
        "s_dec_additive = seasonal_decompose(df_train, model = 'additive')\n",
        "s_dec_additive.plot()\n",
        "plt.show()"
      ],
      "metadata": {
        "colab": {
          "base_uri": "https://localhost:8080/",
          "height": 480
        },
        "id": "-NhejpF8_jo_",
        "outputId": "ed87d8ef-7781-4dd3-d88f-41c2c862dab7"
      },
      "execution_count": 9,
      "outputs": [
        {
          "output_type": "display_data",
          "data": {
            "text/plain": [
              "<Figure size 640x480 with 4 Axes>"
            ],
            "image/png": "[encoded data removed]"
          },
          "metadata": {}
        }
      ]
    },
    {
      "cell_type": "code",
      "source": [
        "s_dec_multiplicative = seasonal_decompose(df_train, model = 'multiplicative')    #En ambos casos no se evidencia una estacionalidad, pero si una tendencia positiva\n",
        "s_dec_multiplicative.plot()\n",
        "plt.show()"
      ],
      "metadata": {
        "colab": {
          "base_uri": "https://localhost:8080/",
          "height": 480
        },
        "id": "WfxzVecXDSZL",
        "outputId": "0a969e0d-5d4a-493a-d5c4-1e394c526c7b"
      },
      "execution_count": 10,
      "outputs": [
        {
          "output_type": "display_data",
          "data": {
            "text/plain": [
              "<Figure size 640x480 with 4 Axes>"
            ],
            "image/png": "[encoded data removed]"
          },
          "metadata": {}
        }
      ]
    },
    {
      "cell_type": "markdown",
      "source": [
        "#Análisis de estacionaridad"
      ],
      "metadata": {
        "id": "5F6SqdLBDk3x"
      }
    },
    {
      "cell_type": "code",
      "source": [
        "sts.adfuller(df_train.Close)     #Se obtuvo un valor P de 99% por lo que con una significancia de 5% existe evidencia de que no es una serie estacionaria"
      ],
      "metadata": {
        "colab": {
          "base_uri": "https://localhost:8080/"
        },
        "id": "ilQJmzecDgaz",
        "outputId": "3c690e27-73ea-4962-e05b-f1860c873526"
      },
      "execution_count": 11,
      "outputs": [
        {
          "output_type": "execute_result",
          "data": {
            "text/plain": [
              "(1.4608997808718673,\n",
              " 0.9973739770800493,\n",
              " 32,\n",
              " 6293,\n",
              " {'1%': -3.4313895629133992,\n",
              "  '5%': -2.8619993951727514,\n",
              "  '10%': -2.567014533031778},\n",
              " 63407.25471217314)"
            ]
          },
          "metadata": {},
          "execution_count": 11
        }
      ]
    },
    {
      "cell_type": "markdown",
      "source": [
        "#Probar modelos que realicen la mejor predicción de la serie"
      ],
      "metadata": {
        "id": "0Idmd1vyD52o"
      }
    },
    {
      "cell_type": "markdown",
      "source": [
        "##Se define una función de log verosimilitud que pueda comparar qué modelo es mejor"
      ],
      "metadata": {
        "id": "lKVhrZRqEB5K"
      }
    },
    {
      "cell_type": "code",
      "source": [
        "def LLR_test(mod_1, mod_2, DF = 1):             #DF son los grados de libertad y se calculan con la diferencia en la cantidad de parametros que se necesita entre ambas predicciones\n",
        "  L1 = mod_1.llf                                #llf es para calcular log verosimilitud de cada predicción\n",
        "  L2 = mod_2.llf\n",
        "  LR = (2*(L2 - L1))\n",
        "  p = chi2.sf(LR,DF).round(3)\n",
        "  return p"
      ],
      "metadata": {
        "id": "cWQkXuXoEPwQ"
      },
      "execution_count": 12,
      "outputs": []
    },
    {
      "cell_type": "markdown",
      "source": [
        "##Modelos autoregresivos"
      ],
      "metadata": {
        "id": "aHr47GeOEKAh"
      }
    },
    {
      "cell_type": "markdown",
      "source": [
        "###Crear los retornos"
      ],
      "metadata": {
        "id": "UD56aNUFEa7h"
      }
    },
    {
      "cell_type": "code",
      "source": [
        "df_train['returns'] = df_train.Close.pct_change(1).mul(100)"
      ],
      "metadata": {
        "colab": {
          "base_uri": "https://localhost:8080/"
        },
        "id": "-U-I-WrEJflM",
        "outputId": "ce203cd8-e65e-43ea-9cbf-dfdf4e1730c8"
      },
      "execution_count": 13,
      "outputs": [
        {
          "output_type": "stream",
          "name": "stderr",
          "text": [
            "<ipython-input-13-70c3f036e9fb>:1: SettingWithCopyWarning: \n",
            "A value is trying to be set on a copy of a slice from a DataFrame.\n",
            "Try using .loc[row_indexer,col_indexer] = value instead\n",
            "\n",
            "See the caveats in the documentation: https://pandas.pydata.org/pandas-docs/stable/user_guide/indexing.html#returning-a-view-versus-a-copy\n",
            "  df_train['returns'] = df_train.Close.pct_change(1).mul(100)\n"
          ]
        }
      ]
    },
    {
      "cell_type": "code",
      "source": [
        "df_train.head()"
      ],
      "metadata": {
        "colab": {
          "base_uri": "https://localhost:8080/",
          "height": 237
        },
        "id": "a8h99iEALGeh",
        "outputId": "d85eebd2-561c-42dc-9075-000a004bf11d"
      },
      "execution_count": 14,
      "outputs": [
        {
          "output_type": "execute_result",
          "data": {
            "text/plain": [
              "            Close   returns\n",
              "Date                       \n",
              "2002-08-01  11778       NaN\n",
              "2002-08-02  11775 -0.025471\n",
              "2002-08-03  11775  0.000000\n",
              "2002-08-04  11775  0.000000\n",
              "2002-08-05  11796  0.178344"
            ],
            "text/html": [
              "\n",
              "  <div id=\"df-d8293e56-d1af-47f3-a5e1-069170de247c\" class=\"colab-df-container\">\n",
              "    <div>\n",
              "<style scoped>\n",
              "    .dataframe tbody tr th:only-of-type {\n",
              "        vertical-align: middle;\n",
              "    }\n",
              "\n",
              "    .dataframe tbody tr th {\n",
              "        vertical-align: top;\n",
              "    }\n",
              "\n",
              "    .dataframe thead th {\n",
              "        text-align: right;\n",
              "    }\n",
              "</style>\n",
              "<table border=\"1\" class=\"dataframe\">\n",
              "  <thead>\n",
              "    <tr style=\"text-align: right;\">\n",
              "      <th></th>\n",
              "      <th>Close</th>\n",
              "      <th>returns</th>\n",
              "    </tr>\n",
              "    <tr>\n",
              "      <th>Date</th>\n",
              "      <th></th>\n",
              "      <th></th>\n",
              "    </tr>\n",
              "  </thead>\n",
              "  <tbody>\n",
              "    <tr>\n",
              "      <th>2002-08-01</th>\n",
              "      <td>11778</td>\n",
              "      <td>NaN</td>\n",
              "    </tr>\n",
              "    <tr>\n",
              "      <th>2002-08-02</th>\n",
              "      <td>11775</td>\n",
              "      <td>-0.025471</td>\n",
              "    </tr>\n",
              "    <tr>\n",
              "      <th>2002-08-03</th>\n",
              "      <td>11775</td>\n",
              "      <td>0.000000</td>\n",
              "    </tr>\n",
              "    <tr>\n",
              "      <th>2002-08-04</th>\n",
              "      <td>11775</td>\n",
              "      <td>0.000000</td>\n",
              "    </tr>\n",
              "    <tr>\n",
              "      <th>2002-08-05</th>\n",
              "      <td>11796</td>\n",
              "      <td>0.178344</td>\n",
              "    </tr>\n",
              "  </tbody>\n",
              "</table>\n",
              "</div>\n",
              "    <div class=\"colab-df-buttons\">\n",
              "\n",
              "  <div class=\"colab-df-container\">\n",
              "    <button class=\"colab-df-convert\" onclick=\"convertToInteractive('df-d8293e56-d1af-47f3-a5e1-069170de247c')\"\n",
              "            title=\"Convert this dataframe to an interactive table.\"\n",
              "            style=\"display:none;\">\n",
              "\n",
              "  <svg xmlns=\"http://www.w3.org/2000/svg\" height=\"24px\" viewBox=\"0 -960 960 960\">\n",
              "    <path d=\"M120-120v-720h720v720H120Zm60-500h600v-160H180v160Zm220 220h160v-160H400v160Zm0 220h160v-160H400v160ZM180-400h160v-160H180v160Zm440 0h160v-160H620v160ZM180-180h160v-160H180v160Zm440 0h160v-160H620v160Z\"/>\n",
              "  </svg>\n",
              "    </button>\n",
              "\n",
              "  <style>\n",
              "    .colab-df-container {\n",
              "      display:flex;\n",
              "      gap: 12px;\n",
              "    }\n",
              "\n",
              "    .colab-df-convert {\n",
              "      background-color: #E8F0FE;\n",
              "      border: none;\n",
              "      border-radius: 50%;\n",
              "      cursor: pointer;\n",
              "      display: none;\n",
              "      fill: #1967D2;\n",
              "      height: 32px;\n",
              "      padding: 0 0 0 0;\n",
              "      width: 32px;\n",
              "    }\n",
              "\n",
              "    .colab-df-convert:hover {\n",
              "      background-color: #E2EBFA;\n",
              "      box-shadow: 0px 1px 2px rgba(60, 64, 67, 0.3), 0px 1px 3px 1px rgba(60, 64, 67, 0.15);\n",
              "      fill: #174EA6;\n",
              "    }\n",
              "\n",
              "    .colab-df-buttons div {\n",
              "      margin-bottom: 4px;\n",
              "    }\n",
              "\n",
              "    [theme=dark] .colab-df-convert {\n",
              "      background-color: #3B4455;\n",
              "      fill: #D2E3FC;\n",
              "    }\n",
              "\n",
              "    [theme=dark] .colab-df-convert:hover {\n",
              "      background-color: #434B5C;\n",
              "      box-shadow: 0px 1px 3px 1px rgba(0, 0, 0, 0.15);\n",
              "      filter: drop-shadow(0px 1px 2px rgba(0, 0, 0, 0.3));\n",
              "      fill: #FFFFFF;\n",
              "    }\n",
              "  </style>\n",
              "\n",
              "    <script>\n",
              "      const buttonEl =\n",
              "        document.querySelector('#df-d8293e56-d1af-47f3-a5e1-069170de247c button.colab-df-convert');\n",
              "      buttonEl.style.display =\n",
              "        google.colab.kernel.accessAllowed ? 'block' : 'none';\n",
              "\n",
              "      async function convertToInteractive(key) {\n",
              "        const element = document.querySelector('#df-d8293e56-d1af-47f3-a5e1-069170de247c');\n",
              "        const dataTable =\n",
              "          await google.colab.kernel.invokeFunction('convertToInteractive',\n",
              "                                                    [key], {});\n",
              "        if (!dataTable) return;\n",
              "\n",
              "        const docLinkHtml = 'Like what you see? Visit the ' +\n",
              "          '<a target=\"_blank\" href=https://colab.research.google.com/notebooks/data_table.ipynb>data table notebook</a>'\n",
              "          + ' to learn more about interactive tables.';\n",
              "        element.innerHTML = '';\n",
              "        dataTable['output_type'] = 'display_data';\n",
              "        await google.colab.output.renderOutput(dataTable, element);\n",
              "        const docLink = document.createElement('div');\n",
              "        docLink.innerHTML = docLinkHtml;\n",
              "        element.appendChild(docLink);\n",
              "      }\n",
              "    </script>\n",
              "  </div>\n",
              "\n",
              "\n",
              "<div id=\"df-329e142f-0662-4e5e-bf22-6d06fcee68e1\">\n",
              "  <button class=\"colab-df-quickchart\" onclick=\"quickchart('df-329e142f-0662-4e5e-bf22-6d06fcee68e1')\"\n",
              "            title=\"Suggest charts\"\n",
              "            style=\"display:none;\">\n",
              "\n",
              "<svg xmlns=\"http://www.w3.org/2000/svg\" height=\"24px\"viewBox=\"0 0 24 24\"\n",
              "     width=\"24px\">\n",
              "    <g>\n",
              "        <path d=\"M19 3H5c-1.1 0-2 .9-2 2v14c0 1.1.9 2 2 2h14c1.1 0 2-.9 2-2V5c0-1.1-.9-2-2-2zM9 17H7v-7h2v7zm4 0h-2V7h2v10zm4 0h-2v-4h2v4z\"/>\n",
              "    </g>\n",
              "</svg>\n",
              "  </button>\n",
              "\n",
              "<style>\n",
              "  .colab-df-quickchart {\n",
              "      --bg-color: #E8F0FE;\n",
              "      --fill-color: #1967D2;\n",
              "      --hover-bg-color: #E2EBFA;\n",
              "      --hover-fill-color: #174EA6;\n",
              "      --disabled-fill-color: #AAA;\n",
              "      --disabled-bg-color: #DDD;\n",
              "  }\n",
              "\n",
              "  [theme=dark] .colab-df-quickchart {\n",
              "      --bg-color: #3B4455;\n",
              "      --fill-color: #D2E3FC;\n",
              "      --hover-bg-color: #434B5C;\n",
              "      --hover-fill-color: #FFFFFF;\n",
              "      --disabled-bg-color: #3B4455;\n",
              "      --disabled-fill-color: #666;\n",
              "  }\n",
              "\n",
              "  .colab-df-quickchart {\n",
              "    background-color: var(--bg-color);\n",
              "    border: none;\n",
              "    border-radius: 50%;\n",
              "    cursor: pointer;\n",
              "    display: none;\n",
              "    fill: var(--fill-color);\n",
              "    height: 32px;\n",
              "    padding: 0;\n",
              "    width: 32px;\n",
              "  }\n",
              "\n",
              "  .colab-df-quickchart:hover {\n",
              "    background-color: var(--hover-bg-color);\n",
              "    box-shadow: 0 1px 2px rgba(60, 64, 67, 0.3), 0 1px 3px 1px rgba(60, 64, 67, 0.15);\n",
              "    fill: var(--button-hover-fill-color);\n",
              "  }\n",
              "\n",
              "  .colab-df-quickchart-complete:disabled,\n",
              "  .colab-df-quickchart-complete:disabled:hover {\n",
              "    background-color: var(--disabled-bg-color);\n",
              "    fill: var(--disabled-fill-color);\n",
              "    box-shadow: none;\n",
              "  }\n",
              "\n",
              "  .colab-df-spinner {\n",
              "    border: 2px solid var(--fill-color);\n",
              "    border-color: transparent;\n",
              "    border-bottom-color: var(--fill-color);\n",
              "    animation:\n",
              "      spin 1s steps(1) infinite;\n",
              "  }\n",
              "\n",
              "  @keyframes spin {\n",
              "    0% {\n",
              "      border-color: transparent;\n",
              "      border-bottom-color: var(--fill-color);\n",
              "      border-left-color: var(--fill-color);\n",
              "    }\n",
              "    20% {\n",
              "      border-color: transparent;\n",
              "      border-left-color: var(--fill-color);\n",
              "      border-top-color: var(--fill-color);\n",
              "    }\n",
              "    30% {\n",
              "      border-color: transparent;\n",
              "      border-left-color: var(--fill-color);\n",
              "      border-top-color: var(--fill-color);\n",
              "      border-right-color: var(--fill-color);\n",
              "    }\n",
              "    40% {\n",
              "      border-color: transparent;\n",
              "      border-right-color: var(--fill-color);\n",
              "      border-top-color: var(--fill-color);\n",
              "    }\n",
              "    60% {\n",
              "      border-color: transparent;\n",
              "      border-right-color: var(--fill-color);\n",
              "    }\n",
              "    80% {\n",
              "      border-color: transparent;\n",
              "      border-right-color: var(--fill-color);\n",
              "      border-bottom-color: var(--fill-color);\n",
              "    }\n",
              "    90% {\n",
              "      border-color: transparent;\n",
              "      border-bottom-color: var(--fill-color);\n",
              "    }\n",
              "  }\n",
              "</style>\n",
              "\n",
              "  <script>\n",
              "    async function quickchart(key) {\n",
              "      const quickchartButtonEl =\n",
              "        document.querySelector('#' + key + ' button');\n",
              "      quickchartButtonEl.disabled = true;  // To prevent multiple clicks.\n",
              "      quickchartButtonEl.classList.add('colab-df-spinner');\n",
              "      try {\n",
              "        const charts = await google.colab.kernel.invokeFunction(\n",
              "            'suggestCharts', [key], {});\n",
              "      } catch (error) {\n",
              "        console.error('Error during call to suggestCharts:', error);\n",
              "      }\n",
              "      quickchartButtonEl.classList.remove('colab-df-spinner');\n",
              "      quickchartButtonEl.classList.add('colab-df-quickchart-complete');\n",
              "    }\n",
              "    (() => {\n",
              "      let quickchartButtonEl =\n",
              "        document.querySelector('#df-329e142f-0662-4e5e-bf22-6d06fcee68e1 button');\n",
              "      quickchartButtonEl.style.display =\n",
              "        google.colab.kernel.accessAllowed ? 'block' : 'none';\n",
              "    })();\n",
              "  </script>\n",
              "</div>\n",
              "\n",
              "    </div>\n",
              "  </div>\n"
            ],
            "application/vnd.google.colaboratory.intrinsic+json": {
              "type": "dataframe",
              "variable_name": "df_train",
              "summary": "{\n  \"name\": \"df_train\",\n  \"rows\": 6326,\n  \"fields\": [\n    {\n      \"column\": \"Date\",\n      \"properties\": {\n        \"dtype\": \"date\",\n        \"min\": \"2002-08-01 00:00:00\",\n        \"max\": \"2019-11-25 00:00:00\",\n        \"num_unique_values\": 6326,\n        \"samples\": [\n          \"2006-01-13 00:00:00\",\n          \"2008-07-31 00:00:00\",\n          \"2011-10-23 00:00:00\"\n        ],\n        \"semantic_type\": \"\",\n        \"description\": \"\"\n      }\n    },\n    {\n      \"column\": \"Close\",\n      \"properties\": {\n        \"dtype\": \"number\",\n        \"std\": 8894,\n        \"min\": 11775,\n        \"max\": 44549,\n        \"num_unique_values\": 3803,\n        \"samples\": [\n          24369,\n          14113,\n          13886\n        ],\n        \"semantic_type\": \"\",\n        \"description\": \"\"\n      }\n    },\n    {\n      \"column\": \"returns\",\n      \"properties\": {\n        \"dtype\": \"number\",\n        \"std\": 0.1305114003898864,\n        \"min\": -3.7837837837837784,\n        \"max\": 3.8172150882824996,\n        \"num_unique_values\": 4223,\n        \"samples\": [\n          0.023938080165963882,\n          -0.07682044232402152,\n          0.0833664152441349\n        ],\n        \"semantic_type\": \"\",\n        \"description\": \"\"\n      }\n    }\n  ]\n}"
            }
          },
          "metadata": {},
          "execution_count": 14
        }
      ]
    },
    {
      "cell_type": "code",
      "source": [
        "sts.adfuller(df_train.returns[1:]) #Ahora si los retornos cumplen con la condición de ser estacionarios"
      ],
      "metadata": {
        "colab": {
          "base_uri": "https://localhost:8080/"
        },
        "id": "LV5G1PGlJzR9",
        "outputId": "407222a8-8c9d-4092-b151-602ce29d69ce"
      },
      "execution_count": 15,
      "outputs": [
        {
          "output_type": "execute_result",
          "data": {
            "text/plain": [
              "(-11.891480431149372,\n",
              " 5.854625974100925e-22,\n",
              " 31,\n",
              " 6293,\n",
              " {'1%': -3.4313895629133992,\n",
              "  '5%': -2.8619993951727514,\n",
              "  '10%': -2.567014533031778},\n",
              " -8415.189907521572)"
            ]
          },
          "metadata": {},
          "execution_count": 15
        }
      ]
    },
    {
      "cell_type": "markdown",
      "source": [
        "###Módelo autoregresivo de orden 1"
      ],
      "metadata": {
        "id": "n4kzdeReL57A"
      }
    },
    {
      "cell_type": "code",
      "source": [
        "model_ar_1 = ARIMA(df_train.returns[1:], order = (1,0,0))\n",
        "results_ar_1 = model_ar_1.fit()\n",
        "results_ar_1.summary()"
      ],
      "metadata": {
        "colab": {
          "base_uri": "https://localhost:8080/",
          "height": 426
        },
        "id": "d1DGB7qQEBOv",
        "outputId": "e9502259-fbb4-4ff3-b8dd-5bc2acb90364"
      },
      "execution_count": 16,
      "outputs": [
        {
          "output_type": "execute_result",
          "data": {
            "text/plain": [
              "<class 'statsmodels.iolib.summary.Summary'>\n",
              "\"\"\"\n",
              "                               SARIMAX Results                                \n",
              "==============================================================================\n",
              "Dep. Variable:                returns   No. Observations:                 6325\n",
              "Model:                 ARIMA(1, 0, 0)   Log Likelihood                4000.832\n",
              "Date:                Fri, 26 Apr 2024   AIC                          -7995.664\n",
              "Time:                        23:53:07   BIC                          -7975.407\n",
              "Sample:                    08-02-2002   HQIC                         -7988.648\n",
              "                         - 11-25-2019                                         \n",
              "Covariance Type:                  opg                                         \n",
              "==============================================================================\n",
              "                 coef    std err          z      P>|z|      [0.025      0.975]\n",
              "------------------------------------------------------------------------------\n",
              "const          0.0201      0.002      9.009      0.000       0.016       0.024\n",
              "ar.L1          0.1726      0.003     50.292      0.000       0.166       0.179\n",
              "sigma2         0.0165   3.55e-05    465.027      0.000       0.016       0.017\n",
              "===================================================================================\n",
              "Ljung-Box (L1) (Q):                   0.22   Jarque-Bera (JB):          12876049.69\n",
              "Prob(Q):                              0.64   Prob(JB):                         0.00\n",
              "Heteroskedasticity (H):               1.96   Skew:                             0.53\n",
              "Prob(H) (two-sided):                  0.00   Kurtosis:                       224.04\n",
              "===================================================================================\n",
              "\n",
              "Warnings:\n",
              "[1] Covariance matrix calculated using the outer product of gradients (complex-step).\n",
              "\"\"\""
            ],
            "text/html": [
              "<table class=\"simpletable\">\n",
              "<caption>SARIMAX Results</caption>\n",
              "<tr>\n",
              "  <th>Dep. Variable:</th>        <td>returns</td>     <th>  No. Observations:  </th>   <td>6325</td>   \n",
              "</tr>\n",
              "<tr>\n",
              "  <th>Model:</th>            <td>ARIMA(1, 0, 0)</td>  <th>  Log Likelihood     </th> <td>4000.832</td> \n",
              "</tr>\n",
              "<tr>\n",
              "  <th>Date:</th>            <td>Fri, 26 Apr 2024</td> <th>  AIC                </th> <td>-7995.664</td>\n",
              "</tr>\n",
              "<tr>\n",
              "  <th>Time:</th>                <td>23:53:07</td>     <th>  BIC                </th> <td>-7975.407</td>\n",
              "</tr>\n",
              "<tr>\n",
              "  <th>Sample:</th>             <td>08-02-2002</td>    <th>  HQIC               </th> <td>-7988.648</td>\n",
              "</tr>\n",
              "<tr>\n",
              "  <th></th>                   <td>- 11-25-2019</td>   <th>                     </th>     <td> </td>    \n",
              "</tr>\n",
              "<tr>\n",
              "  <th>Covariance Type:</th>        <td>opg</td>       <th>                     </th>     <td> </td>    \n",
              "</tr>\n",
              "</table>\n",
              "<table class=\"simpletable\">\n",
              "<tr>\n",
              "     <td></td>       <th>coef</th>     <th>std err</th>      <th>z</th>      <th>P>|z|</th>  <th>[0.025</th>    <th>0.975]</th>  \n",
              "</tr>\n",
              "<tr>\n",
              "  <th>const</th>  <td>    0.0201</td> <td>    0.002</td> <td>    9.009</td> <td> 0.000</td> <td>    0.016</td> <td>    0.024</td>\n",
              "</tr>\n",
              "<tr>\n",
              "  <th>ar.L1</th>  <td>    0.1726</td> <td>    0.003</td> <td>   50.292</td> <td> 0.000</td> <td>    0.166</td> <td>    0.179</td>\n",
              "</tr>\n",
              "<tr>\n",
              "  <th>sigma2</th> <td>    0.0165</td> <td> 3.55e-05</td> <td>  465.027</td> <td> 0.000</td> <td>    0.016</td> <td>    0.017</td>\n",
              "</tr>\n",
              "</table>\n",
              "<table class=\"simpletable\">\n",
              "<tr>\n",
              "  <th>Ljung-Box (L1) (Q):</th>     <td>0.22</td> <th>  Jarque-Bera (JB):  </th> <td>12876049.69</td>\n",
              "</tr>\n",
              "<tr>\n",
              "  <th>Prob(Q):</th>                <td>0.64</td> <th>  Prob(JB):          </th>    <td>0.00</td>    \n",
              "</tr>\n",
              "<tr>\n",
              "  <th>Heteroskedasticity (H):</th> <td>1.96</td> <th>  Skew:              </th>    <td>0.53</td>    \n",
              "</tr>\n",
              "<tr>\n",
              "  <th>Prob(H) (two-sided):</th>    <td>0.00</td> <th>  Kurtosis:          </th>   <td>224.04</td>   \n",
              "</tr>\n",
              "</table><br/><br/>Warnings:<br/>[1] Covariance matrix calculated using the outer product of gradients (complex-step)."
            ],
            "text/latex": "\\begin{center}\n\\begin{tabular}{lclc}\n\\toprule\n\\textbf{Dep. Variable:}          &     returns      & \\textbf{  No. Observations:  } &     6325     \\\\\n\\textbf{Model:}                  &  ARIMA(1, 0, 0)  & \\textbf{  Log Likelihood     } &   4000.832   \\\\\n\\textbf{Date:}                   & Fri, 26 Apr 2024 & \\textbf{  AIC                } &  -7995.664   \\\\\n\\textbf{Time:}                   &     23:53:07     & \\textbf{  BIC                } &  -7975.407   \\\\\n\\textbf{Sample:}                 &    08-02-2002    & \\textbf{  HQIC               } &  -7988.648   \\\\\n\\textbf{}                        &   - 11-25-2019   & \\textbf{                     } &              \\\\\n\\textbf{Covariance Type:}        &       opg        & \\textbf{                     } &              \\\\\n\\bottomrule\n\\end{tabular}\n\\begin{tabular}{lcccccc}\n                & \\textbf{coef} & \\textbf{std err} & \\textbf{z} & \\textbf{P$> |$z$|$} & \\textbf{[0.025} & \\textbf{0.975]}  \\\\\n\\midrule\n\\textbf{const}  &       0.0201  &        0.002     &     9.009  &         0.000        &        0.016    &        0.024     \\\\\n\\textbf{ar.L1}  &       0.1726  &        0.003     &    50.292  &         0.000        &        0.166    &        0.179     \\\\\n\\textbf{sigma2} &       0.0165  &     3.55e-05     &   465.027  &         0.000        &        0.016    &        0.017     \\\\\n\\bottomrule\n\\end{tabular}\n\\begin{tabular}{lclc}\n\\textbf{Ljung-Box (L1) (Q):}     & 0.22 & \\textbf{  Jarque-Bera (JB):  } & 12876049.69  \\\\\n\\textbf{Prob(Q):}                & 0.64 & \\textbf{  Prob(JB):          } &     0.00     \\\\\n\\textbf{Heteroskedasticity (H):} & 1.96 & \\textbf{  Skew:              } &     0.53     \\\\\n\\textbf{Prob(H) (two-sided):}    & 0.00 & \\textbf{  Kurtosis:          } &    224.04    \\\\\n\\bottomrule\n\\end{tabular}\n%\\caption{SARIMAX Results}\n\\end{center}\n\nWarnings: \\newline\n [1] Covariance matrix calculated using the outer product of gradients (complex-step)."
          },
          "metadata": {},
          "execution_count": 16
        }
      ]
    },
    {
      "cell_type": "markdown",
      "source": [
        "###Modelo autoregresivo de orden 2"
      ],
      "metadata": {
        "id": "flLdn9V5MSFe"
      }
    },
    {
      "cell_type": "code",
      "source": [
        "model_ar_2 = ARIMA(df_train.returns[1:], order = (2,0,0))\n",
        "results_ar_2 = model_ar_2.fit()\n",
        "print(results_ar_2.summary())\n",
        "print(\"\\nLLR test p-value = \" + str(LLR_test(results_ar_1,results_ar_2))) #Compara el modelo Autoregresivo de orden 1 con el de orden 2"
      ],
      "metadata": {
        "colab": {
          "base_uri": "https://localhost:8080/"
        },
        "id": "lvN5M2AAMVKB",
        "outputId": "b61b62bf-5fd1-4b94-d858-9546f7302871"
      },
      "execution_count": 17,
      "outputs": [
        {
          "output_type": "stream",
          "name": "stdout",
          "text": [
            "                               SARIMAX Results                                \n",
            "==============================================================================\n",
            "Dep. Variable:                returns   No. Observations:                 6325\n",
            "Model:                 ARIMA(2, 0, 0)   Log Likelihood                4004.473\n",
            "Date:                Fri, 26 Apr 2024   AIC                          -8000.947\n",
            "Time:                        23:53:14   BIC                          -7973.938\n",
            "Sample:                    08-02-2002   HQIC                         -7991.592\n",
            "                         - 11-25-2019                                         \n",
            "Covariance Type:                  opg                                         \n",
            "==============================================================================\n",
            "                 coef    std err          z      P>|z|      [0.025      0.975]\n",
            "------------------------------------------------------------------------------\n",
            "const          0.0201      0.002      8.655      0.000       0.016       0.025\n",
            "ar.L1          0.1667      0.005     30.358      0.000       0.156       0.177\n",
            "ar.L2          0.0339      0.008      4.400      0.000       0.019       0.049\n",
            "sigma2         0.0165   3.57e-05    461.701      0.000       0.016       0.017\n",
            "===================================================================================\n",
            "Ljung-Box (L1) (Q):                   0.12   Jarque-Bera (JB):          12604778.78\n",
            "Prob(Q):                              0.73   Prob(JB):                         0.00\n",
            "Heteroskedasticity (H):               1.96   Skew:                             0.63\n",
            "Prob(H) (two-sided):                  0.00   Kurtosis:                       221.69\n",
            "===================================================================================\n",
            "\n",
            "Warnings:\n",
            "[1] Covariance matrix calculated using the outer product of gradients (complex-step).\n",
            "\n",
            "LLR test p-value = 0.007\n"
          ]
        }
      ]
    },
    {
      "cell_type": "markdown",
      "source": [
        "###Modelo autoregresivo de orden 3"
      ],
      "metadata": {
        "id": "vQaCRIhRNcvd"
      }
    },
    {
      "cell_type": "code",
      "source": [
        "model_ar_3 = ARIMA(df_train.returns[1:], order = (3,0,0))\n",
        "results_ar_3 = model_ar_3.fit()\n",
        "print(results_ar_3.summary())\n",
        "print(\"\\nLLR test p-value = \" + str(LLR_test(results_ar_2,results_ar_3)))"
      ],
      "metadata": {
        "colab": {
          "base_uri": "https://localhost:8080/"
        },
        "id": "A2ZY_doUNUZY",
        "outputId": "4513eb6b-6e8b-4a93-c5f9-43b9c81a21ac"
      },
      "execution_count": 18,
      "outputs": [
        {
          "output_type": "stream",
          "name": "stdout",
          "text": [
            "                               SARIMAX Results                                \n",
            "==============================================================================\n",
            "Dep. Variable:                returns   No. Observations:                 6325\n",
            "Model:                 ARIMA(3, 0, 0)   Log Likelihood                4057.316\n",
            "Date:                Fri, 26 Apr 2024   AIC                          -8104.633\n",
            "Time:                        23:53:24   BIC                          -8070.871\n",
            "Sample:                    08-02-2002   HQIC                         -8092.940\n",
            "                         - 11-25-2019                                         \n",
            "Covariance Type:                  opg                                         \n",
            "==============================================================================\n",
            "                 coef    std err          z      P>|z|      [0.025      0.975]\n",
            "------------------------------------------------------------------------------\n",
            "const          0.0201      0.002      9.802      0.000       0.016       0.024\n",
            "ar.L1          0.1711      0.006     28.500      0.000       0.159       0.183\n",
            "ar.L2          0.0554      0.008      6.974      0.000       0.040       0.071\n",
            "ar.L3         -0.1288      0.003    -51.167      0.000      -0.134      -0.124\n",
            "sigma2         0.0162   7.83e-05    207.387      0.000       0.016       0.016\n",
            "===================================================================================\n",
            "Ljung-Box (L1) (Q):                   0.11   Jarque-Bera (JB):           7649534.51\n",
            "Prob(Q):                              0.74   Prob(JB):                         0.00\n",
            "Heteroskedasticity (H):               1.80   Skew:                            -0.70\n",
            "Prob(H) (two-sided):                  0.00   Kurtosis:                       173.36\n",
            "===================================================================================\n",
            "\n",
            "Warnings:\n",
            "[1] Covariance matrix calculated using the outer product of gradients (complex-step).\n",
            "\n",
            "LLR test p-value = 0.0\n"
          ]
        }
      ]
    },
    {
      "cell_type": "markdown",
      "source": [
        "###Modelo autoregresivo de orden 4"
      ],
      "metadata": {
        "id": "UzLOv00sNf-y"
      }
    },
    {
      "cell_type": "code",
      "source": [
        "model_ar_4 = ARIMA(df_train.returns[1:], order = (4,0,0))\n",
        "results_ar_4 = model_ar_4.fit()\n",
        "print(results_ar_4.summary())\n",
        "print(\"\\nLLR test p-value = \" + str(LLR_test(results_ar_3,results_ar_4)))"
      ],
      "metadata": {
        "colab": {
          "base_uri": "https://localhost:8080/"
        },
        "id": "65xOPPqoNiDv",
        "outputId": "b2f4c5b7-5ae9-4f13-dc0a-81f933a20c9e"
      },
      "execution_count": 19,
      "outputs": [
        {
          "output_type": "stream",
          "name": "stdout",
          "text": [
            "                               SARIMAX Results                                \n",
            "==============================================================================\n",
            "Dep. Variable:                returns   No. Observations:                 6325\n",
            "Model:                 ARIMA(4, 0, 0)   Log Likelihood                4060.680\n",
            "Date:                Fri, 26 Apr 2024   AIC                          -8109.360\n",
            "Time:                        23:53:35   BIC                          -8068.846\n",
            "Sample:                    08-02-2002   HQIC                         -8095.328\n",
            "                         - 11-25-2019                                         \n",
            "Covariance Type:                  opg                                         \n",
            "==============================================================================\n",
            "                 coef    std err          z      P>|z|      [0.025      0.975]\n",
            "------------------------------------------------------------------------------\n",
            "const          0.0201      0.002     10.122      0.000       0.016       0.024\n",
            "ar.L1          0.1669      0.006     28.472      0.000       0.155       0.178\n",
            "ar.L2          0.0572      0.008      7.107      0.000       0.041       0.073\n",
            "ar.L3         -0.1231      0.004    -32.876      0.000      -0.130      -0.116\n",
            "ar.L4         -0.0326      0.008     -4.269      0.000      -0.048      -0.018\n",
            "sigma2         0.0162   7.97e-05    203.491      0.000       0.016       0.016\n",
            "===================================================================================\n",
            "Ljung-Box (L1) (Q):                   0.00   Jarque-Bera (JB):           7343069.99\n",
            "Prob(Q):                              0.97   Prob(JB):                         0.00\n",
            "Heteroskedasticity (H):               1.81   Skew:                            -0.75\n",
            "Prob(H) (two-sided):                  0.00   Kurtosis:                       169.92\n",
            "===================================================================================\n",
            "\n",
            "Warnings:\n",
            "[1] Covariance matrix calculated using the outer product of gradients (complex-step).\n",
            "\n",
            "LLR test p-value = 0.009\n"
          ]
        }
      ]
    },
    {
      "cell_type": "markdown",
      "source": [
        "###Modelo autoregresivo de orden 5"
      ],
      "metadata": {
        "id": "w05SfNBfNszK"
      }
    },
    {
      "cell_type": "code",
      "source": [
        "model_ar_5 = ARIMA(df_train.returns[1:], order = (5,0,0))\n",
        "results_ar_5 = model_ar_5.fit()\n",
        "print(results_ar_5.summary())\n",
        "print(\"\\nLLR test p-value = \" + str(LLR_test(results_ar_4,results_ar_5)))      #Para la quinta variable L5 se obtuvo un valor P mayor a 10% por lo que no significativamente distinta de 0\n",
        "                                                                              # Además, de acuerdo a la prueba de hipótesis entre el modelo de orden 4 y 5, se obtuvo que no son significativamente diferentes"
      ],
      "metadata": {
        "colab": {
          "base_uri": "https://localhost:8080/"
        },
        "id": "wslVic3KNsRE",
        "outputId": "b243cae4-a119-442b-b591-9a86ee74476f"
      },
      "execution_count": 20,
      "outputs": [
        {
          "output_type": "stream",
          "name": "stdout",
          "text": [
            "                               SARIMAX Results                                \n",
            "==============================================================================\n",
            "Dep. Variable:                returns   No. Observations:                 6325\n",
            "Model:                 ARIMA(5, 0, 0)   Log Likelihood                4061.294\n",
            "Date:                Fri, 26 Apr 2024   AIC                          -8108.589\n",
            "Time:                        23:53:44   BIC                          -8061.323\n",
            "Sample:                    08-02-2002   HQIC                         -8092.218\n",
            "                         - 11-25-2019                                         \n",
            "Covariance Type:                  opg                                         \n",
            "==============================================================================\n",
            "                 coef    std err          z      P>|z|      [0.025      0.975]\n",
            "------------------------------------------------------------------------------\n",
            "const          0.0201      0.002     10.243      0.000       0.016       0.024\n",
            "ar.L1          0.1664      0.006     28.626      0.000       0.155       0.178\n",
            "ar.L2          0.0555      0.008      7.083      0.000       0.040       0.071\n",
            "ar.L3         -0.1223      0.004    -28.929      0.000      -0.131      -0.114\n",
            "ar.L4         -0.0303      0.008     -3.879      0.000      -0.046      -0.015\n",
            "ar.L5         -0.0140      0.009     -1.592      0.111      -0.031       0.003\n",
            "sigma2         0.0162   7.94e-05    204.231      0.000       0.016       0.016\n",
            "===================================================================================\n",
            "Ljung-Box (L1) (Q):                   0.00   Jarque-Bera (JB):           7312058.19\n",
            "Prob(Q):                              0.96   Prob(JB):                         0.00\n",
            "Heteroskedasticity (H):               1.81   Skew:                            -0.79\n",
            "Prob(H) (two-sided):                  0.00   Kurtosis:                       169.56\n",
            "===================================================================================\n",
            "\n",
            "Warnings:\n",
            "[1] Covariance matrix calculated using the outer product of gradients (complex-step).\n",
            "\n",
            "LLR test p-value = 0.268\n"
          ]
        }
      ]
    },
    {
      "cell_type": "code",
      "source": [
        "model_ar_6 = ARIMA(df_train.returns[1:], order = (6,0,0))\n",
        "results_ar_6 = model_ar_6.fit()\n",
        "print(results_ar_6.summary())\n",
        "print(\"\\nLLR test p-value = \" + str(LLR_test(results_ar_5,results_ar_6)))"
      ],
      "metadata": {
        "colab": {
          "base_uri": "https://localhost:8080/"
        },
        "id": "YVkoiah1tVHy",
        "outputId": "ee7bc1e6-9b75-43dc-809b-02354cff4a11"
      },
      "execution_count": 21,
      "outputs": [
        {
          "output_type": "stream",
          "name": "stdout",
          "text": [
            "                               SARIMAX Results                                \n",
            "==============================================================================\n",
            "Dep. Variable:                returns   No. Observations:                 6325\n",
            "Model:                 ARIMA(6, 0, 0)   Log Likelihood                4068.872\n",
            "Date:                Fri, 26 Apr 2024   AIC                          -8121.744\n",
            "Time:                        23:53:51   BIC                          -8067.725\n",
            "Sample:                    08-02-2002   HQIC                         -8103.035\n",
            "                         - 11-25-2019                                         \n",
            "Covariance Type:                  opg                                         \n",
            "==============================================================================\n",
            "                 coef    std err          z      P>|z|      [0.025      0.975]\n",
            "------------------------------------------------------------------------------\n",
            "const          0.0201      0.002      9.745      0.000       0.016       0.024\n",
            "ar.L1          0.1671      0.006     28.735      0.000       0.156       0.178\n",
            "ar.L2          0.0566      0.008      6.992      0.000       0.041       0.073\n",
            "ar.L3         -0.1162      0.004    -27.818      0.000      -0.124      -0.108\n",
            "ar.L4         -0.0329      0.008     -4.185      0.000      -0.048      -0.018\n",
            "ar.L5         -0.0221      0.009     -2.462      0.014      -0.040      -0.005\n",
            "ar.L6          0.0490      0.008      6.495      0.000       0.034       0.064\n",
            "sigma2         0.0162   8.05e-05    200.974      0.000       0.016       0.016\n",
            "===================================================================================\n",
            "Ljung-Box (L1) (Q):                   0.04   Jarque-Bera (JB):           7409008.87\n",
            "Prob(Q):                              0.85   Prob(JB):                         0.00\n",
            "Heteroskedasticity (H):               1.82   Skew:                            -0.77\n",
            "Prob(H) (two-sided):                  0.00   Kurtosis:                       170.66\n",
            "===================================================================================\n",
            "\n",
            "Warnings:\n",
            "[1] Covariance matrix calculated using the outer product of gradients (complex-step).\n",
            "\n",
            "LLR test p-value = 0.0\n"
          ]
        }
      ]
    },
    {
      "cell_type": "markdown",
      "source": [
        "#Gráfico de autocorrelación parcial"
      ],
      "metadata": {
        "id": "8A2owZ2hupas"
      }
    },
    {
      "cell_type": "code",
      "source": [
        "sgt.plot_pacf(df_train.returns[1:], lags = 40, zero = False, method = ('ols'))   #De acuerdo al gráfico y los valores obtenidos se explica que el quinto retraso no es\n",
        "plt.title('PACF returns', size = 24)                                             #Significativamente distinto de 0, además basandose en el gráfico se probará en el valor 16 de retrasos\n",
        "plt.ylim(-0.6, 0.6)\n",
        "plt.show()"
      ],
      "metadata": {
        "colab": {
          "base_uri": "https://localhost:8080/",
          "height": 469
        },
        "id": "RQ62KLryuor6",
        "outputId": "6885c4a3-42b9-48ba-b644-97dee8ef37a6"
      },
      "execution_count": 22,
      "outputs": [
        {
          "output_type": "display_data",
          "data": {
            "text/plain": [
              "<Figure size 640x480 with 1 Axes>"
            ],
            "image/png": "[encoded data removed]"
          },
          "metadata": {}
        }
      ]
    },
    {
      "cell_type": "code",
      "source": [
        "model_ar_16 = ARIMA(df_train.returns[1:], order = (16,0,0))\n",
        "results_ar_16 = model_ar_16.fit()\n",
        "print(results_ar_16.summary())\n",
        "print(\"\\nLLR test p-value = \" + str(LLR_test(results_ar_6,results_ar_16, DF = 10))) #Si bien, de acuerdo a la prueba de hipótesis se obtiene que L16 es un mejor modelo que L6, se obtuvieron\n",
        "                                                                                    #que L8, L10, L12 y L14 tienen valores signifitivamente iguales a 0, por lo que se optará por probar con L7 y L8"
      ],
      "metadata": {
        "colab": {
          "base_uri": "https://localhost:8080/"
        },
        "id": "TgCkrvxivFXa",
        "outputId": "62e0c9a5-cd71-4ce3-dd2e-8d5f690e1336"
      },
      "execution_count": 23,
      "outputs": [
        {
          "output_type": "stream",
          "name": "stdout",
          "text": [
            "                               SARIMAX Results                                \n",
            "==============================================================================\n",
            "Dep. Variable:                returns   No. Observations:                 6325\n",
            "Model:                ARIMA(16, 0, 0)   Log Likelihood                4104.796\n",
            "Date:                Fri, 26 Apr 2024   AIC                          -8173.592\n",
            "Time:                        23:54:19   BIC                          -8052.051\n",
            "Sample:                    08-02-2002   HQIC                         -8131.497\n",
            "                         - 11-25-2019                                         \n",
            "Covariance Type:                  opg                                         \n",
            "==============================================================================\n",
            "                 coef    std err          z      P>|z|      [0.025      0.975]\n",
            "------------------------------------------------------------------------------\n",
            "const          0.0201      0.003      7.056      0.000       0.015       0.026\n",
            "ar.L1          0.1582      0.007     23.775      0.000       0.145       0.171\n",
            "ar.L2          0.0517      0.010      5.361      0.000       0.033       0.071\n",
            "ar.L3         -0.1213      0.005    -25.663      0.000      -0.131      -0.112\n",
            "ar.L4         -0.0336      0.008     -4.158      0.000      -0.049      -0.018\n",
            "ar.L5         -0.0293      0.009     -3.163      0.002      -0.047      -0.011\n",
            "ar.L6          0.0405      0.009      4.690      0.000       0.024       0.057\n",
            "ar.L7          0.0503      0.009      5.803      0.000       0.033       0.067\n",
            "ar.L8         -0.0112      0.010     -1.093      0.275      -0.031       0.009\n",
            "ar.L9          0.0316      0.014      2.314      0.021       0.005       0.058\n",
            "ar.L10         0.0243      0.014      1.772      0.076      -0.003       0.051\n",
            "ar.L11         0.0351      0.013      2.644      0.008       0.009       0.061\n",
            "ar.L12         0.0193      0.013      1.519      0.129      -0.006       0.044\n",
            "ar.L13         0.0330      0.013      2.623      0.009       0.008       0.058\n",
            "ar.L14         0.0089      0.012      0.756      0.450      -0.014       0.032\n",
            "ar.L15         0.0601      0.011      5.400      0.000       0.038       0.082\n",
            "ar.L16         0.0280      0.012      2.279      0.023       0.004       0.052\n",
            "sigma2         0.0160   9.41e-05    169.948      0.000       0.016       0.016\n",
            "===================================================================================\n",
            "Ljung-Box (L1) (Q):                   0.00   Jarque-Bera (JB):           7201942.72\n",
            "Prob(Q):                              0.97   Prob(JB):                         0.00\n",
            "Heteroskedasticity (H):               1.83   Skew:                            -0.80\n",
            "Prob(H) (two-sided):                  0.00   Kurtosis:                       168.30\n",
            "===================================================================================\n",
            "\n",
            "Warnings:\n",
            "[1] Covariance matrix calculated using the outer product of gradients (complex-step).\n",
            "\n",
            "LLR test p-value = 0.0\n"
          ]
        }
      ]
    },
    {
      "cell_type": "code",
      "source": [
        "model_ar_7 = ARIMA(df_train.returns[1:], order = (7,0,0))\n",
        "results_ar_7 = model_ar_7.fit()\n",
        "print(results_ar_7.summary())\n",
        "print(\"\\nLLR test p-value = \" + str(LLR_test(results_ar_6,results_ar_7)))"
      ],
      "metadata": {
        "colab": {
          "base_uri": "https://localhost:8080/"
        },
        "id": "7GcefhBTvZ1q",
        "outputId": "b10e51ca-209d-48da-a0bd-efb29715835e"
      },
      "execution_count": 24,
      "outputs": [
        {
          "output_type": "stream",
          "name": "stdout",
          "text": [
            "                               SARIMAX Results                                \n",
            "==============================================================================\n",
            "Dep. Variable:                returns   No. Observations:                 6325\n",
            "Model:                 ARIMA(7, 0, 0)   Log Likelihood                4077.269\n",
            "Date:                Fri, 26 Apr 2024   AIC                          -8136.538\n",
            "Time:                        23:54:46   BIC                          -8075.768\n",
            "Sample:                    08-02-2002   HQIC                         -8115.491\n",
            "                         - 11-25-2019                                         \n",
            "Covariance Type:                  opg                                         \n",
            "==============================================================================\n",
            "                 coef    std err          z      P>|z|      [0.025      0.975]\n",
            "------------------------------------------------------------------------------\n",
            "const          0.0201      0.002      9.231      0.000       0.016       0.024\n",
            "ar.L1          0.1646      0.006     27.909      0.000       0.153       0.176\n",
            "ar.L2          0.0578      0.009      6.547      0.000       0.040       0.075\n",
            "ar.L3         -0.1145      0.004    -28.507      0.000      -0.122      -0.107\n",
            "ar.L4         -0.0269      0.008     -3.415      0.001      -0.042      -0.011\n",
            "ar.L5         -0.0252      0.009     -2.768      0.006      -0.043      -0.007\n",
            "ar.L6          0.0403      0.008      5.301      0.000       0.025       0.055\n",
            "ar.L7          0.0516      0.008      6.386      0.000       0.036       0.067\n",
            "sigma2         0.0161   8.07e-05    199.740      0.000       0.016       0.016\n",
            "===================================================================================\n",
            "Ljung-Box (L1) (Q):                   0.00   Jarque-Bera (JB):           7531123.84\n",
            "Prob(Q):                              0.99   Prob(JB):                         0.00\n",
            "Heteroskedasticity (H):               1.82   Skew:                            -0.85\n",
            "Prob(H) (two-sided):                  0.00   Kurtosis:                       172.04\n",
            "===================================================================================\n",
            "\n",
            "Warnings:\n",
            "[1] Covariance matrix calculated using the outer product of gradients (complex-step).\n",
            "\n",
            "LLR test p-value = 0.0\n"
          ]
        }
      ]
    },
    {
      "cell_type": "code",
      "source": [
        "model_ar_8 = ARIMA(df_train.returns[1:], order = (8,0,0))\n",
        "results_ar_8 = model_ar_8.fit()\n",
        "print(results_ar_8.summary())\n",
        "print(\"\\nLLR test p-value = \" + str(LLR_test(results_ar_7,results_ar_8)))   #Se obtuvo que el mejor modelo es el de AR de orden 7"
      ],
      "metadata": {
        "colab": {
          "base_uri": "https://localhost:8080/"
        },
        "id": "M9cde92wwtu7",
        "outputId": "5ded81ea-a9ad-4b3f-affd-b5204d330d2d"
      },
      "execution_count": 25,
      "outputs": [
        {
          "output_type": "stream",
          "name": "stdout",
          "text": [
            "                               SARIMAX Results                                \n",
            "==============================================================================\n",
            "Dep. Variable:                returns   No. Observations:                 6325\n",
            "Model:                 ARIMA(8, 0, 0)   Log Likelihood                4077.300\n",
            "Date:                Fri, 26 Apr 2024   AIC                          -8134.600\n",
            "Time:                        23:54:55   BIC                          -8067.077\n",
            "Sample:                    08-02-2002   HQIC                         -8111.214\n",
            "                         - 11-25-2019                                         \n",
            "Covariance Type:                  opg                                         \n",
            "==============================================================================\n",
            "                 coef    std err          z      P>|z|      [0.025      0.975]\n",
            "------------------------------------------------------------------------------\n",
            "const          0.0201      0.002      9.166      0.000       0.016       0.024\n",
            "ar.L1          0.1646      0.006     27.509      0.000       0.153       0.176\n",
            "ar.L2          0.0579      0.009      6.493      0.000       0.040       0.075\n",
            "ar.L3         -0.1146      0.004    -28.597      0.000      -0.122      -0.107\n",
            "ar.L4         -0.0268      0.008     -3.409      0.001      -0.042      -0.011\n",
            "ar.L5         -0.0249      0.009     -2.725      0.006      -0.043      -0.007\n",
            "ar.L6          0.0402      0.008      5.086      0.000       0.025       0.056\n",
            "ar.L7          0.0512      0.009      5.888      0.000       0.034       0.068\n",
            "ar.L8          0.0033      0.010      0.342      0.733      -0.016       0.023\n",
            "sigma2         0.0161   8.08e-05    199.613      0.000       0.016       0.016\n",
            "===================================================================================\n",
            "Ljung-Box (L1) (Q):                   0.00   Jarque-Bera (JB):           7537367.31\n",
            "Prob(Q):                              0.99   Prob(JB):                         0.00\n",
            "Heteroskedasticity (H):               1.82   Skew:                            -0.84\n",
            "Prob(H) (two-sided):                  0.00   Kurtosis:                       172.11\n",
            "===================================================================================\n",
            "\n",
            "Warnings:\n",
            "[1] Covariance matrix calculated using the outer product of gradients (complex-step).\n",
            "\n",
            "LLR test p-value = 0.804\n"
          ]
        }
      ]
    },
    {
      "cell_type": "markdown",
      "source": [
        "#Análisis de residuos"
      ],
      "metadata": {
        "id": "Fq6ZLeEY1WyA"
      }
    },
    {
      "cell_type": "code",
      "source": [
        "df_train['residuos_ar7'] = results_ar_7.resid"
      ],
      "metadata": {
        "id": "Bp-Tz_rs1YPA"
      },
      "execution_count": null,
      "outputs": []
    },
    {
      "cell_type": "markdown",
      "source": [
        "#Modelos de medias móviles"
      ],
      "metadata": {
        "id": "ZfhlJ__h0C_Y"
      }
    },
    {
      "cell_type": "markdown",
      "source": [
        "##Modelo medias moviles de orden 1"
      ],
      "metadata": {
        "id": "ewspKjN00FVO"
      }
    },
    {
      "cell_type": "code",
      "source": [
        "model_ma_1 = ARIMA(df_train.returns[1:], order = (0,0,1))\n",
        "results_ma_1 = model_ma_1.fit()\n",
        "print(results_ma_1.summary())"
      ],
      "metadata": {
        "colab": {
          "base_uri": "https://localhost:8080/"
        },
        "id": "OgipeWN70E80",
        "outputId": "25100dff-b4ae-4685-eaad-f1b707f53331"
      },
      "execution_count": 27,
      "outputs": [
        {
          "output_type": "stream",
          "name": "stdout",
          "text": [
            "                               SARIMAX Results                                \n",
            "==============================================================================\n",
            "Dep. Variable:                returns   No. Observations:                 6325\n",
            "Model:                 ARIMA(0, 0, 1)   Log Likelihood                3989.755\n",
            "Date:                Sat, 27 Apr 2024   AIC                          -7973.509\n",
            "Time:                        00:02:03   BIC                          -7953.252\n",
            "Sample:                    08-02-2002   HQIC                         -7966.493\n",
            "                         - 11-25-2019                                         \n",
            "Covariance Type:                  opg                                         \n",
            "==============================================================================\n",
            "                 coef    std err          z      P>|z|      [0.025      0.975]\n",
            "------------------------------------------------------------------------------\n",
            "const          0.0201      0.002      9.360      0.000       0.016       0.024\n",
            "ma.L1          0.1510      0.004     38.805      0.000       0.143       0.159\n",
            "sigma2         0.0166   3.19e-05    519.138      0.000       0.017       0.017\n",
            "===================================================================================\n",
            "Ljung-Box (L1) (Q):                   1.28   Jarque-Bera (JB):          13631759.98\n",
            "Prob(Q):                              0.26   Prob(JB):                         0.00\n",
            "Heteroskedasticity (H):               2.00   Skew:                             0.36\n",
            "Prob(H) (two-sided):                  0.00   Kurtosis:                       230.43\n",
            "===================================================================================\n",
            "\n",
            "Warnings:\n",
            "[1] Covariance matrix calculated using the outer product of gradients (complex-step).\n"
          ]
        }
      ]
    },
    {
      "cell_type": "markdown",
      "source": [
        "##Modelo medias móviles de orden 2"
      ],
      "metadata": {
        "id": "CCfWUtkA3B5r"
      }
    },
    {
      "cell_type": "code",
      "source": [
        "model_ma_2 = ARIMA(df_train.returns[1:], order = (0,0,2))\n",
        "results_ma_2 = model_ma_2.fit()\n",
        "print(results_ma_2.summary())\n",
        "print(\"\\nLLR test p-value = \" + str(LLR_test(results_ma_1,results_ma_2)))"
      ],
      "metadata": {
        "colab": {
          "base_uri": "https://localhost:8080/"
        },
        "id": "7uAc7KBk3EDn",
        "outputId": "4d7c3cb6-6684-45a6-9125-1c9e6d92fdf5"
      },
      "execution_count": 33,
      "outputs": [
        {
          "output_type": "stream",
          "name": "stdout",
          "text": [
            "                               SARIMAX Results                                \n",
            "==============================================================================\n",
            "Dep. Variable:                returns   No. Observations:                 6325\n",
            "Model:                 ARIMA(0, 0, 2)   Log Likelihood                4022.527\n",
            "Date:                Sat, 27 Apr 2024   AIC                          -8037.053\n",
            "Time:                        00:10:02   BIC                          -8010.044\n",
            "Sample:                    08-02-2002   HQIC                         -8027.699\n",
            "                         - 11-25-2019                                         \n",
            "Covariance Type:                  opg                                         \n",
            "==============================================================================\n",
            "                 coef    std err          z      P>|z|      [0.025      0.975]\n",
            "------------------------------------------------------------------------------\n",
            "const          0.0201      0.002      8.914      0.000       0.016       0.024\n",
            "ma.L1          0.1824      0.005     40.442      0.000       0.174       0.191\n",
            "ma.L2          0.1092      0.005     20.153      0.000       0.099       0.120\n",
            "sigma2         0.0164   6.91e-05    237.398      0.000       0.016       0.017\n",
            "===================================================================================\n",
            "Ljung-Box (L1) (Q):                   0.45   Jarque-Bera (JB):          10391536.51\n",
            "Prob(Q):                              0.50   Prob(JB):                         0.00\n",
            "Heteroskedasticity (H):               1.89   Skew:                             0.48\n",
            "Prob(H) (two-sided):                  0.00   Kurtosis:                       201.57\n",
            "===================================================================================\n",
            "\n",
            "Warnings:\n",
            "[1] Covariance matrix calculated using the outer product of gradients (complex-step).\n",
            "\n",
            "LLR test p-value = 0.0\n"
          ]
        }
      ]
    },
    {
      "cell_type": "markdown",
      "source": [
        "#Modelo medias móviles de orden 3"
      ],
      "metadata": {
        "id": "UigxLYTk3Pf3"
      }
    },
    {
      "cell_type": "code",
      "source": [
        "model_ma_3 = ARIMA(df_train.returns[1:], order = (0,0,3))\n",
        "results_ma_3 = model_ma_3.fit()\n",
        "print(results_ma_3.summary())\n",
        "print(\"\\nLLR test p-value = \" + str(LLR_test(results_ma_2,results_ma_3)))"
      ],
      "metadata": {
        "colab": {
          "base_uri": "https://localhost:8080/"
        },
        "id": "VkQlN2We3O3h",
        "outputId": "d704c824-a172-4957-a4d6-e95e0e3a3279"
      },
      "execution_count": 34,
      "outputs": [
        {
          "output_type": "stream",
          "name": "stdout",
          "text": [
            "                               SARIMAX Results                                \n",
            "==============================================================================\n",
            "Dep. Variable:                returns   No. Observations:                 6325\n",
            "Model:                 ARIMA(0, 0, 3)   Log Likelihood                4042.623\n",
            "Date:                Sat, 27 Apr 2024   AIC                          -8075.247\n",
            "Time:                        00:10:18   BIC                          -8041.486\n",
            "Sample:                    08-02-2002   HQIC                         -8063.554\n",
            "                         - 11-25-2019                                         \n",
            "Covariance Type:                  opg                                         \n",
            "==============================================================================\n",
            "                 coef    std err          z      P>|z|      [0.025      0.975]\n",
            "------------------------------------------------------------------------------\n",
            "const          0.0201      0.002      9.266      0.000       0.016       0.024\n",
            "ma.L1          0.1655      0.006     28.694      0.000       0.154       0.177\n",
            "ma.L2          0.0806      0.006     12.620      0.000       0.068       0.093\n",
            "ma.L3         -0.0813      0.003    -32.046      0.000      -0.086      -0.076\n",
            "sigma2         0.0163   7.43e-05    219.400      0.000       0.016       0.016\n",
            "===================================================================================\n",
            "Ljung-Box (L1) (Q):                   0.09   Jarque-Bera (JB):           9000266.76\n",
            "Prob(Q):                              0.76   Prob(JB):                         0.00\n",
            "Heteroskedasticity (H):               1.84   Skew:                            -0.37\n",
            "Prob(H) (two-sided):                  0.00   Kurtosis:                       187.80\n",
            "===================================================================================\n",
            "\n",
            "Warnings:\n",
            "[1] Covariance matrix calculated using the outer product of gradients (complex-step).\n",
            "\n",
            "LLR test p-value = 0.0\n"
          ]
        }
      ]
    },
    {
      "cell_type": "markdown",
      "source": [
        "#Gráfico de autocorrelación"
      ],
      "metadata": {
        "id": "MbMEvJHk3ub-"
      }
    },
    {
      "cell_type": "code",
      "source": [
        "#Cuando se utilizan modelos de medias móviles se puede utilizar un gráfico de autocorrelación para saber datos sobre que retrocesos son significativos\n",
        "sgt.plot_acf(df_train.returns[1:], lags = 40, zero = False)\n",
        "plt.title('ACF returns', size = 24)                               #De acuerdo al gráfico hasta el retroceso 18 las constantes son significativas, pero no se pueden\n",
        "plt.ylim(-0.5, 0.5)                                               #Incluir tantas porque se puede caer en el riesgo de overfiting\n",
        "plt.show()"
      ],
      "metadata": {
        "colab": {
          "base_uri": "https://localhost:8080/",
          "height": 469
        },
        "id": "DfE-_LNa33jg",
        "outputId": "89014258-4c3c-482e-ff82-4b063b5ce3c9"
      },
      "execution_count": 32,
      "outputs": [
        {
          "output_type": "display_data",
          "data": {
            "text/plain": [
              "<Figure size 640x480 with 1 Axes>"
            ],
            "image/png": "[encoded data removed]"
          },
          "metadata": {}
        }
      ]
    },
    {
      "cell_type": "markdown",
      "source": [
        "##Modelo de medias móviles con 15 retrasos"
      ],
      "metadata": {
        "id": "OP7pA5t-5gdA"
      }
    },
    {
      "cell_type": "code",
      "source": [
        "model_ma_15 = ARIMA(df_train.returns[1:], order = (0,0,15))  #Se obtuvieron dos coeficientes que no son significativos (L10 y L14)\n",
        "results_ma_15 = model_ma_15.fit()\n",
        "print(results_ma_15.summary())"
      ],
      "metadata": {
        "colab": {
          "base_uri": "https://localhost:8080/"
        },
        "id": "4zVy-waQ6zNU",
        "outputId": "4aa68b17-5116-48d2-b192-8fec2463fb4e"
      },
      "execution_count": 40,
      "outputs": [
        {
          "output_type": "stream",
          "name": "stdout",
          "text": [
            "                               SARIMAX Results                                \n",
            "==============================================================================\n",
            "Dep. Variable:                returns   No. Observations:                 6325\n",
            "Model:                ARIMA(0, 0, 15)   Log Likelihood                4099.935\n",
            "Date:                Sat, 27 Apr 2024   AIC                          -8165.871\n",
            "Time:                        00:19:49   BIC                          -8051.082\n",
            "Sample:                    08-02-2002   HQIC                         -8126.114\n",
            "                         - 11-25-2019                                         \n",
            "Covariance Type:                  opg                                         \n",
            "==============================================================================\n",
            "                 coef    std err          z      P>|z|      [0.025      0.975]\n",
            "------------------------------------------------------------------------------\n",
            "const          0.0201      0.003      7.969      0.000       0.015       0.025\n",
            "ma.L1          0.1595      0.006     25.754      0.000       0.147       0.172\n",
            "ma.L2          0.0762      0.008      9.103      0.000       0.060       0.093\n",
            "ma.L3         -0.1028      0.004    -24.706      0.000      -0.111      -0.095\n",
            "ma.L4         -0.0625      0.009     -7.274      0.000      -0.079      -0.046\n",
            "ma.L5         -0.0610      0.009     -6.889      0.000      -0.078      -0.044\n",
            "ma.L6          0.0340      0.009      3.896      0.000       0.017       0.051\n",
            "ma.L7          0.0689      0.008      8.649      0.000       0.053       0.085\n",
            "ma.L8          0.0240      0.010      2.308      0.021       0.004       0.044\n",
            "ma.L9          0.0319      0.013      2.447      0.014       0.006       0.057\n",
            "ma.L10         0.0119      0.014      0.839      0.401      -0.016       0.040\n",
            "ma.L11         0.0319      0.014      2.262      0.024       0.004       0.060\n",
            "ma.L12         0.0286      0.014      2.119      0.034       0.002       0.055\n",
            "ma.L13         0.0493      0.013      3.882      0.000       0.024       0.074\n",
            "ma.L14         0.0118      0.012      1.010      0.313      -0.011       0.035\n",
            "ma.L15         0.0498      0.012      4.188      0.000       0.026       0.073\n",
            "sigma2         0.0160   8.76e-05    182.876      0.000       0.016       0.016\n",
            "===================================================================================\n",
            "Ljung-Box (L1) (Q):                   0.00   Jarque-Bera (JB):           7379652.52\n",
            "Prob(Q):                              0.98   Prob(JB):                         0.00\n",
            "Heteroskedasticity (H):               1.84   Skew:                            -0.94\n",
            "Prob(H) (two-sided):                  0.00   Kurtosis:                       170.33\n",
            "===================================================================================\n",
            "\n",
            "Warnings:\n",
            "[1] Covariance matrix calculated using the outer product of gradients (complex-step).\n"
          ]
        }
      ]
    },
    {
      "cell_type": "markdown",
      "source": [
        "#Modelo de medias móviles con 9 retrasos"
      ],
      "metadata": {
        "id": "j0jXi5vN7MEX"
      }
    },
    {
      "cell_type": "code",
      "source": [
        "model_ma_9 = ARIMA(df_train.returns[1:], order = (0,0,9))\n",
        "results_ma_9 = model_ma_9.fit()\n",
        "print(results_ma_9.summary())\n",
        "print(\"\\nLLR test p-value = \" + str(LLR_test(results_ma_3,results_ma_9, DF = 6)))"
      ],
      "metadata": {
        "colab": {
          "base_uri": "https://localhost:8080/"
        },
        "id": "sfE9PRuK4m6m",
        "outputId": "f136fae1-cef8-46f0-f7a2-07a7669ce875"
      },
      "execution_count": 39,
      "outputs": [
        {
          "output_type": "stream",
          "name": "stdout",
          "text": [
            "                               SARIMAX Results                                \n",
            "==============================================================================\n",
            "Dep. Variable:                returns   No. Observations:                 6325\n",
            "Model:                 ARIMA(0, 0, 9)   Log Likelihood                4083.259\n",
            "Date:                Sat, 27 Apr 2024   AIC                          -8144.518\n",
            "Time:                        00:18:46   BIC                          -8070.243\n",
            "Sample:                    08-02-2002   HQIC                         -8118.793\n",
            "                         - 11-25-2019                                         \n",
            "Covariance Type:                  opg                                         \n",
            "==============================================================================\n",
            "                 coef    std err          z      P>|z|      [0.025      0.975]\n",
            "------------------------------------------------------------------------------\n",
            "const          0.0201      0.002      9.076      0.000       0.016       0.024\n",
            "ma.L1          0.1618      0.006     27.135      0.000       0.150       0.174\n",
            "ma.L2          0.0800      0.008     10.027      0.000       0.064       0.096\n",
            "ma.L3         -0.0999      0.004    -25.632      0.000      -0.108      -0.092\n",
            "ma.L4         -0.0652      0.008     -7.886      0.000      -0.081      -0.049\n",
            "ma.L5         -0.0578      0.009     -6.662      0.000      -0.075      -0.041\n",
            "ma.L6          0.0333      0.009      3.917      0.000       0.017       0.050\n",
            "ma.L7          0.0728      0.008      9.510      0.000       0.058       0.088\n",
            "ma.L8          0.0315      0.010      3.226      0.001       0.012       0.051\n",
            "ma.L9          0.0370      0.012      3.183      0.001       0.014       0.060\n",
            "sigma2         0.0161   8.43e-05    190.923      0.000       0.016       0.016\n",
            "===================================================================================\n",
            "Ljung-Box (L1) (Q):                   0.01   Jarque-Bera (JB):           7207328.31\n",
            "Prob(Q):                              0.93   Prob(JB):                         0.00\n",
            "Heteroskedasticity (H):               1.82   Skew:                            -0.93\n",
            "Prob(H) (two-sided):                  0.00   Kurtosis:                       168.36\n",
            "===================================================================================\n",
            "\n",
            "Warnings:\n",
            "[1] Covariance matrix calculated using the outer product of gradients (complex-step).\n",
            "\n",
            "LLR test p-value = 0.0\n"
          ]
        }
      ]
    },
    {
      "cell_type": "code",
      "source": [
        "model_ma_10 = ARIMA(df_train.returns[1:], order = (0,0,10))\n",
        "results_ma_10 = model_ma_10.fit()\n",
        "print(results_ma_10.summary())\n",
        "print(\"\\nLLR test p-value = \" + str(LLR_test(results_ma_9,results_ma_10, DF = 1)))  #Se obtiene que el modelo con 10 retrasos es mejor que el modelo con 9 retrasos"
      ],
      "metadata": {
        "colab": {
          "base_uri": "https://localhost:8080/"
        },
        "id": "3-j82KR768tm",
        "outputId": "07d9ce4c-92bf-40ea-f9d7-4b03edf1c2ba"
      },
      "execution_count": 41,
      "outputs": [
        {
          "output_type": "stream",
          "name": "stdout",
          "text": [
            "                               SARIMAX Results                                \n",
            "==============================================================================\n",
            "Dep. Variable:                returns   No. Observations:                 6325\n",
            "Model:                ARIMA(0, 0, 10)   Log Likelihood                4085.538\n",
            "Date:                Sat, 27 Apr 2024   AIC                          -8147.076\n",
            "Time:                        00:20:25   BIC                          -8066.049\n",
            "Sample:                    08-02-2002   HQIC                         -8119.013\n",
            "                         - 11-25-2019                                         \n",
            "Covariance Type:                  opg                                         \n",
            "==============================================================================\n",
            "                 coef    std err          z      P>|z|      [0.025      0.975]\n",
            "------------------------------------------------------------------------------\n",
            "const          0.0201      0.002      8.879      0.000       0.016       0.025\n",
            "ma.L1          0.1616      0.006     26.419      0.000       0.150       0.174\n",
            "ma.L2          0.0792      0.008     10.029      0.000       0.064       0.095\n",
            "ma.L3         -0.1001      0.004    -25.577      0.000      -0.108      -0.092\n",
            "ma.L4         -0.0644      0.008     -7.829      0.000      -0.081      -0.048\n",
            "ma.L5         -0.0607      0.008     -7.378      0.000      -0.077      -0.045\n",
            "ma.L6          0.0318      0.009      3.640      0.000       0.015       0.049\n",
            "ma.L7          0.0693      0.007      9.257      0.000       0.055       0.084\n",
            "ma.L8          0.0328      0.009      3.490      0.000       0.014       0.051\n",
            "ma.L9          0.0428      0.012      3.669      0.000       0.020       0.066\n",
            "ma.L10         0.0283      0.013      2.206      0.027       0.003       0.053\n",
            "sigma2         0.0161    8.5e-05    189.306      0.000       0.016       0.016\n",
            "===================================================================================\n",
            "Ljung-Box (L1) (Q):                   0.00   Jarque-Bera (JB):           7152206.75\n",
            "Prob(Q):                              0.96   Prob(JB):                         0.00\n",
            "Heteroskedasticity (H):               1.82   Skew:                            -0.92\n",
            "Prob(H) (two-sided):                  0.00   Kurtosis:                       167.73\n",
            "===================================================================================\n",
            "\n",
            "Warnings:\n",
            "[1] Covariance matrix calculated using the outer product of gradients (complex-step).\n",
            "\n",
            "LLR test p-value = 0.033\n"
          ]
        }
      ]
    },
    {
      "cell_type": "code",
      "source": [
        "model_ma_11 = ARIMA(df_train.returns[1:], order = (0,0,11))\n",
        "results_ma_11 = model_ma_11.fit()\n",
        "print(results_ma_11.summary())\n",
        "print(\"\\nLLR test p-value = \" + str(LLR_test(results_ma_10,results_ma_11)))"
      ],
      "metadata": {
        "colab": {
          "base_uri": "https://localhost:8080/"
        },
        "id": "jgPNXtR17U-T",
        "outputId": "8c881f10-1d93-470e-8097-14a57b0614d8"
      },
      "execution_count": 42,
      "outputs": [
        {
          "output_type": "stream",
          "name": "stdout",
          "text": [
            "                               SARIMAX Results                                \n",
            "==============================================================================\n",
            "Dep. Variable:                returns   No. Observations:                 6325\n",
            "Model:                ARIMA(0, 0, 11)   Log Likelihood                4087.861\n",
            "Date:                Sat, 27 Apr 2024   AIC                          -8149.722\n",
            "Time:                        00:22:16   BIC                          -8061.943\n",
            "Sample:                    08-02-2002   HQIC                         -8119.320\n",
            "                         - 11-25-2019                                         \n",
            "Covariance Type:                  opg                                         \n",
            "==============================================================================\n",
            "                 coef    std err          z      P>|z|      [0.025      0.975]\n",
            "------------------------------------------------------------------------------\n",
            "const          0.0202      0.002      8.696      0.000       0.016       0.025\n",
            "ma.L1          0.1606      0.006     25.910      0.000       0.148       0.173\n",
            "ma.L2          0.0782      0.008      9.757      0.000       0.062       0.094\n",
            "ma.L3         -0.0996      0.004    -25.110      0.000      -0.107      -0.092\n",
            "ma.L4         -0.0650      0.008     -7.885      0.000      -0.081      -0.049\n",
            "ma.L5         -0.0602      0.008     -7.309      0.000      -0.076      -0.044\n",
            "ma.L6          0.0296      0.009      3.310      0.001       0.012       0.047\n",
            "ma.L7          0.0672      0.008      8.782      0.000       0.052       0.082\n",
            "ma.L8          0.0294      0.010      3.023      0.003       0.010       0.048\n",
            "ma.L9          0.0453      0.012      3.820      0.000       0.022       0.068\n",
            "ma.L10         0.0313      0.012      2.519      0.012       0.007       0.056\n",
            "ma.L11         0.0304      0.012      2.514      0.012       0.007       0.054\n",
            "sigma2         0.0161   8.59e-05    187.174      0.000       0.016       0.016\n",
            "===================================================================================\n",
            "Ljung-Box (L1) (Q):                   0.00   Jarque-Bera (JB):           7076110.60\n",
            "Prob(Q):                              0.95   Prob(JB):                         0.00\n",
            "Heteroskedasticity (H):               1.81   Skew:                            -0.89\n",
            "Prob(H) (two-sided):                  0.00   Kurtosis:                       166.85\n",
            "===================================================================================\n",
            "\n",
            "Warnings:\n",
            "[1] Covariance matrix calculated using the outer product of gradients (complex-step).\n",
            "\n",
            "LLR test p-value = 0.031\n"
          ]
        }
      ]
    },
    {
      "cell_type": "code",
      "source": [
        "model_ma_12 = ARIMA(df_train.returns[1:], order = (0,0,12))\n",
        "results_ma_12 = model_ma_12.fit()\n",
        "print(results_ma_12.summary())\n",
        "print(\"\\nLLR test p-value = \" + str(LLR_test(results_ma_11,results_ma_12)))"
      ],
      "metadata": {
        "colab": {
          "base_uri": "https://localhost:8080/"
        },
        "id": "KZUGVS_J7qTj",
        "outputId": "b3a786ef-f807-4ae0-d34d-98b9721328e9"
      },
      "execution_count": 43,
      "outputs": [
        {
          "output_type": "stream",
          "name": "stdout",
          "text": [
            "                               SARIMAX Results                                \n",
            "==============================================================================\n",
            "Dep. Variable:                returns   No. Observations:                 6325\n",
            "Model:                ARIMA(0, 0, 12)   Log Likelihood                4090.332\n",
            "Date:                Sat, 27 Apr 2024   AIC                          -8152.663\n",
            "Time:                        00:23:27   BIC                          -8058.132\n",
            "Sample:                    08-02-2002   HQIC                         -8119.923\n",
            "                         - 11-25-2019                                         \n",
            "Covariance Type:                  opg                                         \n",
            "==============================================================================\n",
            "                 coef    std err          z      P>|z|      [0.025      0.975]\n",
            "------------------------------------------------------------------------------\n",
            "const          0.0202      0.002      8.509      0.000       0.016       0.025\n",
            "ma.L1          0.1595      0.006     25.773      0.000       0.147       0.172\n",
            "ma.L2          0.0787      0.008      9.869      0.000       0.063       0.094\n",
            "ma.L3         -0.1009      0.004    -25.384      0.000      -0.109      -0.093\n",
            "ma.L4         -0.0653      0.008     -7.898      0.000      -0.082      -0.049\n",
            "ma.L5         -0.0604      0.008     -7.190      0.000      -0.077      -0.044\n",
            "ma.L6          0.0291      0.009      3.282      0.001       0.012       0.047\n",
            "ma.L7          0.0681      0.008      8.850      0.000       0.053       0.083\n",
            "ma.L8          0.0268      0.010      2.683      0.007       0.007       0.046\n",
            "ma.L9          0.0396      0.012      3.268      0.001       0.016       0.063\n",
            "ma.L10         0.0334      0.012      2.736      0.006       0.009       0.057\n",
            "ma.L11         0.0344      0.013      2.735      0.006       0.010       0.059\n",
            "ma.L12         0.0308      0.013      2.449      0.014       0.006       0.055\n",
            "sigma2         0.0161   8.53e-05    188.190      0.000       0.016       0.016\n",
            "===================================================================================\n",
            "Ljung-Box (L1) (Q):                   0.00   Jarque-Bera (JB):           7062759.14\n",
            "Prob(Q):                              0.94   Prob(JB):                         0.00\n",
            "Heteroskedasticity (H):               1.81   Skew:                            -0.90\n",
            "Prob(H) (two-sided):                  0.00   Kurtosis:                       166.70\n",
            "===================================================================================\n",
            "\n",
            "Warnings:\n",
            "[1] Covariance matrix calculated using the outer product of gradients (complex-step).\n",
            "\n",
            "LLR test p-value = 0.026\n"
          ]
        }
      ]
    },
    {
      "cell_type": "code",
      "source": [
        "model_ma_13 = ARIMA(df_train.returns[1:], order = (0,0,13))\n",
        "results_ma_13 = model_ma_13.fit()\n",
        "print(results_ma_13.summary())\n",
        "print(\"\\nLLR test p-value = \" + str(LLR_test(results_ma_12,results_ma_13)))  #Es un mejor modelo, pero se evidencia que L10 no es significativamente distinto de 0 para este modelo"
      ],
      "metadata": {
        "colab": {
          "base_uri": "https://localhost:8080/"
        },
        "id": "EQWvgicw784v",
        "outputId": "8897bb58-a210-45f0-aa2d-5ea0798c4053"
      },
      "execution_count": 44,
      "outputs": [
        {
          "output_type": "stream",
          "name": "stdout",
          "text": [
            "                               SARIMAX Results                                \n",
            "==============================================================================\n",
            "Dep. Variable:                returns   No. Observations:                 6325\n",
            "Model:                ARIMA(0, 0, 13)   Log Likelihood                4094.181\n",
            "Date:                Sat, 27 Apr 2024   AIC                          -8158.362\n",
            "Time:                        00:24:54   BIC                          -8057.078\n",
            "Sample:                    08-02-2002   HQIC                         -8123.282\n",
            "                         - 11-25-2019                                         \n",
            "Covariance Type:                  opg                                         \n",
            "==============================================================================\n",
            "                 coef    std err          z      P>|z|      [0.025      0.975]\n",
            "------------------------------------------------------------------------------\n",
            "const          0.0201      0.002      8.295      0.000       0.015       0.025\n",
            "ma.L1          0.1600      0.006     25.877      0.000       0.148       0.172\n",
            "ma.L2          0.0764      0.008      9.554      0.000       0.061       0.092\n",
            "ma.L3         -0.1010      0.004    -23.888      0.000      -0.109      -0.093\n",
            "ma.L4         -0.0661      0.008     -7.877      0.000      -0.083      -0.050\n",
            "ma.L5         -0.0618      0.009     -7.141      0.000      -0.079      -0.045\n",
            "ma.L6          0.0331      0.009      3.715      0.000       0.016       0.051\n",
            "ma.L7          0.0691      0.008      8.950      0.000       0.054       0.084\n",
            "ma.L8          0.0231      0.010      2.257      0.024       0.003       0.043\n",
            "ma.L9          0.0364      0.012      2.916      0.004       0.012       0.061\n",
            "ma.L10         0.0237      0.013      1.829      0.067      -0.002       0.049\n",
            "ma.L11         0.0371      0.013      2.764      0.006       0.011       0.063\n",
            "ma.L12         0.0327      0.013      2.568      0.010       0.008       0.058\n",
            "ma.L13         0.0416      0.012      3.353      0.001       0.017       0.066\n",
            "sigma2         0.0160   8.74e-05    183.539      0.000       0.016       0.016\n",
            "===================================================================================\n",
            "Ljung-Box (L1) (Q):                   0.00   Jarque-Bera (JB):           7161988.32\n",
            "Prob(Q):                              0.99   Prob(JB):                         0.00\n",
            "Heteroskedasticity (H):               1.83   Skew:                            -0.89\n",
            "Prob(H) (two-sided):                  0.00   Kurtosis:                       167.84\n",
            "===================================================================================\n",
            "\n",
            "Warnings:\n",
            "[1] Covariance matrix calculated using the outer product of gradients (complex-step).\n",
            "\n",
            "LLR test p-value = 0.006\n"
          ]
        }
      ]
    },
    {
      "cell_type": "code",
      "source": [
        "model_ma_14 = ARIMA(df_train.returns[1:], order = (0,0,14))\n",
        "results_ma_14 = model_ma_14.fit()\n",
        "print(results_ma_14.summary())\n",
        "print(\"\\nLLR test p-value = \" + str(LLR_test(results_ma_13,results_ma_14)))    #De acuerdo a la prueba de hipótesis este modelo no es mejor que el anterior, así que se queda el modelo 13"
      ],
      "metadata": {
        "colab": {
          "base_uri": "https://localhost:8080/"
        },
        "id": "1tf1oQ8H8DAY",
        "outputId": "25b8b46c-93cc-492e-aa4e-0ed4edd48676"
      },
      "execution_count": 45,
      "outputs": [
        {
          "output_type": "stream",
          "name": "stdout",
          "text": [
            "                               SARIMAX Results                                \n",
            "==============================================================================\n",
            "Dep. Variable:                returns   No. Observations:                 6325\n",
            "Model:                ARIMA(0, 0, 14)   Log Likelihood                4094.256\n",
            "Date:                Sat, 27 Apr 2024   AIC                          -8156.512\n",
            "Time:                        00:26:16   BIC                          -8048.476\n",
            "Sample:                    08-02-2002   HQIC                         -8119.094\n",
            "                         - 11-25-2019                                         \n",
            "Covariance Type:                  opg                                         \n",
            "==============================================================================\n",
            "                 coef    std err          z      P>|z|      [0.025      0.975]\n",
            "------------------------------------------------------------------------------\n",
            "const          0.0201      0.002      8.231      0.000       0.015       0.025\n",
            "ma.L1          0.1598      0.006     25.827      0.000       0.148       0.172\n",
            "ma.L2          0.0763      0.008      9.487      0.000       0.061       0.092\n",
            "ma.L3         -0.1011      0.004    -23.675      0.000      -0.109      -0.093\n",
            "ma.L4         -0.0663      0.008     -7.883      0.000      -0.083      -0.050\n",
            "ma.L5         -0.0614      0.009     -7.053      0.000      -0.078      -0.044\n",
            "ma.L6          0.0332      0.009      3.714      0.000       0.016       0.051\n",
            "ma.L7          0.0694      0.008      8.965      0.000       0.054       0.085\n",
            "ma.L8          0.0232      0.010      2.258      0.024       0.003       0.043\n",
            "ma.L9          0.0355      0.013      2.815      0.005       0.011       0.060\n",
            "ma.L10         0.0225      0.013      1.712      0.087      -0.003       0.048\n",
            "ma.L11         0.0352      0.014      2.550      0.011       0.008       0.062\n",
            "ma.L12         0.0337      0.013      2.629      0.009       0.009       0.059\n",
            "ma.L13         0.0436      0.012      3.515      0.000       0.019       0.068\n",
            "ma.L14         0.0059      0.011      0.528      0.597      -0.016       0.028\n",
            "sigma2         0.0160   8.76e-05    183.128      0.000       0.016       0.016\n",
            "===================================================================================\n",
            "Ljung-Box (L1) (Q):                   0.00   Jarque-Bera (JB):           7195868.85\n",
            "Prob(Q):                              0.98   Prob(JB):                         0.00\n",
            "Heteroskedasticity (H):               1.83   Skew:                            -0.89\n",
            "Prob(H) (two-sided):                  0.00   Kurtosis:                       168.23\n",
            "===================================================================================\n",
            "\n",
            "Warnings:\n",
            "[1] Covariance matrix calculated using the outer product of gradients (complex-step).\n",
            "\n",
            "LLR test p-value = 0.698\n"
          ]
        }
      ]
    },
    {
      "cell_type": "markdown",
      "source": [
        "#Análisis de residuos"
      ],
      "metadata": {
        "id": "X30R1V8y-l_e"
      }
    },
    {
      "cell_type": "code",
      "source": [],
      "metadata": {
        "colab": {
          "base_uri": "https://localhost:8080/",
          "height": 237
        },
        "id": "mUEy6W_6CgGH",
        "outputId": "f78ab212-d2f1-41c0-a5a9-0508bdf9b5c1"
      },
      "execution_count": 53,
      "outputs": [
        {
          "output_type": "execute_result",
          "data": {
            "text/plain": [
              "            Close   returns  res_ret_ma_13\n",
              "Date                                      \n",
              "2002-08-01  11778       NaN            NaN\n",
              "2002-08-02  11775 -0.025471            NaN\n",
              "2002-08-03  11775  0.000000      -0.012302\n",
              "2002-08-04  11775  0.000000      -0.015397\n",
              "2002-08-05  11796  0.178344       0.156691"
            ],
            "text/html": [
              "\n",
              "  <div id=\"df-52fee584-8c70-4e4e-8245-fed9951ba791\" class=\"colab-df-container\">\n",
              "    <div>\n",
              "<style scoped>\n",
              "    .dataframe tbody tr th:only-of-type {\n",
              "        vertical-align: middle;\n",
              "    }\n",
              "\n",
              "    .dataframe tbody tr th {\n",
              "        vertical-align: top;\n",
              "    }\n",
              "\n",
              "    .dataframe thead th {\n",
              "        text-align: right;\n",
              "    }\n",
              "</style>\n",
              "<table border=\"1\" class=\"dataframe\">\n",
              "  <thead>\n",
              "    <tr style=\"text-align: right;\">\n",
              "      <th></th>\n",
              "      <th>Close</th>\n",
              "      <th>returns</th>\n",
              "      <th>res_ret_ma_13</th>\n",
              "    </tr>\n",
              "    <tr>\n",
              "      <th>Date</th>\n",
              "      <th></th>\n",
              "      <th></th>\n",
              "      <th></th>\n",
              "    </tr>\n",
              "  </thead>\n",
              "  <tbody>\n",
              "    <tr>\n",
              "      <th>2002-08-01</th>\n",
              "      <td>11778</td>\n",
              "      <td>NaN</td>\n",
              "      <td>NaN</td>\n",
              "    </tr>\n",
              "    <tr>\n",
              "      <th>2002-08-02</th>\n",
              "      <td>11775</td>\n",
              "      <td>-0.025471</td>\n",
              "      <td>NaN</td>\n",
              "    </tr>\n",
              "    <tr>\n",
              "      <th>2002-08-03</th>\n",
              "      <td>11775</td>\n",
              "      <td>0.000000</td>\n",
              "      <td>-0.012302</td>\n",
              "    </tr>\n",
              "    <tr>\n",
              "      <th>2002-08-04</th>\n",
              "      <td>11775</td>\n",
              "      <td>0.000000</td>\n",
              "      <td>-0.015397</td>\n",
              "    </tr>\n",
              "    <tr>\n",
              "      <th>2002-08-05</th>\n",
              "      <td>11796</td>\n",
              "      <td>0.178344</td>\n",
              "      <td>0.156691</td>\n",
              "    </tr>\n",
              "  </tbody>\n",
              "</table>\n",
              "</div>\n",
              "    <div class=\"colab-df-buttons\">\n",
              "\n",
              "  <div class=\"colab-df-container\">\n",
              "    <button class=\"colab-df-convert\" onclick=\"convertToInteractive('df-52fee584-8c70-4e4e-8245-fed9951ba791')\"\n",
              "            title=\"Convert this dataframe to an interactive table.\"\n",
              "            style=\"display:none;\">\n",
              "\n",
              "  <svg xmlns=\"http://www.w3.org/2000/svg\" height=\"24px\" viewBox=\"0 -960 960 960\">\n",
              "    <path d=\"M120-120v-720h720v720H120Zm60-500h600v-160H180v160Zm220 220h160v-160H400v160Zm0 220h160v-160H400v160ZM180-400h160v-160H180v160Zm440 0h160v-160H620v160ZM180-180h160v-160H180v160Zm440 0h160v-160H620v160Z\"/>\n",
              "  </svg>\n",
              "    </button>\n",
              "\n",
              "  <style>\n",
              "    .colab-df-container {\n",
              "      display:flex;\n",
              "      gap: 12px;\n",
              "    }\n",
              "\n",
              "    .colab-df-convert {\n",
              "      background-color: #E8F0FE;\n",
              "      border: none;\n",
              "      border-radius: 50%;\n",
              "      cursor: pointer;\n",
              "      display: none;\n",
              "      fill: #1967D2;\n",
              "      height: 32px;\n",
              "      padding: 0 0 0 0;\n",
              "      width: 32px;\n",
              "    }\n",
              "\n",
              "    .colab-df-convert:hover {\n",
              "      background-color: #E2EBFA;\n",
              "      box-shadow: 0px 1px 2px rgba(60, 64, 67, 0.3), 0px 1px 3px 1px rgba(60, 64, 67, 0.15);\n",
              "      fill: #174EA6;\n",
              "    }\n",
              "\n",
              "    .colab-df-buttons div {\n",
              "      margin-bottom: 4px;\n",
              "    }\n",
              "\n",
              "    [theme=dark] .colab-df-convert {\n",
              "      background-color: #3B4455;\n",
              "      fill: #D2E3FC;\n",
              "    }\n",
              "\n",
              "    [theme=dark] .colab-df-convert:hover {\n",
              "      background-color: #434B5C;\n",
              "      box-shadow: 0px 1px 3px 1px rgba(0, 0, 0, 0.15);\n",
              "      filter: drop-shadow(0px 1px 2px rgba(0, 0, 0, 0.3));\n",
              "      fill: #FFFFFF;\n",
              "    }\n",
              "  </style>\n",
              "\n",
              "    <script>\n",
              "      const buttonEl =\n",
              "        document.querySelector('#df-52fee584-8c70-4e4e-8245-fed9951ba791 button.colab-df-convert');\n",
              "      buttonEl.style.display =\n",
              "        google.colab.kernel.accessAllowed ? 'block' : 'none';\n",
              "\n",
              "      async function convertToInteractive(key) {\n",
              "        const element = document.querySelector('#df-52fee584-8c70-4e4e-8245-fed9951ba791');\n",
              "        const dataTable =\n",
              "          await google.colab.kernel.invokeFunction('convertToInteractive',\n",
              "                                                    [key], {});\n",
              "        if (!dataTable) return;\n",
              "\n",
              "        const docLinkHtml = 'Like what you see? Visit the ' +\n",
              "          '<a target=\"_blank\" href=https://colab.research.google.com/notebooks/data_table.ipynb>data table notebook</a>'\n",
              "          + ' to learn more about interactive tables.';\n",
              "        element.innerHTML = '';\n",
              "        dataTable['output_type'] = 'display_data';\n",
              "        await google.colab.output.renderOutput(dataTable, element);\n",
              "        const docLink = document.createElement('div');\n",
              "        docLink.innerHTML = docLinkHtml;\n",
              "        element.appendChild(docLink);\n",
              "      }\n",
              "    </script>\n",
              "  </div>\n",
              "\n",
              "\n",
              "<div id=\"df-01856b3f-62cc-482d-b1ae-f268ca000db3\">\n",
              "  <button class=\"colab-df-quickchart\" onclick=\"quickchart('df-01856b3f-62cc-482d-b1ae-f268ca000db3')\"\n",
              "            title=\"Suggest charts\"\n",
              "            style=\"display:none;\">\n",
              "\n",
              "<svg xmlns=\"http://www.w3.org/2000/svg\" height=\"24px\"viewBox=\"0 0 24 24\"\n",
              "     width=\"24px\">\n",
              "    <g>\n",
              "        <path d=\"M19 3H5c-1.1 0-2 .9-2 2v14c0 1.1.9 2 2 2h14c1.1 0 2-.9 2-2V5c0-1.1-.9-2-2-2zM9 17H7v-7h2v7zm4 0h-2V7h2v10zm4 0h-2v-4h2v4z\"/>\n",
              "    </g>\n",
              "</svg>\n",
              "  </button>\n",
              "\n",
              "<style>\n",
              "  .colab-df-quickchart {\n",
              "      --bg-color: #E8F0FE;\n",
              "      --fill-color: #1967D2;\n",
              "      --hover-bg-color: #E2EBFA;\n",
              "      --hover-fill-color: #174EA6;\n",
              "      --disabled-fill-color: #AAA;\n",
              "      --disabled-bg-color: #DDD;\n",
              "  }\n",
              "\n",
              "  [theme=dark] .colab-df-quickchart {\n",
              "      --bg-color: #3B4455;\n",
              "      --fill-color: #D2E3FC;\n",
              "      --hover-bg-color: #434B5C;\n",
              "      --hover-fill-color: #FFFFFF;\n",
              "      --disabled-bg-color: #3B4455;\n",
              "      --disabled-fill-color: #666;\n",
              "  }\n",
              "\n",
              "  .colab-df-quickchart {\n",
              "    background-color: var(--bg-color);\n",
              "    border: none;\n",
              "    border-radius: 50%;\n",
              "    cursor: pointer;\n",
              "    display: none;\n",
              "    fill: var(--fill-color);\n",
              "    height: 32px;\n",
              "    padding: 0;\n",
              "    width: 32px;\n",
              "  }\n",
              "\n",
              "  .colab-df-quickchart:hover {\n",
              "    background-color: var(--hover-bg-color);\n",
              "    box-shadow: 0 1px 2px rgba(60, 64, 67, 0.3), 0 1px 3px 1px rgba(60, 64, 67, 0.15);\n",
              "    fill: var(--button-hover-fill-color);\n",
              "  }\n",
              "\n",
              "  .colab-df-quickchart-complete:disabled,\n",
              "  .colab-df-quickchart-complete:disabled:hover {\n",
              "    background-color: var(--disabled-bg-color);\n",
              "    fill: var(--disabled-fill-color);\n",
              "    box-shadow: none;\n",
              "  }\n",
              "\n",
              "  .colab-df-spinner {\n",
              "    border: 2px solid var(--fill-color);\n",
              "    border-color: transparent;\n",
              "    border-bottom-color: var(--fill-color);\n",
              "    animation:\n",
              "      spin 1s steps(1) infinite;\n",
              "  }\n",
              "\n",
              "  @keyframes spin {\n",
              "    0% {\n",
              "      border-color: transparent;\n",
              "      border-bottom-color: var(--fill-color);\n",
              "      border-left-color: var(--fill-color);\n",
              "    }\n",
              "    20% {\n",
              "      border-color: transparent;\n",
              "      border-left-color: var(--fill-color);\n",
              "      border-top-color: var(--fill-color);\n",
              "    }\n",
              "    30% {\n",
              "      border-color: transparent;\n",
              "      border-left-color: var(--fill-color);\n",
              "      border-top-color: var(--fill-color);\n",
              "      border-right-color: var(--fill-color);\n",
              "    }\n",
              "    40% {\n",
              "      border-color: transparent;\n",
              "      border-right-color: var(--fill-color);\n",
              "      border-top-color: var(--fill-color);\n",
              "    }\n",
              "    60% {\n",
              "      border-color: transparent;\n",
              "      border-right-color: var(--fill-color);\n",
              "    }\n",
              "    80% {\n",
              "      border-color: transparent;\n",
              "      border-right-color: var(--fill-color);\n",
              "      border-bottom-color: var(--fill-color);\n",
              "    }\n",
              "    90% {\n",
              "      border-color: transparent;\n",
              "      border-bottom-color: var(--fill-color);\n",
              "    }\n",
              "  }\n",
              "</style>\n",
              "\n",
              "  <script>\n",
              "    async function quickchart(key) {\n",
              "      const quickchartButtonEl =\n",
              "        document.querySelector('#' + key + ' button');\n",
              "      quickchartButtonEl.disabled = true;  // To prevent multiple clicks.\n",
              "      quickchartButtonEl.classList.add('colab-df-spinner');\n",
              "      try {\n",
              "        const charts = await google.colab.kernel.invokeFunction(\n",
              "            'suggestCharts', [key], {});\n",
              "      } catch (error) {\n",
              "        console.error('Error during call to suggestCharts:', error);\n",
              "      }\n",
              "      quickchartButtonEl.classList.remove('colab-df-spinner');\n",
              "      quickchartButtonEl.classList.add('colab-df-quickchart-complete');\n",
              "    }\n",
              "    (() => {\n",
              "      let quickchartButtonEl =\n",
              "        document.querySelector('#df-01856b3f-62cc-482d-b1ae-f268ca000db3 button');\n",
              "      quickchartButtonEl.style.display =\n",
              "        google.colab.kernel.accessAllowed ? 'block' : 'none';\n",
              "    })();\n",
              "  </script>\n",
              "</div>\n",
              "\n",
              "    </div>\n",
              "  </div>\n"
            ],
            "application/vnd.google.colaboratory.intrinsic+json": {
              "type": "dataframe",
              "variable_name": "df_train",
              "summary": "{\n  \"name\": \"df_train\",\n  \"rows\": 6326,\n  \"fields\": [\n    {\n      \"column\": \"Date\",\n      \"properties\": {\n        \"dtype\": \"date\",\n        \"min\": \"2002-08-01 00:00:00\",\n        \"max\": \"2019-11-25 00:00:00\",\n        \"num_unique_values\": 6326,\n        \"samples\": [\n          \"2006-01-13 00:00:00\",\n          \"2008-07-31 00:00:00\",\n          \"2011-10-23 00:00:00\"\n        ],\n        \"semantic_type\": \"\",\n        \"description\": \"\"\n      }\n    },\n    {\n      \"column\": \"Close\",\n      \"properties\": {\n        \"dtype\": \"number\",\n        \"std\": 8894,\n        \"min\": 11775,\n        \"max\": 44549,\n        \"num_unique_values\": 3803,\n        \"samples\": [\n          24369,\n          14113,\n          13886\n        ],\n        \"semantic_type\": \"\",\n        \"description\": \"\"\n      }\n    },\n    {\n      \"column\": \"returns\",\n      \"properties\": {\n        \"dtype\": \"number\",\n        \"std\": 0.1305114003898864,\n        \"min\": -3.7837837837837784,\n        \"max\": 3.8172150882824996,\n        \"num_unique_values\": 4223,\n        \"samples\": [\n          0.023938080165963882,\n          -0.07682044232402152,\n          0.0833664152441349\n        ],\n        \"semantic_type\": \"\",\n        \"description\": \"\"\n      }\n    },\n    {\n      \"column\": \"res_ret_ma_13\",\n      \"properties\": {\n        \"dtype\": \"number\",\n        \"std\": 0.12667870671083034,\n        \"min\": -3.449613116367057,\n        \"max\": 3.227140006090631,\n        \"num_unique_values\": 6324,\n        \"samples\": [\n          0.09080881039809796,\n          -0.1262168573352233,\n          -0.009294126971558974\n        ],\n        \"semantic_type\": \"\",\n        \"description\": \"\"\n      }\n    }\n  ]\n}"
            }
          },
          "metadata": {},
          "execution_count": 53
        }
      ]
    },
    {
      "cell_type": "code",
      "source": [
        "df_train['res_ret_ma_13'] = results_ma_13.resid[1:]"
      ],
      "metadata": {
        "colab": {
          "base_uri": "https://localhost:8080/"
        },
        "id": "16uFQh7e-nb7",
        "outputId": "be888664-775e-4007-f4dd-58483ff05539"
      },
      "execution_count": 46,
      "outputs": [
        {
          "output_type": "stream",
          "name": "stderr",
          "text": [
            "<ipython-input-46-8fcfc00f11ab>:1: SettingWithCopyWarning: \n",
            "A value is trying to be set on a copy of a slice from a DataFrame.\n",
            "Try using .loc[row_indexer,col_indexer] = value instead\n",
            "\n",
            "See the caveats in the documentation: https://pandas.pydata.org/pandas-docs/stable/user_guide/indexing.html#returning-a-view-versus-a-copy\n",
            "  df_train['res_ret_ma_13'] = results_ma_13.resid[1:]\n"
          ]
        }
      ]
    },
    {
      "cell_type": "code",
      "source": [
        "print(\"El promedio de los residuos es \" + str(round(df_train.res_ret_ma_13.mean(),3)) + \"\\nLa varianza de los residuos es \" + str(round(df_train.res_ret_ma_13.var(),3)) )"
      ],
      "metadata": {
        "colab": {
          "base_uri": "https://localhost:8080/"
        },
        "id": "Ex_X0o0m_Jo_",
        "outputId": "0ff5a172-b6ed-435e-efd9-514ba503968c"
      },
      "execution_count": 47,
      "outputs": [
        {
          "output_type": "stream",
          "name": "stdout",
          "text": [
            "El promedio de los residuos es 0.0\n",
            "La varianza de los residuos es 0.016\n"
          ]
        }
      ]
    },
    {
      "cell_type": "code",
      "source": [
        "from math import sqrt\n",
        "round(sqrt(df_train.res_ret_ma_13.var()),3)     #Se necesita que los residuos se comporten como ruido blanco gausiano"
      ],
      "metadata": {
        "colab": {
          "base_uri": "https://localhost:8080/"
        },
        "id": "j9cneWXJ_6Ji",
        "outputId": "57fcae1e-74f3-4a1b-bd87-a7d2a515dcb8"
      },
      "execution_count": 49,
      "outputs": [
        {
          "output_type": "execute_result",
          "data": {
            "text/plain": [
              "0.127"
            ]
          },
          "metadata": {},
          "execution_count": 49
        }
      ]
    },
    {
      "cell_type": "markdown",
      "source": [
        "#GRáfico de los residuos"
      ],
      "metadata": {
        "id": "fB8Ch0VKBi6h"
      }
    },
    {
      "cell_type": "code",
      "source": [
        "df_train.res_ret_ma_13.plot(figsize = (20,5))\n",
        "plt.title(\"Residuos de los retornos\", size = 24)\n",
        "plt.show()"
      ],
      "metadata": {
        "colab": {
          "base_uri": "https://localhost:8080/",
          "height": 409
        },
        "id": "9mCD_kYsBkPd",
        "outputId": "4d2e5e22-9ea8-4a13-b889-4b856f04347e"
      },
      "execution_count": 50,
      "outputs": [
        {
          "output_type": "display_data",
          "data": {
            "text/plain": [
              "<Figure size 2000x500 with 1 Axes>"
            ],
            "image/png": "[encoded data removed]"
          },
          "metadata": {}
        }
      ]
    },
    {
      "cell_type": "markdown",
      "source": [
        "#Comprobación de estacionaridad de los residuos"
      ],
      "metadata": {
        "id": "Vlif163xCF89"
      }
    },
    {
      "cell_type": "code",
      "source": [
        "sts.adfuller(df_train.res_ret_ma_13)"
      ],
      "metadata": {
        "colab": {
          "base_uri": "https://localhost:8080/",
          "height": 298
        },
        "id": "Ophl1UdnCIY2",
        "outputId": "f975b9ba-24b3-423e-cf8d-d5af9a2b6eed"
      },
      "execution_count": 51,
      "outputs": [
        {
          "output_type": "error",
          "ename": "MissingDataError",
          "evalue": "exog contains inf or nans",
          "traceback": [
            "\u001b[0;31m---------------------------------------------------------------------------\u001b[0m",
            "\u001b[0;31mMissingDataError\u001b[0m                          Traceback (most recent call last)",
            "\u001b[0;32m<ipython-input-51-1a0a8649d94a>\u001b[0m in \u001b[0;36m<cell line: 1>\u001b[0;34m()\u001b[0m\n\u001b[0;32m----> 1\u001b[0;31m \u001b[0msts\u001b[0m\u001b[0;34m.\u001b[0m\u001b[0madfuller\u001b[0m\u001b[0;34m(\u001b[0m\u001b[0mdf_train\u001b[0m\u001b[0;34m.\u001b[0m\u001b[0mres_ret_ma_13\u001b[0m\u001b[0;34m)\u001b[0m\u001b[0;34m\u001b[0m\u001b[0;34m\u001b[0m\u001b[0m\n\u001b[0m",
            "\u001b[0;32m/usr/local/lib/python3.10/dist-packages/statsmodels/tsa/stattools.py\u001b[0m in \u001b[0;36madfuller\u001b[0;34m(x, maxlag, regression, autolag, store, regresults)\u001b[0m\n\u001b[1;32m    324\u001b[0m \u001b[0;34m\u001b[0m\u001b[0m\n\u001b[1;32m    325\u001b[0m         \u001b[0;32mif\u001b[0m \u001b[0;32mnot\u001b[0m \u001b[0mregresults\u001b[0m\u001b[0;34m:\u001b[0m\u001b[0;34m\u001b[0m\u001b[0;34m\u001b[0m\u001b[0m\n\u001b[0;32m--> 326\u001b[0;31m             icbest, bestlag = _autolag(\n\u001b[0m\u001b[1;32m    327\u001b[0m                 \u001b[0mOLS\u001b[0m\u001b[0;34m,\u001b[0m \u001b[0mxdshort\u001b[0m\u001b[0;34m,\u001b[0m \u001b[0mfullRHS\u001b[0m\u001b[0;34m,\u001b[0m \u001b[0mstartlag\u001b[0m\u001b[0;34m,\u001b[0m \u001b[0mmaxlag\u001b[0m\u001b[0;34m,\u001b[0m \u001b[0mautolag\u001b[0m\u001b[0;34m\u001b[0m\u001b[0;34m\u001b[0m\u001b[0m\n\u001b[1;32m    328\u001b[0m             )\n",
            "\u001b[0;32m/usr/local/lib/python3.10/dist-packages/statsmodels/tsa/stattools.py\u001b[0m in \u001b[0;36m_autolag\u001b[0;34m(mod, endog, exog, startlag, maxlag, method, modargs, fitargs, regresults)\u001b[0m\n\u001b[1;32m    130\u001b[0m     \u001b[0mmethod\u001b[0m \u001b[0;34m=\u001b[0m \u001b[0mmethod\u001b[0m\u001b[0;34m.\u001b[0m\u001b[0mlower\u001b[0m\u001b[0;34m(\u001b[0m\u001b[0;34m)\u001b[0m\u001b[0;34m\u001b[0m\u001b[0;34m\u001b[0m\u001b[0m\n\u001b[1;32m    131\u001b[0m     \u001b[0;32mfor\u001b[0m \u001b[0mlag\u001b[0m \u001b[0;32min\u001b[0m \u001b[0mrange\u001b[0m\u001b[0;34m(\u001b[0m\u001b[0mstartlag\u001b[0m\u001b[0;34m,\u001b[0m \u001b[0mstartlag\u001b[0m \u001b[0;34m+\u001b[0m \u001b[0mmaxlag\u001b[0m \u001b[0;34m+\u001b[0m \u001b[0;36m1\u001b[0m\u001b[0;34m)\u001b[0m\u001b[0;34m:\u001b[0m\u001b[0;34m\u001b[0m\u001b[0;34m\u001b[0m\u001b[0m\n\u001b[0;32m--> 132\u001b[0;31m         \u001b[0mmod_instance\u001b[0m \u001b[0;34m=\u001b[0m \u001b[0mmod\u001b[0m\u001b[0;34m(\u001b[0m\u001b[0mendog\u001b[0m\u001b[0;34m,\u001b[0m \u001b[0mexog\u001b[0m\u001b[0;34m[\u001b[0m\u001b[0;34m:\u001b[0m\u001b[0;34m,\u001b[0m \u001b[0;34m:\u001b[0m\u001b[0mlag\u001b[0m\u001b[0;34m]\u001b[0m\u001b[0;34m,\u001b[0m \u001b[0;34m*\u001b[0m\u001b[0mmodargs\u001b[0m\u001b[0;34m)\u001b[0m\u001b[0;34m\u001b[0m\u001b[0;34m\u001b[0m\u001b[0m\n\u001b[0m\u001b[1;32m    133\u001b[0m         \u001b[0mresults\u001b[0m\u001b[0;34m[\u001b[0m\u001b[0mlag\u001b[0m\u001b[0;34m]\u001b[0m \u001b[0;34m=\u001b[0m \u001b[0mmod_instance\u001b[0m\u001b[0;34m.\u001b[0m\u001b[0mfit\u001b[0m\u001b[0;34m(\u001b[0m\u001b[0;34m)\u001b[0m\u001b[0;34m\u001b[0m\u001b[0;34m\u001b[0m\u001b[0m\n\u001b[1;32m    134\u001b[0m \u001b[0;34m\u001b[0m\u001b[0m\n",
            "\u001b[0;32m/usr/local/lib/python3.10/dist-packages/statsmodels/regression/linear_model.py\u001b[0m in \u001b[0;36m__init__\u001b[0;34m(self, endog, exog, missing, hasconst, **kwargs)\u001b[0m\n\u001b[1;32m    922\u001b[0m                    \"An exception will be raised in the next version.\")\n\u001b[1;32m    923\u001b[0m             \u001b[0mwarnings\u001b[0m\u001b[0;34m.\u001b[0m\u001b[0mwarn\u001b[0m\u001b[0;34m(\u001b[0m\u001b[0mmsg\u001b[0m\u001b[0;34m,\u001b[0m \u001b[0mValueWarning\u001b[0m\u001b[0;34m)\u001b[0m\u001b[0;34m\u001b[0m\u001b[0;34m\u001b[0m\u001b[0m\n\u001b[0;32m--> 924\u001b[0;31m         super().__init__(endog, exog, missing=missing,\n\u001b[0m\u001b[1;32m    925\u001b[0m                                   hasconst=hasconst, **kwargs)\n\u001b[1;32m    926\u001b[0m         \u001b[0;32mif\u001b[0m \u001b[0;34m\"weights\"\u001b[0m \u001b[0;32min\u001b[0m \u001b[0mself\u001b[0m\u001b[0;34m.\u001b[0m\u001b[0m_init_keys\u001b[0m\u001b[0;34m:\u001b[0m\u001b[0;34m\u001b[0m\u001b[0;34m\u001b[0m\u001b[0m\n",
            "\u001b[0;32m/usr/local/lib/python3.10/dist-packages/statsmodels/regression/linear_model.py\u001b[0m in \u001b[0;36m__init__\u001b[0;34m(self, endog, exog, weights, missing, hasconst, **kwargs)\u001b[0m\n\u001b[1;32m    747\u001b[0m         \u001b[0;32melse\u001b[0m\u001b[0;34m:\u001b[0m\u001b[0;34m\u001b[0m\u001b[0;34m\u001b[0m\u001b[0m\n\u001b[1;32m    748\u001b[0m             \u001b[0mweights\u001b[0m \u001b[0;34m=\u001b[0m \u001b[0mweights\u001b[0m\u001b[0;34m.\u001b[0m\u001b[0msqueeze\u001b[0m\u001b[0;34m(\u001b[0m\u001b[0;34m)\u001b[0m\u001b[0;34m\u001b[0m\u001b[0;34m\u001b[0m\u001b[0m\n\u001b[0;32m--> 749\u001b[0;31m         super().__init__(endog, exog, missing=missing,\n\u001b[0m\u001b[1;32m    750\u001b[0m                                   weights=weights, hasconst=hasconst, **kwargs)\n\u001b[1;32m    751\u001b[0m         \u001b[0mnobs\u001b[0m \u001b[0;34m=\u001b[0m \u001b[0mself\u001b[0m\u001b[0;34m.\u001b[0m\u001b[0mexog\u001b[0m\u001b[0;34m.\u001b[0m\u001b[0mshape\u001b[0m\u001b[0;34m[\u001b[0m\u001b[0;36m0\u001b[0m\u001b[0;34m]\u001b[0m\u001b[0;34m\u001b[0m\u001b[0;34m\u001b[0m\u001b[0m\n",
            "\u001b[0;32m/usr/local/lib/python3.10/dist-packages/statsmodels/regression/linear_model.py\u001b[0m in \u001b[0;36m__init__\u001b[0;34m(self, endog, exog, **kwargs)\u001b[0m\n\u001b[1;32m    201\u001b[0m     \"\"\"\n\u001b[1;32m    202\u001b[0m     \u001b[0;32mdef\u001b[0m \u001b[0m__init__\u001b[0m\u001b[0;34m(\u001b[0m\u001b[0mself\u001b[0m\u001b[0;34m,\u001b[0m \u001b[0mendog\u001b[0m\u001b[0;34m,\u001b[0m \u001b[0mexog\u001b[0m\u001b[0;34m,\u001b[0m \u001b[0;34m**\u001b[0m\u001b[0mkwargs\u001b[0m\u001b[0;34m)\u001b[0m\u001b[0;34m:\u001b[0m\u001b[0;34m\u001b[0m\u001b[0;34m\u001b[0m\u001b[0m\n\u001b[0;32m--> 203\u001b[0;31m         \u001b[0msuper\u001b[0m\u001b[0;34m(\u001b[0m\u001b[0;34m)\u001b[0m\u001b[0;34m.\u001b[0m\u001b[0m__init__\u001b[0m\u001b[0;34m(\u001b[0m\u001b[0mendog\u001b[0m\u001b[0;34m,\u001b[0m \u001b[0mexog\u001b[0m\u001b[0;34m,\u001b[0m \u001b[0;34m**\u001b[0m\u001b[0mkwargs\u001b[0m\u001b[0;34m)\u001b[0m\u001b[0;34m\u001b[0m\u001b[0;34m\u001b[0m\u001b[0m\n\u001b[0m\u001b[1;32m    204\u001b[0m         \u001b[0mself\u001b[0m\u001b[0;34m.\u001b[0m\u001b[0mpinv_wexog\u001b[0m\u001b[0;34m:\u001b[0m \u001b[0mFloat64Array\u001b[0m \u001b[0;34m|\u001b[0m \u001b[0;32mNone\u001b[0m \u001b[0;34m=\u001b[0m \u001b[0;32mNone\u001b[0m\u001b[0;34m\u001b[0m\u001b[0;34m\u001b[0m\u001b[0m\n\u001b[1;32m    205\u001b[0m         \u001b[0mself\u001b[0m\u001b[0;34m.\u001b[0m\u001b[0m_data_attr\u001b[0m\u001b[0;34m.\u001b[0m\u001b[0mextend\u001b[0m\u001b[0;34m(\u001b[0m\u001b[0;34m[\u001b[0m\u001b[0;34m'pinv_wexog'\u001b[0m\u001b[0;34m,\u001b[0m \u001b[0;34m'wendog'\u001b[0m\u001b[0;34m,\u001b[0m \u001b[0;34m'wexog'\u001b[0m\u001b[0;34m,\u001b[0m \u001b[0;34m'weights'\u001b[0m\u001b[0;34m]\u001b[0m\u001b[0;34m)\u001b[0m\u001b[0;34m\u001b[0m\u001b[0;34m\u001b[0m\u001b[0m\n",
            "\u001b[0;32m/usr/local/lib/python3.10/dist-packages/statsmodels/base/model.py\u001b[0m in \u001b[0;36m__init__\u001b[0;34m(self, endog, exog, **kwargs)\u001b[0m\n\u001b[1;32m    268\u001b[0m \u001b[0;34m\u001b[0m\u001b[0m\n\u001b[1;32m    269\u001b[0m     \u001b[0;32mdef\u001b[0m \u001b[0m__init__\u001b[0m\u001b[0;34m(\u001b[0m\u001b[0mself\u001b[0m\u001b[0;34m,\u001b[0m \u001b[0mendog\u001b[0m\u001b[0;34m,\u001b[0m \u001b[0mexog\u001b[0m\u001b[0;34m=\u001b[0m\u001b[0;32mNone\u001b[0m\u001b[0;34m,\u001b[0m \u001b[0;34m**\u001b[0m\u001b[0mkwargs\u001b[0m\u001b[0;34m)\u001b[0m\u001b[0;34m:\u001b[0m\u001b[0;34m\u001b[0m\u001b[0;34m\u001b[0m\u001b[0m\n\u001b[0;32m--> 270\u001b[0;31m         \u001b[0msuper\u001b[0m\u001b[0;34m(\u001b[0m\u001b[0;34m)\u001b[0m\u001b[0;34m.\u001b[0m\u001b[0m__init__\u001b[0m\u001b[0;34m(\u001b[0m\u001b[0mendog\u001b[0m\u001b[0;34m,\u001b[0m \u001b[0mexog\u001b[0m\u001b[0;34m,\u001b[0m \u001b[0;34m**\u001b[0m\u001b[0mkwargs\u001b[0m\u001b[0;34m)\u001b[0m\u001b[0;34m\u001b[0m\u001b[0;34m\u001b[0m\u001b[0m\n\u001b[0m\u001b[1;32m    271\u001b[0m         \u001b[0mself\u001b[0m\u001b[0;34m.\u001b[0m\u001b[0minitialize\u001b[0m\u001b[0;34m(\u001b[0m\u001b[0;34m)\u001b[0m\u001b[0;34m\u001b[0m\u001b[0;34m\u001b[0m\u001b[0m\n\u001b[1;32m    272\u001b[0m \u001b[0;34m\u001b[0m\u001b[0m\n",
            "\u001b[0;32m/usr/local/lib/python3.10/dist-packages/statsmodels/base/model.py\u001b[0m in \u001b[0;36m__init__\u001b[0;34m(self, endog, exog, **kwargs)\u001b[0m\n\u001b[1;32m     93\u001b[0m         \u001b[0mmissing\u001b[0m \u001b[0;34m=\u001b[0m \u001b[0mkwargs\u001b[0m\u001b[0;34m.\u001b[0m\u001b[0mpop\u001b[0m\u001b[0;34m(\u001b[0m\u001b[0;34m'missing'\u001b[0m\u001b[0;34m,\u001b[0m \u001b[0;34m'none'\u001b[0m\u001b[0;34m)\u001b[0m\u001b[0;34m\u001b[0m\u001b[0;34m\u001b[0m\u001b[0m\n\u001b[1;32m     94\u001b[0m         \u001b[0mhasconst\u001b[0m \u001b[0;34m=\u001b[0m \u001b[0mkwargs\u001b[0m\u001b[0;34m.\u001b[0m\u001b[0mpop\u001b[0m\u001b[0;34m(\u001b[0m\u001b[0;34m'hasconst'\u001b[0m\u001b[0;34m,\u001b[0m \u001b[0;32mNone\u001b[0m\u001b[0;34m)\u001b[0m\u001b[0;34m\u001b[0m\u001b[0;34m\u001b[0m\u001b[0m\n\u001b[0;32m---> 95\u001b[0;31m         self.data = self._handle_data(endog, exog, missing, hasconst,\n\u001b[0m\u001b[1;32m     96\u001b[0m                                       **kwargs)\n\u001b[1;32m     97\u001b[0m         \u001b[0mself\u001b[0m\u001b[0;34m.\u001b[0m\u001b[0mk_constant\u001b[0m \u001b[0;34m=\u001b[0m \u001b[0mself\u001b[0m\u001b[0;34m.\u001b[0m\u001b[0mdata\u001b[0m\u001b[0;34m.\u001b[0m\u001b[0mk_constant\u001b[0m\u001b[0;34m\u001b[0m\u001b[0;34m\u001b[0m\u001b[0m\n",
            "\u001b[0;32m/usr/local/lib/python3.10/dist-packages/statsmodels/base/model.py\u001b[0m in \u001b[0;36m_handle_data\u001b[0;34m(self, endog, exog, missing, hasconst, **kwargs)\u001b[0m\n\u001b[1;32m    133\u001b[0m \u001b[0;34m\u001b[0m\u001b[0m\n\u001b[1;32m    134\u001b[0m     \u001b[0;32mdef\u001b[0m \u001b[0m_handle_data\u001b[0m\u001b[0;34m(\u001b[0m\u001b[0mself\u001b[0m\u001b[0;34m,\u001b[0m \u001b[0mendog\u001b[0m\u001b[0;34m,\u001b[0m \u001b[0mexog\u001b[0m\u001b[0;34m,\u001b[0m \u001b[0mmissing\u001b[0m\u001b[0;34m,\u001b[0m \u001b[0mhasconst\u001b[0m\u001b[0;34m,\u001b[0m \u001b[0;34m**\u001b[0m\u001b[0mkwargs\u001b[0m\u001b[0;34m)\u001b[0m\u001b[0;34m:\u001b[0m\u001b[0;34m\u001b[0m\u001b[0;34m\u001b[0m\u001b[0m\n\u001b[0;32m--> 135\u001b[0;31m         \u001b[0mdata\u001b[0m \u001b[0;34m=\u001b[0m \u001b[0mhandle_data\u001b[0m\u001b[0;34m(\u001b[0m\u001b[0mendog\u001b[0m\u001b[0;34m,\u001b[0m \u001b[0mexog\u001b[0m\u001b[0;34m,\u001b[0m \u001b[0mmissing\u001b[0m\u001b[0;34m,\u001b[0m \u001b[0mhasconst\u001b[0m\u001b[0;34m,\u001b[0m \u001b[0;34m**\u001b[0m\u001b[0mkwargs\u001b[0m\u001b[0;34m)\u001b[0m\u001b[0;34m\u001b[0m\u001b[0;34m\u001b[0m\u001b[0m\n\u001b[0m\u001b[1;32m    136\u001b[0m         \u001b[0;31m# kwargs arrays could have changed, easier to just attach here\u001b[0m\u001b[0;34m\u001b[0m\u001b[0;34m\u001b[0m\u001b[0m\n\u001b[1;32m    137\u001b[0m         \u001b[0;32mfor\u001b[0m \u001b[0mkey\u001b[0m \u001b[0;32min\u001b[0m \u001b[0mkwargs\u001b[0m\u001b[0;34m:\u001b[0m\u001b[0;34m\u001b[0m\u001b[0;34m\u001b[0m\u001b[0m\n",
            "\u001b[0;32m/usr/local/lib/python3.10/dist-packages/statsmodels/base/data.py\u001b[0m in \u001b[0;36mhandle_data\u001b[0;34m(endog, exog, missing, hasconst, **kwargs)\u001b[0m\n\u001b[1;32m    673\u001b[0m \u001b[0;34m\u001b[0m\u001b[0m\n\u001b[1;32m    674\u001b[0m     \u001b[0mklass\u001b[0m \u001b[0;34m=\u001b[0m \u001b[0mhandle_data_class_factory\u001b[0m\u001b[0;34m(\u001b[0m\u001b[0mendog\u001b[0m\u001b[0;34m,\u001b[0m \u001b[0mexog\u001b[0m\u001b[0;34m)\u001b[0m\u001b[0;34m\u001b[0m\u001b[0;34m\u001b[0m\u001b[0m\n\u001b[0;32m--> 675\u001b[0;31m     return klass(endog, exog=exog, missing=missing, hasconst=hasconst,\n\u001b[0m\u001b[1;32m    676\u001b[0m                  **kwargs)\n",
            "\u001b[0;32m/usr/local/lib/python3.10/dist-packages/statsmodels/base/data.py\u001b[0m in \u001b[0;36m__init__\u001b[0;34m(self, endog, exog, missing, hasconst, **kwargs)\u001b[0m\n\u001b[1;32m     86\u001b[0m         \u001b[0mself\u001b[0m\u001b[0;34m.\u001b[0m\u001b[0mconst_idx\u001b[0m \u001b[0;34m=\u001b[0m \u001b[0;32mNone\u001b[0m\u001b[0;34m\u001b[0m\u001b[0;34m\u001b[0m\u001b[0m\n\u001b[1;32m     87\u001b[0m         \u001b[0mself\u001b[0m\u001b[0;34m.\u001b[0m\u001b[0mk_constant\u001b[0m \u001b[0;34m=\u001b[0m \u001b[0;36m0\u001b[0m\u001b[0;34m\u001b[0m\u001b[0;34m\u001b[0m\u001b[0m\n\u001b[0;32m---> 88\u001b[0;31m         \u001b[0mself\u001b[0m\u001b[0;34m.\u001b[0m\u001b[0m_handle_constant\u001b[0m\u001b[0;34m(\u001b[0m\u001b[0mhasconst\u001b[0m\u001b[0;34m)\u001b[0m\u001b[0;34m\u001b[0m\u001b[0;34m\u001b[0m\u001b[0m\n\u001b[0m\u001b[1;32m     89\u001b[0m         \u001b[0mself\u001b[0m\u001b[0;34m.\u001b[0m\u001b[0m_check_integrity\u001b[0m\u001b[0;34m(\u001b[0m\u001b[0;34m)\u001b[0m\u001b[0;34m\u001b[0m\u001b[0;34m\u001b[0m\u001b[0m\n\u001b[1;32m     90\u001b[0m         \u001b[0mself\u001b[0m\u001b[0;34m.\u001b[0m\u001b[0m_cache\u001b[0m \u001b[0;34m=\u001b[0m \u001b[0;34m{\u001b[0m\u001b[0;34m}\u001b[0m\u001b[0;34m\u001b[0m\u001b[0;34m\u001b[0m\u001b[0m\n",
            "\u001b[0;32m/usr/local/lib/python3.10/dist-packages/statsmodels/base/data.py\u001b[0m in \u001b[0;36m_handle_constant\u001b[0;34m(self, hasconst)\u001b[0m\n\u001b[1;32m    132\u001b[0m             \u001b[0mexog_max\u001b[0m \u001b[0;34m=\u001b[0m \u001b[0mnp\u001b[0m\u001b[0;34m.\u001b[0m\u001b[0mmax\u001b[0m\u001b[0;34m(\u001b[0m\u001b[0mself\u001b[0m\u001b[0;34m.\u001b[0m\u001b[0mexog\u001b[0m\u001b[0;34m,\u001b[0m \u001b[0maxis\u001b[0m\u001b[0;34m=\u001b[0m\u001b[0;36m0\u001b[0m\u001b[0;34m)\u001b[0m\u001b[0;34m\u001b[0m\u001b[0;34m\u001b[0m\u001b[0m\n\u001b[1;32m    133\u001b[0m             \u001b[0;32mif\u001b[0m \u001b[0;32mnot\u001b[0m \u001b[0mnp\u001b[0m\u001b[0;34m.\u001b[0m\u001b[0misfinite\u001b[0m\u001b[0;34m(\u001b[0m\u001b[0mexog_max\u001b[0m\u001b[0;34m)\u001b[0m\u001b[0;34m.\u001b[0m\u001b[0mall\u001b[0m\u001b[0;34m(\u001b[0m\u001b[0;34m)\u001b[0m\u001b[0;34m:\u001b[0m\u001b[0;34m\u001b[0m\u001b[0;34m\u001b[0m\u001b[0m\n\u001b[0;32m--> 134\u001b[0;31m                 \u001b[0;32mraise\u001b[0m \u001b[0mMissingDataError\u001b[0m\u001b[0;34m(\u001b[0m\u001b[0;34m'exog contains inf or nans'\u001b[0m\u001b[0;34m)\u001b[0m\u001b[0;34m\u001b[0m\u001b[0;34m\u001b[0m\u001b[0m\n\u001b[0m\u001b[1;32m    135\u001b[0m             \u001b[0mexog_min\u001b[0m \u001b[0;34m=\u001b[0m \u001b[0mnp\u001b[0m\u001b[0;34m.\u001b[0m\u001b[0mmin\u001b[0m\u001b[0;34m(\u001b[0m\u001b[0mself\u001b[0m\u001b[0;34m.\u001b[0m\u001b[0mexog\u001b[0m\u001b[0;34m,\u001b[0m \u001b[0maxis\u001b[0m\u001b[0;34m=\u001b[0m\u001b[0;36m0\u001b[0m\u001b[0;34m)\u001b[0m\u001b[0;34m\u001b[0m\u001b[0;34m\u001b[0m\u001b[0m\n\u001b[1;32m    136\u001b[0m             \u001b[0mconst_idx\u001b[0m \u001b[0;34m=\u001b[0m \u001b[0mnp\u001b[0m\u001b[0;34m.\u001b[0m\u001b[0mwhere\u001b[0m\u001b[0;34m(\u001b[0m\u001b[0mexog_max\u001b[0m \u001b[0;34m==\u001b[0m \u001b[0mexog_min\u001b[0m\u001b[0;34m)\u001b[0m\u001b[0;34m[\u001b[0m\u001b[0;36m0\u001b[0m\u001b[0;34m]\u001b[0m\u001b[0;34m.\u001b[0m\u001b[0msqueeze\u001b[0m\u001b[0;34m(\u001b[0m\u001b[0;34m)\u001b[0m\u001b[0;34m\u001b[0m\u001b[0;34m\u001b[0m\u001b[0m\n",
            "\u001b[0;31mMissingDataError\u001b[0m: exog contains inf or nans"
          ]
        }
      ]
    }
  ]
}