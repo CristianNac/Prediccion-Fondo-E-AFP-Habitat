{
  "nbformat": 4,
  "nbformat_minor": 0,
  "metadata": {
    "colab": {
      "provenance": []
    },
    "kernelspec": {
      "name": "python3",
      "display_name": "Python 3"
    },
    "language_info": {
      "name": "python"
    }
  },
  "cells": [
    {
      "cell_type": "markdown",
      "source": [
        "#Librerías"
      ],
      "metadata": {
        "id": "Gpi3vspX9Aee"
      }
    },
    {
      "cell_type": "code",
      "execution_count": null,
      "metadata": {
        "id": "QsR8H9jO6x8A"
      },
      "outputs": [],
      "source": [
        "import pandas as pd\n",
        "import numpy as np\n",
        "import matplotlib.pyplot as plt\n",
        "import statsmodels.graphics.tsaplots as sgt\n",
        "import statsmodels.tsa.stattools as sts\n",
        "from statsmodels.tsa.arima.model import ARIMA\n",
        "from scipy.stats.distributions import chi2\n",
        "from statsmodels.tsa.seasonal import seasonal_decompose\n",
        "import seaborn as sns\n",
        "sns.set()"
      ]
    },
    {
      "cell_type": "markdown",
      "source": [
        "#Cargar la información"
      ],
      "metadata": {
        "id": "5XELSsbk7ECq"
      }
    },
    {
      "cell_type": "code",
      "source": [
        "df = pd.read_csv('Habitat-E.csv', index_col = 'Date', parse_dates = True)\n",
        "df = df.asfreq('d') #Establece la frecuencia de la serie en diaria\n"
      ],
      "metadata": {
        "id": "vJXJ9Wb_7FQK"
      },
      "execution_count": null,
      "outputs": []
    },
    {
      "cell_type": "markdown",
      "source": [
        "##Verificar si existen valores nulos"
      ],
      "metadata": {
        "id": "jj4FHujk7UQ7"
      }
    },
    {
      "cell_type": "code",
      "source": [
        "df.isnull().sum()     #Verifica si existen valores nulos"
      ],
      "metadata": {
        "colab": {
          "base_uri": "https://localhost:8080/"
        },
        "id": "mC3in5-q7YMK",
        "outputId": "34b3cb2d-1e2a-4ebc-fc7f-a0340e64e9d9"
      },
      "execution_count": null,
      "outputs": [
        {
          "output_type": "execute_result",
          "data": {
            "text/plain": [
              "Open      0\n",
              "High      0\n",
              "Low       0\n",
              "Close     0\n",
              "Volume    0\n",
              "dtype: int64"
            ]
          },
          "metadata": {},
          "execution_count": 3
        }
      ]
    },
    {
      "cell_type": "markdown",
      "source": [
        "##Eliminar los datos que no se utilizarán en este análisis"
      ],
      "metadata": {
        "id": "ZLTiltJH7aSG"
      }
    },
    {
      "cell_type": "code",
      "source": [
        "del df['Open']\n",
        "del df['High']\n",
        "del df['Low']\n",
        "del df['Volume']"
      ],
      "metadata": {
        "id": "vHs979937k-J"
      },
      "execution_count": null,
      "outputs": []
    },
    {
      "cell_type": "markdown",
      "source": [
        "##Separar los datos en un conjunto de entrenamiento y prueba"
      ],
      "metadata": {
        "id": "UQOoEj007mHs"
      }
    },
    {
      "cell_type": "code",
      "source": [
        "size = int(len(df)*0.8)\n",
        "df_train, df_test = df[:size], df[size:]"
      ],
      "metadata": {
        "id": "6eLaLF-57vTL"
      },
      "execution_count": null,
      "outputs": []
    },
    {
      "cell_type": "markdown",
      "source": [
        "##Comprobación de no coincidencia de fechas"
      ],
      "metadata": {
        "id": "XKssleXM7y_R"
      }
    },
    {
      "cell_type": "code",
      "source": [
        "df_train.tail()"
      ],
      "metadata": {
        "colab": {
          "base_uri": "https://localhost:8080/",
          "height": 238
        },
        "id": "zo2BUkVB74NQ",
        "outputId": "3be00cf4-9b13-49a2-9c76-bae0142a5fc1"
      },
      "execution_count": null,
      "outputs": [
        {
          "output_type": "execute_result",
          "data": {
            "text/plain": [
              "            Close\n",
              "Date             \n",
              "2019-11-21  41585\n",
              "2019-11-22  41629\n",
              "2019-11-23  41629\n",
              "2019-11-24  41629\n",
              "2019-11-25  41718"
            ],
            "text/html": [
              "\n",
              "  <div id=\"df-81cc7707-dc88-4381-9e3d-8966f1407c13\" class=\"colab-df-container\">\n",
              "    <div>\n",
              "<style scoped>\n",
              "    .dataframe tbody tr th:only-of-type {\n",
              "        vertical-align: middle;\n",
              "    }\n",
              "\n",
              "    .dataframe tbody tr th {\n",
              "        vertical-align: top;\n",
              "    }\n",
              "\n",
              "    .dataframe thead th {\n",
              "        text-align: right;\n",
              "    }\n",
              "</style>\n",
              "<table border=\"1\" class=\"dataframe\">\n",
              "  <thead>\n",
              "    <tr style=\"text-align: right;\">\n",
              "      <th></th>\n",
              "      <th>Close</th>\n",
              "    </tr>\n",
              "    <tr>\n",
              "      <th>Date</th>\n",
              "      <th></th>\n",
              "    </tr>\n",
              "  </thead>\n",
              "  <tbody>\n",
              "    <tr>\n",
              "      <th>2019-11-21</th>\n",
              "      <td>41585</td>\n",
              "    </tr>\n",
              "    <tr>\n",
              "      <th>2019-11-22</th>\n",
              "      <td>41629</td>\n",
              "    </tr>\n",
              "    <tr>\n",
              "      <th>2019-11-23</th>\n",
              "      <td>41629</td>\n",
              "    </tr>\n",
              "    <tr>\n",
              "      <th>2019-11-24</th>\n",
              "      <td>41629</td>\n",
              "    </tr>\n",
              "    <tr>\n",
              "      <th>2019-11-25</th>\n",
              "      <td>41718</td>\n",
              "    </tr>\n",
              "  </tbody>\n",
              "</table>\n",
              "</div>\n",
              "    <div class=\"colab-df-buttons\">\n",
              "\n",
              "  <div class=\"colab-df-container\">\n",
              "    <button class=\"colab-df-convert\" onclick=\"convertToInteractive('df-81cc7707-dc88-4381-9e3d-8966f1407c13')\"\n",
              "            title=\"Convert this dataframe to an interactive table.\"\n",
              "            style=\"display:none;\">\n",
              "\n",
              "  <svg xmlns=\"http://www.w3.org/2000/svg\" height=\"24px\" viewBox=\"0 -960 960 960\">\n",
              "    <path d=\"M120-120v-720h720v720H120Zm60-500h600v-160H180v160Zm220 220h160v-160H400v160Zm0 220h160v-160H400v160ZM180-400h160v-160H180v160Zm440 0h160v-160H620v160ZM180-180h160v-160H180v160Zm440 0h160v-160H620v160Z\"/>\n",
              "  </svg>\n",
              "    </button>\n",
              "\n",
              "  <style>\n",
              "    .colab-df-container {\n",
              "      display:flex;\n",
              "      gap: 12px;\n",
              "    }\n",
              "\n",
              "    .colab-df-convert {\n",
              "      background-color: #E8F0FE;\n",
              "      border: none;\n",
              "      border-radius: 50%;\n",
              "      cursor: pointer;\n",
              "      display: none;\n",
              "      fill: #1967D2;\n",
              "      height: 32px;\n",
              "      padding: 0 0 0 0;\n",
              "      width: 32px;\n",
              "    }\n",
              "\n",
              "    .colab-df-convert:hover {\n",
              "      background-color: #E2EBFA;\n",
              "      box-shadow: 0px 1px 2px rgba(60, 64, 67, 0.3), 0px 1px 3px 1px rgba(60, 64, 67, 0.15);\n",
              "      fill: #174EA6;\n",
              "    }\n",
              "\n",
              "    .colab-df-buttons div {\n",
              "      margin-bottom: 4px;\n",
              "    }\n",
              "\n",
              "    [theme=dark] .colab-df-convert {\n",
              "      background-color: #3B4455;\n",
              "      fill: #D2E3FC;\n",
              "    }\n",
              "\n",
              "    [theme=dark] .colab-df-convert:hover {\n",
              "      background-color: #434B5C;\n",
              "      box-shadow: 0px 1px 3px 1px rgba(0, 0, 0, 0.15);\n",
              "      filter: drop-shadow(0px 1px 2px rgba(0, 0, 0, 0.3));\n",
              "      fill: #FFFFFF;\n",
              "    }\n",
              "  </style>\n",
              "\n",
              "    <script>\n",
              "      const buttonEl =\n",
              "        document.querySelector('#df-81cc7707-dc88-4381-9e3d-8966f1407c13 button.colab-df-convert');\n",
              "      buttonEl.style.display =\n",
              "        google.colab.kernel.accessAllowed ? 'block' : 'none';\n",
              "\n",
              "      async function convertToInteractive(key) {\n",
              "        const element = document.querySelector('#df-81cc7707-dc88-4381-9e3d-8966f1407c13');\n",
              "        const dataTable =\n",
              "          await google.colab.kernel.invokeFunction('convertToInteractive',\n",
              "                                                    [key], {});\n",
              "        if (!dataTable) return;\n",
              "\n",
              "        const docLinkHtml = 'Like what you see? Visit the ' +\n",
              "          '<a target=\"_blank\" href=https://colab.research.google.com/notebooks/data_table.ipynb>data table notebook</a>'\n",
              "          + ' to learn more about interactive tables.';\n",
              "        element.innerHTML = '';\n",
              "        dataTable['output_type'] = 'display_data';\n",
              "        await google.colab.output.renderOutput(dataTable, element);\n",
              "        const docLink = document.createElement('div');\n",
              "        docLink.innerHTML = docLinkHtml;\n",
              "        element.appendChild(docLink);\n",
              "      }\n",
              "    </script>\n",
              "  </div>\n",
              "\n",
              "\n",
              "<div id=\"df-6e726e32-357e-4ac1-aa33-ce80f0e675e0\">\n",
              "  <button class=\"colab-df-quickchart\" onclick=\"quickchart('df-6e726e32-357e-4ac1-aa33-ce80f0e675e0')\"\n",
              "            title=\"Suggest charts\"\n",
              "            style=\"display:none;\">\n",
              "\n",
              "<svg xmlns=\"http://www.w3.org/2000/svg\" height=\"24px\"viewBox=\"0 0 24 24\"\n",
              "     width=\"24px\">\n",
              "    <g>\n",
              "        <path d=\"M19 3H5c-1.1 0-2 .9-2 2v14c0 1.1.9 2 2 2h14c1.1 0 2-.9 2-2V5c0-1.1-.9-2-2-2zM9 17H7v-7h2v7zm4 0h-2V7h2v10zm4 0h-2v-4h2v4z\"/>\n",
              "    </g>\n",
              "</svg>\n",
              "  </button>\n",
              "\n",
              "<style>\n",
              "  .colab-df-quickchart {\n",
              "      --bg-color: #E8F0FE;\n",
              "      --fill-color: #1967D2;\n",
              "      --hover-bg-color: #E2EBFA;\n",
              "      --hover-fill-color: #174EA6;\n",
              "      --disabled-fill-color: #AAA;\n",
              "      --disabled-bg-color: #DDD;\n",
              "  }\n",
              "\n",
              "  [theme=dark] .colab-df-quickchart {\n",
              "      --bg-color: #3B4455;\n",
              "      --fill-color: #D2E3FC;\n",
              "      --hover-bg-color: #434B5C;\n",
              "      --hover-fill-color: #FFFFFF;\n",
              "      --disabled-bg-color: #3B4455;\n",
              "      --disabled-fill-color: #666;\n",
              "  }\n",
              "\n",
              "  .colab-df-quickchart {\n",
              "    background-color: var(--bg-color);\n",
              "    border: none;\n",
              "    border-radius: 50%;\n",
              "    cursor: pointer;\n",
              "    display: none;\n",
              "    fill: var(--fill-color);\n",
              "    height: 32px;\n",
              "    padding: 0;\n",
              "    width: 32px;\n",
              "  }\n",
              "\n",
              "  .colab-df-quickchart:hover {\n",
              "    background-color: var(--hover-bg-color);\n",
              "    box-shadow: 0 1px 2px rgba(60, 64, 67, 0.3), 0 1px 3px 1px rgba(60, 64, 67, 0.15);\n",
              "    fill: var(--button-hover-fill-color);\n",
              "  }\n",
              "\n",
              "  .colab-df-quickchart-complete:disabled,\n",
              "  .colab-df-quickchart-complete:disabled:hover {\n",
              "    background-color: var(--disabled-bg-color);\n",
              "    fill: var(--disabled-fill-color);\n",
              "    box-shadow: none;\n",
              "  }\n",
              "\n",
              "  .colab-df-spinner {\n",
              "    border: 2px solid var(--fill-color);\n",
              "    border-color: transparent;\n",
              "    border-bottom-color: var(--fill-color);\n",
              "    animation:\n",
              "      spin 1s steps(1) infinite;\n",
              "  }\n",
              "\n",
              "  @keyframes spin {\n",
              "    0% {\n",
              "      border-color: transparent;\n",
              "      border-bottom-color: var(--fill-color);\n",
              "      border-left-color: var(--fill-color);\n",
              "    }\n",
              "    20% {\n",
              "      border-color: transparent;\n",
              "      border-left-color: var(--fill-color);\n",
              "      border-top-color: var(--fill-color);\n",
              "    }\n",
              "    30% {\n",
              "      border-color: transparent;\n",
              "      border-left-color: var(--fill-color);\n",
              "      border-top-color: var(--fill-color);\n",
              "      border-right-color: var(--fill-color);\n",
              "    }\n",
              "    40% {\n",
              "      border-color: transparent;\n",
              "      border-right-color: var(--fill-color);\n",
              "      border-top-color: var(--fill-color);\n",
              "    }\n",
              "    60% {\n",
              "      border-color: transparent;\n",
              "      border-right-color: var(--fill-color);\n",
              "    }\n",
              "    80% {\n",
              "      border-color: transparent;\n",
              "      border-right-color: var(--fill-color);\n",
              "      border-bottom-color: var(--fill-color);\n",
              "    }\n",
              "    90% {\n",
              "      border-color: transparent;\n",
              "      border-bottom-color: var(--fill-color);\n",
              "    }\n",
              "  }\n",
              "</style>\n",
              "\n",
              "  <script>\n",
              "    async function quickchart(key) {\n",
              "      const quickchartButtonEl =\n",
              "        document.querySelector('#' + key + ' button');\n",
              "      quickchartButtonEl.disabled = true;  // To prevent multiple clicks.\n",
              "      quickchartButtonEl.classList.add('colab-df-spinner');\n",
              "      try {\n",
              "        const charts = await google.colab.kernel.invokeFunction(\n",
              "            'suggestCharts', [key], {});\n",
              "      } catch (error) {\n",
              "        console.error('Error during call to suggestCharts:', error);\n",
              "      }\n",
              "      quickchartButtonEl.classList.remove('colab-df-spinner');\n",
              "      quickchartButtonEl.classList.add('colab-df-quickchart-complete');\n",
              "    }\n",
              "    (() => {\n",
              "      let quickchartButtonEl =\n",
              "        document.querySelector('#df-6e726e32-357e-4ac1-aa33-ce80f0e675e0 button');\n",
              "      quickchartButtonEl.style.display =\n",
              "        google.colab.kernel.accessAllowed ? 'block' : 'none';\n",
              "    })();\n",
              "  </script>\n",
              "</div>\n",
              "\n",
              "    </div>\n",
              "  </div>\n"
            ],
            "application/vnd.google.colaboratory.intrinsic+json": {
              "type": "dataframe",
              "summary": "{\n  \"name\": \"df_train\",\n  \"rows\": 5,\n  \"fields\": [\n    {\n      \"column\": \"Date\",\n      \"properties\": {\n        \"dtype\": \"date\",\n        \"min\": \"2019-11-21 00:00:00\",\n        \"max\": \"2019-11-25 00:00:00\",\n        \"num_unique_values\": 5,\n        \"samples\": [\n          \"2019-11-22 00:00:00\",\n          \"2019-11-25 00:00:00\",\n          \"2019-11-23 00:00:00\"\n        ],\n        \"semantic_type\": \"\",\n        \"description\": \"\"\n      }\n    },\n    {\n      \"column\": \"Close\",\n      \"properties\": {\n        \"dtype\": \"number\",\n        \"std\": 48,\n        \"min\": 41585,\n        \"max\": 41718,\n        \"num_unique_values\": 3,\n        \"samples\": [\n          41585,\n          41629,\n          41718\n        ],\n        \"semantic_type\": \"\",\n        \"description\": \"\"\n      }\n    }\n  ]\n}"
            }
          },
          "metadata": {},
          "execution_count": 6
        }
      ]
    },
    {
      "cell_type": "code",
      "source": [
        "df_test.head()"
      ],
      "metadata": {
        "colab": {
          "base_uri": "https://localhost:8080/",
          "height": 238
        },
        "id": "AbUsw7qt79pv",
        "outputId": "84871ab9-e12c-46a1-eae3-95d285dea1dd"
      },
      "execution_count": null,
      "outputs": [
        {
          "output_type": "execute_result",
          "data": {
            "text/plain": [
              "            Close\n",
              "Date             \n",
              "2019-11-26  41863\n",
              "2019-11-27  41976\n",
              "2019-11-28  41985\n",
              "2019-11-29  41915\n",
              "2019-11-30  41915"
            ],
            "text/html": [
              "\n",
              "  <div id=\"df-b4d32ead-74a0-4e34-a0ba-6a08002c4be7\" class=\"colab-df-container\">\n",
              "    <div>\n",
              "<style scoped>\n",
              "    .dataframe tbody tr th:only-of-type {\n",
              "        vertical-align: middle;\n",
              "    }\n",
              "\n",
              "    .dataframe tbody tr th {\n",
              "        vertical-align: top;\n",
              "    }\n",
              "\n",
              "    .dataframe thead th {\n",
              "        text-align: right;\n",
              "    }\n",
              "</style>\n",
              "<table border=\"1\" class=\"dataframe\">\n",
              "  <thead>\n",
              "    <tr style=\"text-align: right;\">\n",
              "      <th></th>\n",
              "      <th>Close</th>\n",
              "    </tr>\n",
              "    <tr>\n",
              "      <th>Date</th>\n",
              "      <th></th>\n",
              "    </tr>\n",
              "  </thead>\n",
              "  <tbody>\n",
              "    <tr>\n",
              "      <th>2019-11-26</th>\n",
              "      <td>41863</td>\n",
              "    </tr>\n",
              "    <tr>\n",
              "      <th>2019-11-27</th>\n",
              "      <td>41976</td>\n",
              "    </tr>\n",
              "    <tr>\n",
              "      <th>2019-11-28</th>\n",
              "      <td>41985</td>\n",
              "    </tr>\n",
              "    <tr>\n",
              "      <th>2019-11-29</th>\n",
              "      <td>41915</td>\n",
              "    </tr>\n",
              "    <tr>\n",
              "      <th>2019-11-30</th>\n",
              "      <td>41915</td>\n",
              "    </tr>\n",
              "  </tbody>\n",
              "</table>\n",
              "</div>\n",
              "    <div class=\"colab-df-buttons\">\n",
              "\n",
              "  <div class=\"colab-df-container\">\n",
              "    <button class=\"colab-df-convert\" onclick=\"convertToInteractive('df-b4d32ead-74a0-4e34-a0ba-6a08002c4be7')\"\n",
              "            title=\"Convert this dataframe to an interactive table.\"\n",
              "            style=\"display:none;\">\n",
              "\n",
              "  <svg xmlns=\"http://www.w3.org/2000/svg\" height=\"24px\" viewBox=\"0 -960 960 960\">\n",
              "    <path d=\"M120-120v-720h720v720H120Zm60-500h600v-160H180v160Zm220 220h160v-160H400v160Zm0 220h160v-160H400v160ZM180-400h160v-160H180v160Zm440 0h160v-160H620v160ZM180-180h160v-160H180v160Zm440 0h160v-160H620v160Z\"/>\n",
              "  </svg>\n",
              "    </button>\n",
              "\n",
              "  <style>\n",
              "    .colab-df-container {\n",
              "      display:flex;\n",
              "      gap: 12px;\n",
              "    }\n",
              "\n",
              "    .colab-df-convert {\n",
              "      background-color: #E8F0FE;\n",
              "      border: none;\n",
              "      border-radius: 50%;\n",
              "      cursor: pointer;\n",
              "      display: none;\n",
              "      fill: #1967D2;\n",
              "      height: 32px;\n",
              "      padding: 0 0 0 0;\n",
              "      width: 32px;\n",
              "    }\n",
              "\n",
              "    .colab-df-convert:hover {\n",
              "      background-color: #E2EBFA;\n",
              "      box-shadow: 0px 1px 2px rgba(60, 64, 67, 0.3), 0px 1px 3px 1px rgba(60, 64, 67, 0.15);\n",
              "      fill: #174EA6;\n",
              "    }\n",
              "\n",
              "    .colab-df-buttons div {\n",
              "      margin-bottom: 4px;\n",
              "    }\n",
              "\n",
              "    [theme=dark] .colab-df-convert {\n",
              "      background-color: #3B4455;\n",
              "      fill: #D2E3FC;\n",
              "    }\n",
              "\n",
              "    [theme=dark] .colab-df-convert:hover {\n",
              "      background-color: #434B5C;\n",
              "      box-shadow: 0px 1px 3px 1px rgba(0, 0, 0, 0.15);\n",
              "      filter: drop-shadow(0px 1px 2px rgba(0, 0, 0, 0.3));\n",
              "      fill: #FFFFFF;\n",
              "    }\n",
              "  </style>\n",
              "\n",
              "    <script>\n",
              "      const buttonEl =\n",
              "        document.querySelector('#df-b4d32ead-74a0-4e34-a0ba-6a08002c4be7 button.colab-df-convert');\n",
              "      buttonEl.style.display =\n",
              "        google.colab.kernel.accessAllowed ? 'block' : 'none';\n",
              "\n",
              "      async function convertToInteractive(key) {\n",
              "        const element = document.querySelector('#df-b4d32ead-74a0-4e34-a0ba-6a08002c4be7');\n",
              "        const dataTable =\n",
              "          await google.colab.kernel.invokeFunction('convertToInteractive',\n",
              "                                                    [key], {});\n",
              "        if (!dataTable) return;\n",
              "\n",
              "        const docLinkHtml = 'Like what you see? Visit the ' +\n",
              "          '<a target=\"_blank\" href=https://colab.research.google.com/notebooks/data_table.ipynb>data table notebook</a>'\n",
              "          + ' to learn more about interactive tables.';\n",
              "        element.innerHTML = '';\n",
              "        dataTable['output_type'] = 'display_data';\n",
              "        await google.colab.output.renderOutput(dataTable, element);\n",
              "        const docLink = document.createElement('div');\n",
              "        docLink.innerHTML = docLinkHtml;\n",
              "        element.appendChild(docLink);\n",
              "      }\n",
              "    </script>\n",
              "  </div>\n",
              "\n",
              "\n",
              "<div id=\"df-95723e0b-9c7b-4703-ac14-56c890b995f5\">\n",
              "  <button class=\"colab-df-quickchart\" onclick=\"quickchart('df-95723e0b-9c7b-4703-ac14-56c890b995f5')\"\n",
              "            title=\"Suggest charts\"\n",
              "            style=\"display:none;\">\n",
              "\n",
              "<svg xmlns=\"http://www.w3.org/2000/svg\" height=\"24px\"viewBox=\"0 0 24 24\"\n",
              "     width=\"24px\">\n",
              "    <g>\n",
              "        <path d=\"M19 3H5c-1.1 0-2 .9-2 2v14c0 1.1.9 2 2 2h14c1.1 0 2-.9 2-2V5c0-1.1-.9-2-2-2zM9 17H7v-7h2v7zm4 0h-2V7h2v10zm4 0h-2v-4h2v4z\"/>\n",
              "    </g>\n",
              "</svg>\n",
              "  </button>\n",
              "\n",
              "<style>\n",
              "  .colab-df-quickchart {\n",
              "      --bg-color: #E8F0FE;\n",
              "      --fill-color: #1967D2;\n",
              "      --hover-bg-color: #E2EBFA;\n",
              "      --hover-fill-color: #174EA6;\n",
              "      --disabled-fill-color: #AAA;\n",
              "      --disabled-bg-color: #DDD;\n",
              "  }\n",
              "\n",
              "  [theme=dark] .colab-df-quickchart {\n",
              "      --bg-color: #3B4455;\n",
              "      --fill-color: #D2E3FC;\n",
              "      --hover-bg-color: #434B5C;\n",
              "      --hover-fill-color: #FFFFFF;\n",
              "      --disabled-bg-color: #3B4455;\n",
              "      --disabled-fill-color: #666;\n",
              "  }\n",
              "\n",
              "  .colab-df-quickchart {\n",
              "    background-color: var(--bg-color);\n",
              "    border: none;\n",
              "    border-radius: 50%;\n",
              "    cursor: pointer;\n",
              "    display: none;\n",
              "    fill: var(--fill-color);\n",
              "    height: 32px;\n",
              "    padding: 0;\n",
              "    width: 32px;\n",
              "  }\n",
              "\n",
              "  .colab-df-quickchart:hover {\n",
              "    background-color: var(--hover-bg-color);\n",
              "    box-shadow: 0 1px 2px rgba(60, 64, 67, 0.3), 0 1px 3px 1px rgba(60, 64, 67, 0.15);\n",
              "    fill: var(--button-hover-fill-color);\n",
              "  }\n",
              "\n",
              "  .colab-df-quickchart-complete:disabled,\n",
              "  .colab-df-quickchart-complete:disabled:hover {\n",
              "    background-color: var(--disabled-bg-color);\n",
              "    fill: var(--disabled-fill-color);\n",
              "    box-shadow: none;\n",
              "  }\n",
              "\n",
              "  .colab-df-spinner {\n",
              "    border: 2px solid var(--fill-color);\n",
              "    border-color: transparent;\n",
              "    border-bottom-color: var(--fill-color);\n",
              "    animation:\n",
              "      spin 1s steps(1) infinite;\n",
              "  }\n",
              "\n",
              "  @keyframes spin {\n",
              "    0% {\n",
              "      border-color: transparent;\n",
              "      border-bottom-color: var(--fill-color);\n",
              "      border-left-color: var(--fill-color);\n",
              "    }\n",
              "    20% {\n",
              "      border-color: transparent;\n",
              "      border-left-color: var(--fill-color);\n",
              "      border-top-color: var(--fill-color);\n",
              "    }\n",
              "    30% {\n",
              "      border-color: transparent;\n",
              "      border-left-color: var(--fill-color);\n",
              "      border-top-color: var(--fill-color);\n",
              "      border-right-color: var(--fill-color);\n",
              "    }\n",
              "    40% {\n",
              "      border-color: transparent;\n",
              "      border-right-color: var(--fill-color);\n",
              "      border-top-color: var(--fill-color);\n",
              "    }\n",
              "    60% {\n",
              "      border-color: transparent;\n",
              "      border-right-color: var(--fill-color);\n",
              "    }\n",
              "    80% {\n",
              "      border-color: transparent;\n",
              "      border-right-color: var(--fill-color);\n",
              "      border-bottom-color: var(--fill-color);\n",
              "    }\n",
              "    90% {\n",
              "      border-color: transparent;\n",
              "      border-bottom-color: var(--fill-color);\n",
              "    }\n",
              "  }\n",
              "</style>\n",
              "\n",
              "  <script>\n",
              "    async function quickchart(key) {\n",
              "      const quickchartButtonEl =\n",
              "        document.querySelector('#' + key + ' button');\n",
              "      quickchartButtonEl.disabled = true;  // To prevent multiple clicks.\n",
              "      quickchartButtonEl.classList.add('colab-df-spinner');\n",
              "      try {\n",
              "        const charts = await google.colab.kernel.invokeFunction(\n",
              "            'suggestCharts', [key], {});\n",
              "      } catch (error) {\n",
              "        console.error('Error during call to suggestCharts:', error);\n",
              "      }\n",
              "      quickchartButtonEl.classList.remove('colab-df-spinner');\n",
              "      quickchartButtonEl.classList.add('colab-df-quickchart-complete');\n",
              "    }\n",
              "    (() => {\n",
              "      let quickchartButtonEl =\n",
              "        document.querySelector('#df-95723e0b-9c7b-4703-ac14-56c890b995f5 button');\n",
              "      quickchartButtonEl.style.display =\n",
              "        google.colab.kernel.accessAllowed ? 'block' : 'none';\n",
              "    })();\n",
              "  </script>\n",
              "</div>\n",
              "\n",
              "    </div>\n",
              "  </div>\n"
            ],
            "application/vnd.google.colaboratory.intrinsic+json": {
              "type": "dataframe",
              "variable_name": "df_test",
              "summary": "{\n  \"name\": \"df_test\",\n  \"rows\": 1582,\n  \"fields\": [\n    {\n      \"column\": \"Date\",\n      \"properties\": {\n        \"dtype\": \"date\",\n        \"min\": \"2019-11-26 00:00:00\",\n        \"max\": \"2024-03-25 00:00:00\",\n        \"num_unique_values\": 1582,\n        \"samples\": [\n          \"2022-12-24 00:00:00\",\n          \"2022-02-16 00:00:00\",\n          \"2023-02-13 00:00:00\"\n        ],\n        \"semantic_type\": \"\",\n        \"description\": \"\"\n      }\n    },\n    {\n      \"column\": \"Close\",\n      \"properties\": {\n        \"dtype\": \"number\",\n        \"std\": 4099,\n        \"min\": 37500,\n        \"max\": 55004,\n        \"num_unique_values\": 1041,\n        \"samples\": [\n          44843,\n          48336,\n          46127\n        ],\n        \"semantic_type\": \"\",\n        \"description\": \"\"\n      }\n    }\n  ]\n}"
            }
          },
          "metadata": {},
          "execution_count": 7
        }
      ]
    },
    {
      "cell_type": "markdown",
      "source": [
        "#Análisis exploratorio de los datos (tendencia, estacionalidad y residuos)"
      ],
      "metadata": {
        "id": "ikQQR8QM8LOP"
      }
    },
    {
      "cell_type": "markdown",
      "source": [
        "##Método aditivo"
      ],
      "metadata": {
        "id": "W3GM8EOF8TGJ"
      }
    },
    {
      "cell_type": "code",
      "source": [
        "s_dec_additive = seasonal_decompose(df_train, model = 'additive')\n",
        "s_dec_additive.plot()\n",
        "plt.show()"
      ],
      "metadata": {
        "colab": {
          "base_uri": "https://localhost:8080/",
          "height": 480
        },
        "id": "dsx-eJ4r8Sn2",
        "outputId": "0ec19166-7b6d-45a2-97f6-1fb54584adc0"
      },
      "execution_count": null,
      "outputs": [
        {
          "output_type": "display_data",
          "data": {
            "text/plain": [
              "<Figure size 640x480 with 4 Axes>"
            ],
            "image/png": "[encoded data removed]"
          },
          "metadata": {}
        }
      ]
    },
    {
      "cell_type": "markdown",
      "source": [
        "##Método multiplicativo"
      ],
      "metadata": {
        "id": "00EtEgCR8Z6R"
      }
    },
    {
      "cell_type": "code",
      "source": [
        "s_dec_multiplicative = seasonal_decompose(df_train, model = 'multiplicative')    #En ambos casos no se evidencia una estacionalidad, pero si una tendencia positiva\n",
        "s_dec_multiplicative.plot()\n",
        "plt.show()"
      ],
      "metadata": {
        "colab": {
          "base_uri": "https://localhost:8080/",
          "height": 480
        },
        "id": "Tnw3qUmO8dwT",
        "outputId": "8f6cc146-b16e-4a4b-f527-293267f3c297"
      },
      "execution_count": null,
      "outputs": [
        {
          "output_type": "display_data",
          "data": {
            "text/plain": [
              "<Figure size 640x480 with 4 Axes>"
            ],
            "image/png": "[encoded data removed]"
          },
          "metadata": {}
        }
      ]
    },
    {
      "cell_type": "markdown",
      "source": [
        "#Encontrar el mejor modelo que describa los datos"
      ],
      "metadata": {
        "id": "tyLiPGJA8lLk"
      }
    },
    {
      "cell_type": "markdown",
      "source": [
        "##Prueba de estacionariedad"
      ],
      "metadata": {
        "id": "8PQ5i-_e8ryP"
      }
    },
    {
      "cell_type": "code",
      "source": [
        "sts.adfuller(df_train.Close)     #Se obtuvo un valor P de 99% por lo que con una significancia de 5% existe evidencia de que no es una serie estacionaria"
      ],
      "metadata": {
        "colab": {
          "base_uri": "https://localhost:8080/"
        },
        "id": "LTWr3xeJ8rcl",
        "outputId": "8861abef-a5b3-4023-994b-a1c1258c949e"
      },
      "execution_count": null,
      "outputs": [
        {
          "output_type": "execute_result",
          "data": {
            "text/plain": [
              "(1.4608997808718673,\n",
              " 0.9973739770800493,\n",
              " 32,\n",
              " 6293,\n",
              " {'1%': -3.4313895629133992,\n",
              "  '5%': -2.8619993951727514,\n",
              "  '10%': -2.567014533031778},\n",
              " 63407.25471217314)"
            ]
          },
          "metadata": {},
          "execution_count": 10
        }
      ]
    },
    {
      "cell_type": "markdown",
      "source": [
        "##Función de log máxima verosimilitud"
      ],
      "metadata": {
        "id": "SXj3fQOS80Dt"
      }
    },
    {
      "cell_type": "code",
      "source": [
        "def LLR_test(mod_1, mod_2, DF = 1):             #DF son los grados de libertad y se calculan con la diferencia en la cantidad de parametros que se necesita entre ambas predicciones\n",
        "  L1 = mod_1.llf                                #llf es para calcular log verosimilitud de cada predicción\n",
        "  L2 = mod_2.llf\n",
        "  LR = (2*(L2 - L1))\n",
        "  p = chi2.sf(LR,DF).round(3)\n",
        "  return p"
      ],
      "metadata": {
        "id": "CRWSiUAo83Br"
      },
      "execution_count": null,
      "outputs": []
    },
    {
      "cell_type": "markdown",
      "source": [
        "#Retornos"
      ],
      "metadata": {
        "id": "Lwujaz6K9haE"
      }
    },
    {
      "cell_type": "code",
      "source": [
        "df_train['returns'] = df_train.Close.pct_change(1).mul(100)"
      ],
      "metadata": {
        "colab": {
          "base_uri": "https://localhost:8080/"
        },
        "id": "nl0JMpC59m07",
        "outputId": "4658bc61-471d-4d7b-dab7-817826f1abb1"
      },
      "execution_count": null,
      "outputs": [
        {
          "output_type": "stream",
          "name": "stderr",
          "text": [
            "<ipython-input-12-70c3f036e9fb>:1: SettingWithCopyWarning: \n",
            "A value is trying to be set on a copy of a slice from a DataFrame.\n",
            "Try using .loc[row_indexer,col_indexer] = value instead\n",
            "\n",
            "See the caveats in the documentation: https://pandas.pydata.org/pandas-docs/stable/user_guide/indexing.html#returning-a-view-versus-a-copy\n",
            "  df_train['returns'] = df_train.Close.pct_change(1).mul(100)\n"
          ]
        }
      ]
    },
    {
      "cell_type": "markdown",
      "source": [
        "#Modelos autoregresivos"
      ],
      "metadata": {
        "id": "rxbmboWLa_5w"
      }
    },
    {
      "cell_type": "markdown",
      "source": [
        "##Gráfico de autocorrelación"
      ],
      "metadata": {
        "id": "F7ll0v7O_z1_"
      }
    },
    {
      "cell_type": "code",
      "source": [
        "sgt.plot_acf(df_train.returns[1:], lags = 40, zero = False)\n",
        "plt.title('ACF returns', size = 24)                             #En el día 14 se encuentra el primer día no significativo\n",
        "plt.ylim(-0.5, 0.5)\n",
        "plt.show()"
      ],
      "metadata": {
        "colab": {
          "base_uri": "https://localhost:8080/",
          "height": 469
        },
        "id": "KRvzSdsO_3UQ",
        "outputId": "3cc18743-0517-4aa5-b16f-615d65ceff2d"
      },
      "execution_count": null,
      "outputs": [
        {
          "output_type": "display_data",
          "data": {
            "text/plain": [
              "<Figure size 640x480 with 1 Axes>"
            ],
            "image/png": "[encoded data removed]"
          },
          "metadata": {}
        }
      ]
    },
    {
      "cell_type": "markdown",
      "source": [
        "##Modelo autoregresivo de orden 1"
      ],
      "metadata": {
        "id": "NvpsD0MxbEDA"
      }
    },
    {
      "cell_type": "code",
      "source": [
        "model_ar_1 = ARIMA(df_train.returns[1:], order= (1,0,0))\n",
        "results_ar_1 = model_ar_1.fit()\n",
        "print(results_ar_1.summary())"
      ],
      "metadata": {
        "colab": {
          "base_uri": "https://localhost:8080/"
        },
        "id": "0gSmq7rYAkC3",
        "outputId": "545b55c1-1b5a-4688-b78e-805969559e65"
      },
      "execution_count": null,
      "outputs": [
        {
          "output_type": "stream",
          "name": "stdout",
          "text": [
            "                               SARIMAX Results                                \n",
            "==============================================================================\n",
            "Dep. Variable:                returns   No. Observations:                 6325\n",
            "Model:                 ARIMA(1, 0, 0)   Log Likelihood                4000.832\n",
            "Date:                Mon, 29 Apr 2024   AIC                          -7995.664\n",
            "Time:                        03:36:44   BIC                          -7975.407\n",
            "Sample:                    08-02-2002   HQIC                         -7988.648\n",
            "                         - 11-25-2019                                         \n",
            "Covariance Type:                  opg                                         \n",
            "==============================================================================\n",
            "                 coef    std err          z      P>|z|      [0.025      0.975]\n",
            "------------------------------------------------------------------------------\n",
            "const          0.0201      0.002      9.009      0.000       0.016       0.024\n",
            "ar.L1          0.1726      0.003     50.292      0.000       0.166       0.179\n",
            "sigma2         0.0165   3.55e-05    465.027      0.000       0.016       0.017\n",
            "===================================================================================\n",
            "Ljung-Box (L1) (Q):                   0.22   Jarque-Bera (JB):          12876049.69\n",
            "Prob(Q):                              0.64   Prob(JB):                         0.00\n",
            "Heteroskedasticity (H):               1.96   Skew:                             0.53\n",
            "Prob(H) (two-sided):                  0.00   Kurtosis:                       224.04\n",
            "===================================================================================\n",
            "\n",
            "Warnings:\n",
            "[1] Covariance matrix calculated using the outer product of gradients (complex-step).\n"
          ]
        }
      ]
    },
    {
      "cell_type": "markdown",
      "source": [
        "##Modelo autoregresivo de orden 2"
      ],
      "metadata": {
        "id": "oP7B5_PAbTWk"
      }
    },
    {
      "cell_type": "code",
      "source": [
        "model_ar_2 = ARIMA(df_train.returns[1:], order= (2,0,0))\n",
        "results_ar_2 = model_ar_2.fit()\n",
        "print(results_ar_2.summary())\n",
        "print(\"\\nLLR test p-value = \" + str(LLR_test(results_ar_1,results_ar_2 )))"
      ],
      "metadata": {
        "colab": {
          "base_uri": "https://localhost:8080/"
        },
        "id": "Fqra-3WRAxzi",
        "outputId": "2a9aa217-5817-4f4b-beef-03e2bae3878c"
      },
      "execution_count": null,
      "outputs": [
        {
          "output_type": "stream",
          "name": "stdout",
          "text": [
            "                               SARIMAX Results                                \n",
            "==============================================================================\n",
            "Dep. Variable:                returns   No. Observations:                 6325\n",
            "Model:                 ARIMA(2, 0, 0)   Log Likelihood                4004.473\n",
            "Date:                Mon, 29 Apr 2024   AIC                          -8000.947\n",
            "Time:                        03:36:50   BIC                          -7973.938\n",
            "Sample:                    08-02-2002   HQIC                         -7991.592\n",
            "                         - 11-25-2019                                         \n",
            "Covariance Type:                  opg                                         \n",
            "==============================================================================\n",
            "                 coef    std err          z      P>|z|      [0.025      0.975]\n",
            "------------------------------------------------------------------------------\n",
            "const          0.0201      0.002      8.655      0.000       0.016       0.025\n",
            "ar.L1          0.1667      0.005     30.358      0.000       0.156       0.177\n",
            "ar.L2          0.0339      0.008      4.400      0.000       0.019       0.049\n",
            "sigma2         0.0165   3.57e-05    461.701      0.000       0.016       0.017\n",
            "===================================================================================\n",
            "Ljung-Box (L1) (Q):                   0.12   Jarque-Bera (JB):          12604778.78\n",
            "Prob(Q):                              0.73   Prob(JB):                         0.00\n",
            "Heteroskedasticity (H):               1.96   Skew:                             0.63\n",
            "Prob(H) (two-sided):                  0.00   Kurtosis:                       221.69\n",
            "===================================================================================\n",
            "\n",
            "Warnings:\n",
            "[1] Covariance matrix calculated using the outer product of gradients (complex-step).\n",
            "\n",
            "LLR test p-value = 0.007\n"
          ]
        }
      ]
    },
    {
      "cell_type": "markdown",
      "source": [
        "##Modelo autoregresivo de orden 3"
      ],
      "metadata": {
        "id": "lorjln_ibWtd"
      }
    },
    {
      "cell_type": "code",
      "source": [
        "model_ar_3 = ARIMA(df_train.returns[1:], order= (3,0,0))\n",
        "results_ar_3 = model_ar_3.fit()\n",
        "print(results_ar_3.summary())\n",
        "print(\"\\nLLR test p-value = \" + str(LLR_test(results_ar_2,results_ar_3 )))"
      ],
      "metadata": {
        "colab": {
          "base_uri": "https://localhost:8080/"
        },
        "id": "ez_ghnOMA0V_",
        "outputId": "c846f30e-30aa-4ebd-9a27-556eb3866f26"
      },
      "execution_count": null,
      "outputs": [
        {
          "output_type": "stream",
          "name": "stdout",
          "text": [
            "                               SARIMAX Results                                \n",
            "==============================================================================\n",
            "Dep. Variable:                returns   No. Observations:                 6325\n",
            "Model:                 ARIMA(3, 0, 0)   Log Likelihood                4057.316\n",
            "Date:                Mon, 29 Apr 2024   AIC                          -8104.633\n",
            "Time:                        03:36:56   BIC                          -8070.871\n",
            "Sample:                    08-02-2002   HQIC                         -8092.940\n",
            "                         - 11-25-2019                                         \n",
            "Covariance Type:                  opg                                         \n",
            "==============================================================================\n",
            "                 coef    std err          z      P>|z|      [0.025      0.975]\n",
            "------------------------------------------------------------------------------\n",
            "const          0.0201      0.002      9.802      0.000       0.016       0.024\n",
            "ar.L1          0.1711      0.006     28.500      0.000       0.159       0.183\n",
            "ar.L2          0.0554      0.008      6.974      0.000       0.040       0.071\n",
            "ar.L3         -0.1288      0.003    -51.167      0.000      -0.134      -0.124\n",
            "sigma2         0.0162   7.83e-05    207.387      0.000       0.016       0.016\n",
            "===================================================================================\n",
            "Ljung-Box (L1) (Q):                   0.11   Jarque-Bera (JB):           7649534.51\n",
            "Prob(Q):                              0.74   Prob(JB):                         0.00\n",
            "Heteroskedasticity (H):               1.80   Skew:                            -0.70\n",
            "Prob(H) (two-sided):                  0.00   Kurtosis:                       173.36\n",
            "===================================================================================\n",
            "\n",
            "Warnings:\n",
            "[1] Covariance matrix calculated using the outer product of gradients (complex-step).\n",
            "\n",
            "LLR test p-value = 0.0\n"
          ]
        }
      ]
    },
    {
      "cell_type": "markdown",
      "source": [
        "##Modelo autoregresivo de orden 8"
      ],
      "metadata": {
        "id": "7wKFXJA6bZqM"
      }
    },
    {
      "cell_type": "code",
      "source": [
        "model_ar_8 = ARIMA(df_train.returns[1:], order= (8,0,0))\n",
        "results_ar_8 = model_ar_8.fit()\n",
        "print(results_ar_8.summary())\n",
        "print(\"\\nLLR test p-value = \" + str(LLR_test(results_ar_3,results_ar_8, DF = 5 )))    #El coeficiente 8 no es significativo así que se probará con el modelo autoregresivo 7"
      ],
      "metadata": {
        "colab": {
          "base_uri": "https://localhost:8080/"
        },
        "id": "E6kknzEiCgfL",
        "outputId": "334ec394-894b-43db-82dc-b66e1e552302"
      },
      "execution_count": null,
      "outputs": [
        {
          "output_type": "stream",
          "name": "stdout",
          "text": [
            "                               SARIMAX Results                                \n",
            "==============================================================================\n",
            "Dep. Variable:                returns   No. Observations:                 6325\n",
            "Model:                 ARIMA(8, 0, 0)   Log Likelihood                4077.300\n",
            "Date:                Mon, 29 Apr 2024   AIC                          -8134.600\n",
            "Time:                        03:37:07   BIC                          -8067.077\n",
            "Sample:                    08-02-2002   HQIC                         -8111.214\n",
            "                         - 11-25-2019                                         \n",
            "Covariance Type:                  opg                                         \n",
            "==============================================================================\n",
            "                 coef    std err          z      P>|z|      [0.025      0.975]\n",
            "------------------------------------------------------------------------------\n",
            "const          0.0201      0.002      9.166      0.000       0.016       0.024\n",
            "ar.L1          0.1646      0.006     27.509      0.000       0.153       0.176\n",
            "ar.L2          0.0579      0.009      6.493      0.000       0.040       0.075\n",
            "ar.L3         -0.1146      0.004    -28.597      0.000      -0.122      -0.107\n",
            "ar.L4         -0.0268      0.008     -3.409      0.001      -0.042      -0.011\n",
            "ar.L5         -0.0249      0.009     -2.725      0.006      -0.043      -0.007\n",
            "ar.L6          0.0402      0.008      5.086      0.000       0.025       0.056\n",
            "ar.L7          0.0512      0.009      5.888      0.000       0.034       0.068\n",
            "ar.L8          0.0033      0.010      0.342      0.733      -0.016       0.023\n",
            "sigma2         0.0161   8.08e-05    199.613      0.000       0.016       0.016\n",
            "===================================================================================\n",
            "Ljung-Box (L1) (Q):                   0.00   Jarque-Bera (JB):           7537367.31\n",
            "Prob(Q):                              0.99   Prob(JB):                         0.00\n",
            "Heteroskedasticity (H):               1.82   Skew:                            -0.84\n",
            "Prob(H) (two-sided):                  0.00   Kurtosis:                       172.11\n",
            "===================================================================================\n",
            "\n",
            "Warnings:\n",
            "[1] Covariance matrix calculated using the outer product of gradients (complex-step).\n",
            "\n",
            "LLR test p-value = 0.0\n"
          ]
        }
      ]
    },
    {
      "cell_type": "markdown",
      "source": [
        "##Modelo autoregresivo de orden 7"
      ],
      "metadata": {
        "id": "8vuS-e9GCzl6"
      }
    },
    {
      "cell_type": "code",
      "source": [
        "model_ar_7 = ARIMA(df_train.returns[1:], order= (7,0,0))\n",
        "results_ar_7 = model_ar_7.fit()\n",
        "print(results_ar_7.summary())\n",
        "print(\"\\nLLR test p-value = \" + str(LLR_test(results_ar_3,results_ar_7, DF = 4 )))         #autoregresivo de orden 7 es el mejor modelo ya que todos sus coeficientes son significativos y el valor p es menor al valor de significancia"
      ],
      "metadata": {
        "colab": {
          "base_uri": "https://localhost:8080/"
        },
        "id": "NFXfDmtwCy_M",
        "outputId": "5be31741-981e-4b76-f349-e8740d955e1f"
      },
      "execution_count": null,
      "outputs": [
        {
          "output_type": "stream",
          "name": "stdout",
          "text": [
            "                               SARIMAX Results                                \n",
            "==============================================================================\n",
            "Dep. Variable:                returns   No. Observations:                 6325\n",
            "Model:                 ARIMA(7, 0, 0)   Log Likelihood                4077.269\n",
            "Date:                Mon, 29 Apr 2024   AIC                          -8136.538\n",
            "Time:                        03:37:13   BIC                          -8075.768\n",
            "Sample:                    08-02-2002   HQIC                         -8115.491\n",
            "                         - 11-25-2019                                         \n",
            "Covariance Type:                  opg                                         \n",
            "==============================================================================\n",
            "                 coef    std err          z      P>|z|      [0.025      0.975]\n",
            "------------------------------------------------------------------------------\n",
            "const          0.0201      0.002      9.231      0.000       0.016       0.024\n",
            "ar.L1          0.1646      0.006     27.909      0.000       0.153       0.176\n",
            "ar.L2          0.0578      0.009      6.547      0.000       0.040       0.075\n",
            "ar.L3         -0.1145      0.004    -28.507      0.000      -0.122      -0.107\n",
            "ar.L4         -0.0269      0.008     -3.415      0.001      -0.042      -0.011\n",
            "ar.L5         -0.0252      0.009     -2.768      0.006      -0.043      -0.007\n",
            "ar.L6          0.0403      0.008      5.301      0.000       0.025       0.055\n",
            "ar.L7          0.0516      0.008      6.386      0.000       0.036       0.067\n",
            "sigma2         0.0161   8.07e-05    199.740      0.000       0.016       0.016\n",
            "===================================================================================\n",
            "Ljung-Box (L1) (Q):                   0.00   Jarque-Bera (JB):           7531123.84\n",
            "Prob(Q):                              0.99   Prob(JB):                         0.00\n",
            "Heteroskedasticity (H):               1.82   Skew:                            -0.85\n",
            "Prob(H) (two-sided):                  0.00   Kurtosis:                       172.04\n",
            "===================================================================================\n",
            "\n",
            "Warnings:\n",
            "[1] Covariance matrix calculated using the outer product of gradients (complex-step).\n",
            "\n",
            "LLR test p-value = 0.0\n"
          ]
        }
      ]
    },
    {
      "cell_type": "markdown",
      "source": [
        "#Modelos de medias móviles"
      ],
      "metadata": {
        "id": "fZ2GbrULDJR6"
      }
    },
    {
      "cell_type": "markdown",
      "source": [
        "#Gráfico de autocorrelación parcial"
      ],
      "metadata": {
        "id": "eNFafBdqAE4q"
      }
    },
    {
      "cell_type": "code",
      "source": [
        "sgt.plot_pacf(df_train.returns[1:], lags = 40, zero = False, method = ('ols'))   #en el día 8 se encuentra el primer valor no significativo\n",
        "plt.title('PACF returns', size = 24)\n",
        "plt.ylim(-0.6, 0.6)\n",
        "plt.show()"
      ],
      "metadata": {
        "colab": {
          "base_uri": "https://localhost:8080/",
          "height": 469
        },
        "id": "XJjg5Qcb_v4B",
        "outputId": "a61776d4-f553-4218-bc4b-68a23ffa8ba4"
      },
      "execution_count": null,
      "outputs": [
        {
          "output_type": "display_data",
          "data": {
            "text/plain": [
              "<Figure size 640x480 with 1 Axes>"
            ],
            "image/png": "[encoded data removed]"
          },
          "metadata": {}
        }
      ]
    },
    {
      "cell_type": "markdown",
      "source": [
        "##Modelo de medias móviles de orden 1"
      ],
      "metadata": {
        "id": "lU2Jq2M3bseb"
      }
    },
    {
      "cell_type": "code",
      "source": [
        "model_ma_1 = ARIMA(df_train.returns[1:], order= (0,0,1))\n",
        "results_ma_1 = model_ma_1.fit()\n",
        "print(results_ma_1.summary())\n"
      ],
      "metadata": {
        "colab": {
          "base_uri": "https://localhost:8080/"
        },
        "id": "r6gdf7W2_PMx",
        "outputId": "a86a8472-91ea-4b54-a956-e3ebf3ea598c"
      },
      "execution_count": null,
      "outputs": [
        {
          "output_type": "stream",
          "name": "stdout",
          "text": [
            "                               SARIMAX Results                                \n",
            "==============================================================================\n",
            "Dep. Variable:                returns   No. Observations:                 6325\n",
            "Model:                 ARIMA(0, 0, 1)   Log Likelihood                3989.755\n",
            "Date:                Mon, 29 Apr 2024   AIC                          -7973.509\n",
            "Time:                        03:37:21   BIC                          -7953.252\n",
            "Sample:                    08-02-2002   HQIC                         -7966.493\n",
            "                         - 11-25-2019                                         \n",
            "Covariance Type:                  opg                                         \n",
            "==============================================================================\n",
            "                 coef    std err          z      P>|z|      [0.025      0.975]\n",
            "------------------------------------------------------------------------------\n",
            "const          0.0201      0.002      9.360      0.000       0.016       0.024\n",
            "ma.L1          0.1510      0.004     38.805      0.000       0.143       0.159\n",
            "sigma2         0.0166   3.19e-05    519.138      0.000       0.017       0.017\n",
            "===================================================================================\n",
            "Ljung-Box (L1) (Q):                   1.28   Jarque-Bera (JB):          13631759.98\n",
            "Prob(Q):                              0.26   Prob(JB):                         0.00\n",
            "Heteroskedasticity (H):               2.00   Skew:                             0.36\n",
            "Prob(H) (two-sided):                  0.00   Kurtosis:                       230.43\n",
            "===================================================================================\n",
            "\n",
            "Warnings:\n",
            "[1] Covariance matrix calculated using the outer product of gradients (complex-step).\n"
          ]
        }
      ]
    },
    {
      "cell_type": "markdown",
      "source": [
        "##Modelo de medias móviles de orden 2"
      ],
      "metadata": {
        "id": "6f3vSs5WDaZG"
      }
    },
    {
      "cell_type": "code",
      "source": [
        "model_ma_2 = ARIMA(df_train.returns[1:], order= (0,0,2))\n",
        "results_ma_2 = model_ma_2.fit()\n",
        "print(results_ma_2.summary())\n",
        "print(\"\\nLLR test p-value = \" + str(LLR_test(results_ma_1,results_ma_2)))"
      ],
      "metadata": {
        "colab": {
          "base_uri": "https://localhost:8080/"
        },
        "id": "eokoez8tDYGE",
        "outputId": "8fefd0ad-391c-4549-fe74-5a20707d6187"
      },
      "execution_count": null,
      "outputs": [
        {
          "output_type": "stream",
          "name": "stdout",
          "text": [
            "                               SARIMAX Results                                \n",
            "==============================================================================\n",
            "Dep. Variable:                returns   No. Observations:                 6325\n",
            "Model:                 ARIMA(0, 0, 2)   Log Likelihood                4022.527\n",
            "Date:                Mon, 29 Apr 2024   AIC                          -8037.053\n",
            "Time:                        03:37:27   BIC                          -8010.044\n",
            "Sample:                    08-02-2002   HQIC                         -8027.699\n",
            "                         - 11-25-2019                                         \n",
            "Covariance Type:                  opg                                         \n",
            "==============================================================================\n",
            "                 coef    std err          z      P>|z|      [0.025      0.975]\n",
            "------------------------------------------------------------------------------\n",
            "const          0.0201      0.002      8.914      0.000       0.016       0.024\n",
            "ma.L1          0.1824      0.005     40.442      0.000       0.174       0.191\n",
            "ma.L2          0.1092      0.005     20.153      0.000       0.099       0.120\n",
            "sigma2         0.0164   6.91e-05    237.398      0.000       0.016       0.017\n",
            "===================================================================================\n",
            "Ljung-Box (L1) (Q):                   0.45   Jarque-Bera (JB):          10391536.51\n",
            "Prob(Q):                              0.50   Prob(JB):                         0.00\n",
            "Heteroskedasticity (H):               1.89   Skew:                             0.48\n",
            "Prob(H) (two-sided):                  0.00   Kurtosis:                       201.57\n",
            "===================================================================================\n",
            "\n",
            "Warnings:\n",
            "[1] Covariance matrix calculated using the outer product of gradients (complex-step).\n",
            "\n",
            "LLR test p-value = 0.0\n"
          ]
        }
      ]
    },
    {
      "cell_type": "markdown",
      "source": [
        "##Modelo de medias móviles de orden 3"
      ],
      "metadata": {
        "id": "mGQQACOEb08a"
      }
    },
    {
      "cell_type": "code",
      "source": [
        "model_ma_3 = ARIMA(df_train.returns[1:], order= (0,0,3))\n",
        "results_ma_3 = model_ma_3.fit()\n",
        "print(results_ma_3.summary())\n",
        "print(\"\\nLLR test p-value = \" + str(LLR_test(results_ma_2,results_ma_3)))"
      ],
      "metadata": {
        "colab": {
          "base_uri": "https://localhost:8080/"
        },
        "id": "4t7-R8LQDoRy",
        "outputId": "98757294-215f-43f8-bd1e-5b847fe0f624"
      },
      "execution_count": null,
      "outputs": [
        {
          "output_type": "stream",
          "name": "stdout",
          "text": [
            "                               SARIMAX Results                                \n",
            "==============================================================================\n",
            "Dep. Variable:                returns   No. Observations:                 6325\n",
            "Model:                 ARIMA(0, 0, 3)   Log Likelihood                4042.623\n",
            "Date:                Mon, 29 Apr 2024   AIC                          -8075.247\n",
            "Time:                        03:37:34   BIC                          -8041.486\n",
            "Sample:                    08-02-2002   HQIC                         -8063.554\n",
            "                         - 11-25-2019                                         \n",
            "Covariance Type:                  opg                                         \n",
            "==============================================================================\n",
            "                 coef    std err          z      P>|z|      [0.025      0.975]\n",
            "------------------------------------------------------------------------------\n",
            "const          0.0201      0.002      9.266      0.000       0.016       0.024\n",
            "ma.L1          0.1655      0.006     28.694      0.000       0.154       0.177\n",
            "ma.L2          0.0806      0.006     12.620      0.000       0.068       0.093\n",
            "ma.L3         -0.0813      0.003    -32.046      0.000      -0.086      -0.076\n",
            "sigma2         0.0163   7.43e-05    219.400      0.000       0.016       0.016\n",
            "===================================================================================\n",
            "Ljung-Box (L1) (Q):                   0.09   Jarque-Bera (JB):           9000266.76\n",
            "Prob(Q):                              0.76   Prob(JB):                         0.00\n",
            "Heteroskedasticity (H):               1.84   Skew:                            -0.37\n",
            "Prob(H) (two-sided):                  0.00   Kurtosis:                       187.80\n",
            "===================================================================================\n",
            "\n",
            "Warnings:\n",
            "[1] Covariance matrix calculated using the outer product of gradients (complex-step).\n",
            "\n",
            "LLR test p-value = 0.0\n"
          ]
        }
      ]
    },
    {
      "cell_type": "markdown",
      "source": [
        "##Modelo de medias móviles de orden 14"
      ],
      "metadata": {
        "id": "a-5QhSFUb3hb"
      }
    },
    {
      "cell_type": "code",
      "source": [
        "model_ma_14 = ARIMA(df_train.returns[1:], order= (0,0,14))\n",
        "results_ma_14 = model_ma_14.fit()\n",
        "print(results_ma_14.summary())\n",
        "print(\"\\nLLR test p-value = \" + str(LLR_test(results_ma_3,results_ma_14, DF = 11)))   #Se obtuvo que L10 y L14 son coeficientes no significativos"
      ],
      "metadata": {
        "colab": {
          "base_uri": "https://localhost:8080/"
        },
        "id": "c-GjudrtDt_4",
        "outputId": "6fb5c3f2-f007-4b55-e04b-2621be6c04eb"
      },
      "execution_count": null,
      "outputs": [
        {
          "output_type": "stream",
          "name": "stdout",
          "text": [
            "                               SARIMAX Results                                \n",
            "==============================================================================\n",
            "Dep. Variable:                returns   No. Observations:                 6325\n",
            "Model:                ARIMA(0, 0, 14)   Log Likelihood                4094.256\n",
            "Date:                Mon, 29 Apr 2024   AIC                          -8156.512\n",
            "Time:                        03:38:22   BIC                          -8048.476\n",
            "Sample:                    08-02-2002   HQIC                         -8119.094\n",
            "                         - 11-25-2019                                         \n",
            "Covariance Type:                  opg                                         \n",
            "==============================================================================\n",
            "                 coef    std err          z      P>|z|      [0.025      0.975]\n",
            "------------------------------------------------------------------------------\n",
            "const          0.0201      0.002      8.231      0.000       0.015       0.025\n",
            "ma.L1          0.1598      0.006     25.827      0.000       0.148       0.172\n",
            "ma.L2          0.0763      0.008      9.487      0.000       0.061       0.092\n",
            "ma.L3         -0.1011      0.004    -23.675      0.000      -0.109      -0.093\n",
            "ma.L4         -0.0663      0.008     -7.883      0.000      -0.083      -0.050\n",
            "ma.L5         -0.0614      0.009     -7.053      0.000      -0.078      -0.044\n",
            "ma.L6          0.0332      0.009      3.714      0.000       0.016       0.051\n",
            "ma.L7          0.0694      0.008      8.965      0.000       0.054       0.085\n",
            "ma.L8          0.0232      0.010      2.258      0.024       0.003       0.043\n",
            "ma.L9          0.0355      0.013      2.815      0.005       0.011       0.060\n",
            "ma.L10         0.0225      0.013      1.712      0.087      -0.003       0.048\n",
            "ma.L11         0.0352      0.014      2.550      0.011       0.008       0.062\n",
            "ma.L12         0.0337      0.013      2.629      0.009       0.009       0.059\n",
            "ma.L13         0.0436      0.012      3.515      0.000       0.019       0.068\n",
            "ma.L14         0.0059      0.011      0.528      0.597      -0.016       0.028\n",
            "sigma2         0.0160   8.76e-05    183.128      0.000       0.016       0.016\n",
            "===================================================================================\n",
            "Ljung-Box (L1) (Q):                   0.00   Jarque-Bera (JB):           7195868.85\n",
            "Prob(Q):                              0.98   Prob(JB):                         0.00\n",
            "Heteroskedasticity (H):               1.83   Skew:                            -0.89\n",
            "Prob(H) (two-sided):                  0.00   Kurtosis:                       168.23\n",
            "===================================================================================\n",
            "\n",
            "Warnings:\n",
            "[1] Covariance matrix calculated using the outer product of gradients (complex-step).\n",
            "\n",
            "LLR test p-value = 0.0\n"
          ]
        }
      ]
    },
    {
      "cell_type": "markdown",
      "source": [
        "##Modelo de medias móviles de orden 10"
      ],
      "metadata": {
        "id": "psubTEVub6o-"
      }
    },
    {
      "cell_type": "code",
      "source": [
        "model_ma_10 = ARIMA(df_train.returns[1:], order= (0,0,10))\n",
        "results_ma_10 = model_ma_10.fit()\n",
        "print(results_ma_10.summary())\n",
        "print(\"\\nLLR test p-value = \" + str(LLR_test(results_ma_3,results_ma_10, DF = 7)))"
      ],
      "metadata": {
        "colab": {
          "base_uri": "https://localhost:8080/"
        },
        "id": "Jth_3CFDEs9Q",
        "outputId": "effbf606-cabb-4071-efad-42a55512a6f1"
      },
      "execution_count": null,
      "outputs": [
        {
          "output_type": "stream",
          "name": "stdout",
          "text": [
            "                               SARIMAX Results                                \n",
            "==============================================================================\n",
            "Dep. Variable:                returns   No. Observations:                 6325\n",
            "Model:                ARIMA(0, 0, 10)   Log Likelihood                4085.538\n",
            "Date:                Mon, 29 Apr 2024   AIC                          -8147.076\n",
            "Time:                        03:38:37   BIC                          -8066.049\n",
            "Sample:                    08-02-2002   HQIC                         -8119.013\n",
            "                         - 11-25-2019                                         \n",
            "Covariance Type:                  opg                                         \n",
            "==============================================================================\n",
            "                 coef    std err          z      P>|z|      [0.025      0.975]\n",
            "------------------------------------------------------------------------------\n",
            "const          0.0201      0.002      8.879      0.000       0.016       0.025\n",
            "ma.L1          0.1616      0.006     26.419      0.000       0.150       0.174\n",
            "ma.L2          0.0792      0.008     10.029      0.000       0.064       0.095\n",
            "ma.L3         -0.1001      0.004    -25.577      0.000      -0.108      -0.092\n",
            "ma.L4         -0.0644      0.008     -7.829      0.000      -0.081      -0.048\n",
            "ma.L5         -0.0607      0.008     -7.378      0.000      -0.077      -0.045\n",
            "ma.L6          0.0318      0.009      3.640      0.000       0.015       0.049\n",
            "ma.L7          0.0693      0.007      9.257      0.000       0.055       0.084\n",
            "ma.L8          0.0328      0.009      3.490      0.000       0.014       0.051\n",
            "ma.L9          0.0428      0.012      3.669      0.000       0.020       0.066\n",
            "ma.L10         0.0283      0.013      2.206      0.027       0.003       0.053\n",
            "sigma2         0.0161    8.5e-05    189.306      0.000       0.016       0.016\n",
            "===================================================================================\n",
            "Ljung-Box (L1) (Q):                   0.00   Jarque-Bera (JB):           7152206.75\n",
            "Prob(Q):                              0.96   Prob(JB):                         0.00\n",
            "Heteroskedasticity (H):               1.82   Skew:                            -0.92\n",
            "Prob(H) (two-sided):                  0.00   Kurtosis:                       167.73\n",
            "===================================================================================\n",
            "\n",
            "Warnings:\n",
            "[1] Covariance matrix calculated using the outer product of gradients (complex-step).\n",
            "\n",
            "LLR test p-value = 0.0\n"
          ]
        }
      ]
    },
    {
      "cell_type": "markdown",
      "source": [
        "##Modelo de medias móviles de orden 11"
      ],
      "metadata": {
        "id": "PhCxrxb4b9Kr"
      }
    },
    {
      "cell_type": "code",
      "source": [
        "model_ma_11 = ARIMA(df_train.returns[1:], order= (0,0,11))\n",
        "results_ma_11 = model_ma_11.fit()\n",
        "print(results_ma_11.summary())\n",
        "print(\"\\nLLR test p-value = \" + str(LLR_test(results_ma_10,results_ma_11)))"
      ],
      "metadata": {
        "colab": {
          "base_uri": "https://localhost:8080/"
        },
        "id": "cyrxl-EID1x7",
        "outputId": "811db261-c335-4e39-f138-c735a5cc8f5c"
      },
      "execution_count": null,
      "outputs": [
        {
          "output_type": "stream",
          "name": "stdout",
          "text": [
            "                               SARIMAX Results                                \n",
            "==============================================================================\n",
            "Dep. Variable:                returns   No. Observations:                 6325\n",
            "Model:                ARIMA(0, 0, 11)   Log Likelihood                4087.861\n",
            "Date:                Mon, 29 Apr 2024   AIC                          -8149.722\n",
            "Time:                        03:38:55   BIC                          -8061.943\n",
            "Sample:                    08-02-2002   HQIC                         -8119.320\n",
            "                         - 11-25-2019                                         \n",
            "Covariance Type:                  opg                                         \n",
            "==============================================================================\n",
            "                 coef    std err          z      P>|z|      [0.025      0.975]\n",
            "------------------------------------------------------------------------------\n",
            "const          0.0202      0.002      8.696      0.000       0.016       0.025\n",
            "ma.L1          0.1606      0.006     25.910      0.000       0.148       0.173\n",
            "ma.L2          0.0782      0.008      9.757      0.000       0.062       0.094\n",
            "ma.L3         -0.0996      0.004    -25.110      0.000      -0.107      -0.092\n",
            "ma.L4         -0.0650      0.008     -7.885      0.000      -0.081      -0.049\n",
            "ma.L5         -0.0602      0.008     -7.309      0.000      -0.076      -0.044\n",
            "ma.L6          0.0296      0.009      3.310      0.001       0.012       0.047\n",
            "ma.L7          0.0672      0.008      8.782      0.000       0.052       0.082\n",
            "ma.L8          0.0294      0.010      3.023      0.003       0.010       0.048\n",
            "ma.L9          0.0453      0.012      3.820      0.000       0.022       0.068\n",
            "ma.L10         0.0313      0.012      2.519      0.012       0.007       0.056\n",
            "ma.L11         0.0304      0.012      2.514      0.012       0.007       0.054\n",
            "sigma2         0.0161   8.59e-05    187.174      0.000       0.016       0.016\n",
            "===================================================================================\n",
            "Ljung-Box (L1) (Q):                   0.00   Jarque-Bera (JB):           7076110.60\n",
            "Prob(Q):                              0.95   Prob(JB):                         0.00\n",
            "Heteroskedasticity (H):               1.81   Skew:                            -0.89\n",
            "Prob(H) (two-sided):                  0.00   Kurtosis:                       166.85\n",
            "===================================================================================\n",
            "\n",
            "Warnings:\n",
            "[1] Covariance matrix calculated using the outer product of gradients (complex-step).\n",
            "\n",
            "LLR test p-value = 0.031\n"
          ]
        }
      ]
    },
    {
      "cell_type": "markdown",
      "source": [
        "##Modelo de medias móviles de orden 12"
      ],
      "metadata": {
        "id": "6xEhCnzJb_vt"
      }
    },
    {
      "cell_type": "code",
      "source": [
        "model_ma_12 = ARIMA(df_train.returns[1:], order= (0,0,12))\n",
        "results_ma_12 = model_ma_12.fit()\n",
        "print(results_ma_12.summary())\n",
        "print(\"\\nLLR test p-value = \" + str(LLR_test(results_ma_11,results_ma_12)))"
      ],
      "metadata": {
        "colab": {
          "base_uri": "https://localhost:8080/"
        },
        "id": "cId4WG8oFOyS",
        "outputId": "4ca5d87a-f350-43a7-d794-0998956bc64e"
      },
      "execution_count": null,
      "outputs": [
        {
          "output_type": "stream",
          "name": "stdout",
          "text": [
            "                               SARIMAX Results                                \n",
            "==============================================================================\n",
            "Dep. Variable:                returns   No. Observations:                 6325\n",
            "Model:                ARIMA(0, 0, 12)   Log Likelihood                4090.332\n",
            "Date:                Mon, 29 Apr 2024   AIC                          -8152.663\n",
            "Time:                        03:39:24   BIC                          -8058.132\n",
            "Sample:                    08-02-2002   HQIC                         -8119.923\n",
            "                         - 11-25-2019                                         \n",
            "Covariance Type:                  opg                                         \n",
            "==============================================================================\n",
            "                 coef    std err          z      P>|z|      [0.025      0.975]\n",
            "------------------------------------------------------------------------------\n",
            "const          0.0202      0.002      8.509      0.000       0.016       0.025\n",
            "ma.L1          0.1595      0.006     25.773      0.000       0.147       0.172\n",
            "ma.L2          0.0787      0.008      9.869      0.000       0.063       0.094\n",
            "ma.L3         -0.1009      0.004    -25.384      0.000      -0.109      -0.093\n",
            "ma.L4         -0.0653      0.008     -7.898      0.000      -0.082      -0.049\n",
            "ma.L5         -0.0604      0.008     -7.190      0.000      -0.077      -0.044\n",
            "ma.L6          0.0291      0.009      3.282      0.001       0.012       0.047\n",
            "ma.L7          0.0681      0.008      8.850      0.000       0.053       0.083\n",
            "ma.L8          0.0268      0.010      2.683      0.007       0.007       0.046\n",
            "ma.L9          0.0396      0.012      3.268      0.001       0.016       0.063\n",
            "ma.L10         0.0334      0.012      2.736      0.006       0.009       0.057\n",
            "ma.L11         0.0344      0.013      2.735      0.006       0.010       0.059\n",
            "ma.L12         0.0308      0.013      2.449      0.014       0.006       0.055\n",
            "sigma2         0.0161   8.53e-05    188.190      0.000       0.016       0.016\n",
            "===================================================================================\n",
            "Ljung-Box (L1) (Q):                   0.00   Jarque-Bera (JB):           7062759.14\n",
            "Prob(Q):                              0.94   Prob(JB):                         0.00\n",
            "Heteroskedasticity (H):               1.81   Skew:                            -0.90\n",
            "Prob(H) (two-sided):                  0.00   Kurtosis:                       166.70\n",
            "===================================================================================\n",
            "\n",
            "Warnings:\n",
            "[1] Covariance matrix calculated using the outer product of gradients (complex-step).\n",
            "\n",
            "LLR test p-value = 0.026\n"
          ]
        }
      ]
    },
    {
      "cell_type": "markdown",
      "source": [
        "##Modelo de medias móviles de orden 13"
      ],
      "metadata": {
        "id": "Q6eOaVlAcCVB"
      }
    },
    {
      "cell_type": "code",
      "source": [
        "model_ma_13 = ARIMA(df_train.returns[1:], order= (0,0,13))\n",
        "results_ma_13 = model_ma_13.fit()\n",
        "print(results_ma_13.summary())\n",
        "print(\"\\nLLR test p-value = \" + str(LLR_test(results_ma_12,results_ma_13)))     #Este modelo arroja un coeficiente no significativo L10, por lo que el mejor modelo sería MA (12)"
      ],
      "metadata": {
        "colab": {
          "base_uri": "https://localhost:8080/"
        },
        "id": "bAueO4iNFf0-",
        "outputId": "eed423ef-c8da-4023-e847-467f042fe7b5"
      },
      "execution_count": null,
      "outputs": [
        {
          "output_type": "stream",
          "name": "stdout",
          "text": [
            "                               SARIMAX Results                                \n",
            "==============================================================================\n",
            "Dep. Variable:                returns   No. Observations:                 6325\n",
            "Model:                ARIMA(0, 0, 13)   Log Likelihood                4094.181\n",
            "Date:                Mon, 29 Apr 2024   AIC                          -8158.362\n",
            "Time:                        03:40:02   BIC                          -8057.078\n",
            "Sample:                    08-02-2002   HQIC                         -8123.282\n",
            "                         - 11-25-2019                                         \n",
            "Covariance Type:                  opg                                         \n",
            "==============================================================================\n",
            "                 coef    std err          z      P>|z|      [0.025      0.975]\n",
            "------------------------------------------------------------------------------\n",
            "const          0.0201      0.002      8.295      0.000       0.015       0.025\n",
            "ma.L1          0.1600      0.006     25.877      0.000       0.148       0.172\n",
            "ma.L2          0.0764      0.008      9.554      0.000       0.061       0.092\n",
            "ma.L3         -0.1010      0.004    -23.888      0.000      -0.109      -0.093\n",
            "ma.L4         -0.0661      0.008     -7.877      0.000      -0.083      -0.050\n",
            "ma.L5         -0.0618      0.009     -7.141      0.000      -0.079      -0.045\n",
            "ma.L6          0.0331      0.009      3.715      0.000       0.016       0.051\n",
            "ma.L7          0.0691      0.008      8.950      0.000       0.054       0.084\n",
            "ma.L8          0.0231      0.010      2.257      0.024       0.003       0.043\n",
            "ma.L9          0.0364      0.012      2.916      0.004       0.012       0.061\n",
            "ma.L10         0.0237      0.013      1.829      0.067      -0.002       0.049\n",
            "ma.L11         0.0371      0.013      2.764      0.006       0.011       0.063\n",
            "ma.L12         0.0327      0.013      2.568      0.010       0.008       0.058\n",
            "ma.L13         0.0416      0.012      3.353      0.001       0.017       0.066\n",
            "sigma2         0.0160   8.74e-05    183.539      0.000       0.016       0.016\n",
            "===================================================================================\n",
            "Ljung-Box (L1) (Q):                   0.00   Jarque-Bera (JB):           7161988.32\n",
            "Prob(Q):                              0.99   Prob(JB):                         0.00\n",
            "Heteroskedasticity (H):               1.83   Skew:                            -0.89\n",
            "Prob(H) (two-sided):                  0.00   Kurtosis:                       167.84\n",
            "===================================================================================\n",
            "\n",
            "Warnings:\n",
            "[1] Covariance matrix calculated using the outer product of gradients (complex-step).\n",
            "\n",
            "LLR test p-value = 0.006\n"
          ]
        }
      ]
    },
    {
      "cell_type": "markdown",
      "source": [
        "#Modelo ARMA"
      ],
      "metadata": {
        "id": "MVqK15SBGA-s"
      }
    },
    {
      "cell_type": "markdown",
      "source": [
        "##Modelo ARMA de orden (1,1)"
      ],
      "metadata": {
        "id": "yAAOBrLXcGDB"
      }
    },
    {
      "cell_type": "code",
      "source": [
        "model_ar_1_ma_1 = ARIMA(df_train.returns[1:], order= (1,0,1))     #Este modelo  presenta un problema para converger por lo que se utilizará otro con un orden mayor\n",
        "results_ar_1_ma_1 = model_ar_1_ma_1.fit()\n",
        "print(results_ar_1_ma_1.summary())"
      ],
      "metadata": {
        "colab": {
          "base_uri": "https://localhost:8080/"
        },
        "id": "8zcDvTKvGpIX",
        "outputId": "bb3d7070-a65c-41fd-b4d4-e68449350aa3"
      },
      "execution_count": null,
      "outputs": [
        {
          "output_type": "stream",
          "name": "stderr",
          "text": [
            "/usr/local/lib/python3.10/dist-packages/statsmodels/base/model.py:607: ConvergenceWarning: Maximum Likelihood optimization failed to converge. Check mle_retvals\n",
            "  warnings.warn(\"Maximum Likelihood optimization failed to \"\n"
          ]
        },
        {
          "output_type": "stream",
          "name": "stdout",
          "text": [
            "                               SARIMAX Results                                \n",
            "==============================================================================\n",
            "Dep. Variable:                returns   No. Observations:                 6325\n",
            "Model:                 ARIMA(1, 0, 1)   Log Likelihood                4002.274\n",
            "Date:                Mon, 29 Apr 2024   AIC                          -7996.549\n",
            "Time:                        03:40:12   BIC                          -7969.540\n",
            "Sample:                    08-02-2002   HQIC                         -7987.194\n",
            "                         - 11-25-2019                                         \n",
            "Covariance Type:                  opg                                         \n",
            "==============================================================================\n",
            "                 coef    std err          z      P>|z|      [0.025      0.975]\n",
            "------------------------------------------------------------------------------\n",
            "const          0.0201      0.002      8.708      0.000       0.016       0.025\n",
            "ar.L1          0.2482      0.034      7.219      0.000       0.181       0.316\n",
            "ma.L1         -0.0772      0.039     -1.972      0.049      -0.154      -0.000\n",
            "sigma2         0.0165   4.21e-05    392.687      0.000       0.016       0.017\n",
            "===================================================================================\n",
            "Ljung-Box (L1) (Q):                   0.04   Jarque-Bera (JB):          12815226.40\n",
            "Prob(Q):                              0.84   Prob(JB):                         0.00\n",
            "Heteroskedasticity (H):               1.96   Skew:                             0.59\n",
            "Prob(H) (two-sided):                  0.00   Kurtosis:                       223.51\n",
            "===================================================================================\n",
            "\n",
            "Warnings:\n",
            "[1] Covariance matrix calculated using the outer product of gradients (complex-step).\n"
          ]
        }
      ]
    },
    {
      "cell_type": "markdown",
      "source": [
        "##Modelo ARMA de orden (4,6)"
      ],
      "metadata": {
        "id": "dkGZX-V7cJts"
      }
    },
    {
      "cell_type": "code",
      "source": [
        "model_ar_4_ma_6 = ARIMA(df_train.returns[1:], order= (4,0,6))     #Este modelo arroja coeficientes no significativos y considerando que p + q = 10, se probará modelos donde p + q = 9\n",
        "results_ar_4_ma_6 = model_ar_4_ma_6.fit()\n",
        "print(results_ar_4_ma_6.summary())"
      ],
      "metadata": {
        "colab": {
          "base_uri": "https://localhost:8080/"
        },
        "id": "gCECzgCTGCQT",
        "outputId": "15472385-dc3e-4fb2-8498-cfae7f28a355"
      },
      "execution_count": null,
      "outputs": [
        {
          "output_type": "stream",
          "name": "stderr",
          "text": [
            "/usr/local/lib/python3.10/dist-packages/statsmodels/base/model.py:607: ConvergenceWarning: Maximum Likelihood optimization failed to converge. Check mle_retvals\n",
            "  warnings.warn(\"Maximum Likelihood optimization failed to \"\n"
          ]
        },
        {
          "output_type": "stream",
          "name": "stdout",
          "text": [
            "                               SARIMAX Results                                \n",
            "==============================================================================\n",
            "Dep. Variable:                returns   No. Observations:                 6325\n",
            "Model:                 ARIMA(4, 0, 6)   Log Likelihood                4097.565\n",
            "Date:                Mon, 29 Apr 2024   AIC                          -8171.130\n",
            "Time:                        03:40:47   BIC                          -8090.103\n",
            "Sample:                    08-02-2002   HQIC                         -8143.067\n",
            "                         - 11-25-2019                                         \n",
            "Covariance Type:                  opg                                         \n",
            "==============================================================================\n",
            "                 coef    std err          z      P>|z|      [0.025      0.975]\n",
            "------------------------------------------------------------------------------\n",
            "const          0.0200      0.003      7.244      0.000       0.015       0.025\n",
            "ar.L1          1.0846      0.092     11.853      0.000       0.905       1.264\n",
            "ar.L2         -0.4526      0.188     -2.413      0.016      -0.820      -0.085\n",
            "ar.L3          0.4253      0.205      2.075      0.038       0.024       0.827\n",
            "ar.L4         -0.1560      0.101     -1.546      0.122      -0.354       0.042\n",
            "ma.L1         -0.9271      0.091    -10.192      0.000      -1.105      -0.749\n",
            "ma.L2          0.3591      0.174      2.064      0.039       0.018       0.700\n",
            "ma.L3         -0.5407      0.183     -2.954      0.003      -0.900      -0.182\n",
            "ma.L4          0.1752      0.081      2.160      0.031       0.016       0.334\n",
            "ma.L5         -0.0519      0.020     -2.558      0.011      -0.092      -0.012\n",
            "ma.L6          0.1329      0.019      7.135      0.000       0.096       0.169\n",
            "sigma2         0.0160   8.73e-05    183.692      0.000       0.016       0.016\n",
            "===================================================================================\n",
            "Ljung-Box (L1) (Q):                   0.00   Jarque-Bera (JB):           7190702.65\n",
            "Prob(Q):                              0.97   Prob(JB):                         0.00\n",
            "Heteroskedasticity (H):               1.82   Skew:                            -0.81\n",
            "Prob(H) (two-sided):                  0.00   Kurtosis:                       168.17\n",
            "===================================================================================\n",
            "\n",
            "Warnings:\n",
            "[1] Covariance matrix calculated using the outer product of gradients (complex-step).\n"
          ]
        }
      ]
    },
    {
      "cell_type": "markdown",
      "source": [
        "#Modelos ARIMA"
      ],
      "metadata": {
        "id": "vVWNBhftHhgn"
      }
    },
    {
      "cell_type": "markdown",
      "source": [
        "##Modelo ARIMA de orden (1,1,1)"
      ],
      "metadata": {
        "id": "_sgcrYuAhYas"
      }
    },
    {
      "cell_type": "code",
      "source": [
        "model_ar_1_i_1_ma_1 = ARIMA(df_train.Close, order= (1,1,1))     #Este modelo  presenta un problema para converger por lo que se utilizará otro con un orden mayor\n",
        "results_ar_1_i_1_ma_1 = model_ar_1_i_1_ma_1.fit()\n",
        "print(results_ar_1_i_1_ma_1.summary())"
      ],
      "metadata": {
        "colab": {
          "base_uri": "https://localhost:8080/"
        },
        "id": "PNq4q1dgHiqn",
        "outputId": "04069e78-6ece-4711-83fb-e70ac0e17e0b"
      },
      "execution_count": null,
      "outputs": [
        {
          "output_type": "stream",
          "name": "stdout",
          "text": [
            "                               SARIMAX Results                                \n",
            "==============================================================================\n",
            "Dep. Variable:                  Close   No. Observations:                 6326\n",
            "Model:                 ARIMA(1, 1, 1)   Log Likelihood              -32293.621\n",
            "Date:                Mon, 29 Apr 2024   AIC                          64593.242\n",
            "Time:                        03:40:52   BIC                          64613.499\n",
            "Sample:                    08-01-2002   HQIC                         64600.258\n",
            "                         - 11-25-2019                                         \n",
            "Covariance Type:                  opg                                         \n",
            "==============================================================================\n",
            "                 coef    std err          z      P>|z|      [0.025      0.975]\n",
            "------------------------------------------------------------------------------\n",
            "ar.L1          0.3250      0.012     26.036      0.000       0.301       0.350\n",
            "ma.L1         -0.0486      0.015     -3.252      0.001      -0.078      -0.019\n",
            "sigma2      1594.9490      1.969    809.922      0.000    1591.089    1598.809\n",
            "===================================================================================\n",
            "Ljung-Box (L1) (Q):                   0.78   Jarque-Bera (JB):          89761214.83\n",
            "Prob(Q):                              0.38   Prob(JB):                         0.00\n",
            "Heteroskedasticity (H):              14.88   Skew:                             1.65\n",
            "Prob(H) (two-sided):                  0.00   Kurtosis:                       586.60\n",
            "===================================================================================\n",
            "\n",
            "Warnings:\n",
            "[1] Covariance matrix calculated using the outer product of gradients (complex-step).\n"
          ]
        }
      ]
    },
    {
      "cell_type": "markdown",
      "source": [
        "##Comprobar las integraciones"
      ],
      "metadata": {
        "id": "2oH8IjwscQ6Z"
      }
    },
    {
      "cell_type": "code",
      "source": [
        "df_train['delta_prices'] = df_train.Close.diff(1)"
      ],
      "metadata": {
        "colab": {
          "base_uri": "https://localhost:8080/"
        },
        "id": "-KeQ5CzRcXkj",
        "outputId": "26a78043-ade9-4f08-cd61-13025dba08a7"
      },
      "execution_count": null,
      "outputs": [
        {
          "output_type": "stream",
          "name": "stderr",
          "text": [
            "<ipython-input-31-63dfe1bb233b>:1: SettingWithCopyWarning: \n",
            "A value is trying to be set on a copy of a slice from a DataFrame.\n",
            "Try using .loc[row_indexer,col_indexer] = value instead\n",
            "\n",
            "See the caveats in the documentation: https://pandas.pydata.org/pandas-docs/stable/user_guide/indexing.html#returning-a-view-versus-a-copy\n",
            "  df_train['delta_prices'] = df_train.Close.diff(1)\n"
          ]
        }
      ]
    },
    {
      "cell_type": "code",
      "source": [
        "sts.adfuller(df_train.delta_prices[1:])                      #Se comprueba con el test de hipótesis que los datos con una integración son estacionarios, por lo tanto no es necesario seguir integrando"
      ],
      "metadata": {
        "colab": {
          "base_uri": "https://localhost:8080/"
        },
        "id": "Px-7c2z9eXQm",
        "outputId": "cbc8a2fe-3056-4927-e363-efc63a1d479b"
      },
      "execution_count": null,
      "outputs": [
        {
          "output_type": "execute_result",
          "data": {
            "text/plain": [
              "(-11.300827651967179,\n",
              " 1.3088147885846445e-20,\n",
              " 31,\n",
              " 6293,\n",
              " {'1%': -3.4313895629133992,\n",
              "  '5%': -2.8619993951727514,\n",
              "  '10%': -2.567014533031778},\n",
              " 63398.32786974649)"
            ]
          },
          "metadata": {},
          "execution_count": 32
        }
      ]
    },
    {
      "cell_type": "markdown",
      "source": [
        "##Gráfico de autocorrelación de los residuos"
      ],
      "metadata": {
        "id": "4GT-eX0XeoAj"
      }
    },
    {
      "cell_type": "code",
      "source": [
        "df_train['res_ar_1_i_1_ma_1'] = results_ar_1_i_1_ma_1.resid.iloc[:]\n",
        "sgt.plot_acf(df_train.res_ar_1_i_1_ma_1[1:], zero = False, lags = 40)       #La mayoría de los residuos tienen un valor significativo distinto de 0 por lo que deberá buscar un mejor modelo\n",
        "plt.title(\"ACF de residuos para ARIMA (1,1,1)\", size = 24)\n",
        "plt.show()"
      ],
      "metadata": {
        "colab": {
          "base_uri": "https://localhost:8080/",
          "height": 573
        },
        "id": "xfUCNtpAevRA",
        "outputId": "74f7d109-99ab-4a14-830e-c11ecd511eac"
      },
      "execution_count": null,
      "outputs": [
        {
          "output_type": "stream",
          "name": "stderr",
          "text": [
            "<ipython-input-33-6711c2457a5e>:1: SettingWithCopyWarning: \n",
            "A value is trying to be set on a copy of a slice from a DataFrame.\n",
            "Try using .loc[row_indexer,col_indexer] = value instead\n",
            "\n",
            "See the caveats in the documentation: https://pandas.pydata.org/pandas-docs/stable/user_guide/indexing.html#returning-a-view-versus-a-copy\n",
            "  df_train['res_ar_1_i_1_ma_1'] = results_ar_1_i_1_ma_1.resid.iloc[:]\n"
          ]
        },
        {
          "output_type": "display_data",
          "data": {
            "text/plain": [
              "<Figure size 640x480 with 1 Axes>"
            ],
            "image/png": "[encoded data removed]"
          },
          "metadata": {}
        }
      ]
    },
    {
      "cell_type": "code",
      "source": [
        "print(\"ARIMA (1,0,0): \\t LL = \", results_ar_1.llf, \"\\t AIC = \", results_ar_1.aic) # modelo autoregresivo\n",
        "print(\"ARIMA (0,0,1): \\t LL = \", results_ma_1.llf, \"\\t AIC = \", results_ma_1.aic) #modelo medias móviles\n",
        "print(\"ARIMA (1,1,1): \\t LL = \", results_ar_1_i_1_ma_1.llf, \"\\t AIC = \", results_ar_1_i_1_ma_1.aic) #Modelo ARIMA\n",
        "\n",
        "#De acuerdo a la información obtenida comparando los modelos más básicos de AR, MA y ARIMA, aumentar la complejidad del modelo\n",
        "#no significa un mejor modelo, ya que el modelo autoregresivo poseen el valor de LL más alto y el valor AIC más bajo, por lo que nos quedaremos con estos métodos."
      ],
      "metadata": {
        "colab": {
          "base_uri": "https://localhost:8080/"
        },
        "id": "p9uQ06c89nY_",
        "outputId": "757d0521-afcf-434c-f8fa-22cf43ef324b"
      },
      "execution_count": null,
      "outputs": [
        {
          "output_type": "stream",
          "name": "stdout",
          "text": [
            "ARIMA (1,0,0): \t LL =  4000.8319857616634 \t AIC =  -7995.663971523327\n",
            "ARIMA (0,0,1): \t LL =  3989.754616264334 \t AIC =  -7973.509232528668\n",
            "ARIMA (1,1,1): \t LL =  -32293.62117265076 \t AIC =  64593.24234530152\n"
          ]
        }
      ]
    },
    {
      "cell_type": "markdown",
      "source": [
        "#Comparación del mejor modelo autoregresivo con el mejor modelo de medias móviles"
      ],
      "metadata": {
        "id": "rHroit8XAUy0"
      }
    },
    {
      "cell_type": "code",
      "source": [
        "print(\"ARIMA  (7,0,0): \\t LL = \", results_ar_7.llf,  \"\\t AIC = \", results_ar_7.aic) # modelo autoregresivo\n",
        "print(\"ARIMA (0,0,12): \\t LL = \", results_ma_12.llf, \"\\t AIC = \", results_ma_12.aic) #modelo medias móviles\n",
        "\n",
        "#El mejor modelo al parecer es el de medias móviles que considera 12 retrasos"
      ],
      "metadata": {
        "colab": {
          "base_uri": "https://localhost:8080/"
        },
        "id": "pDAktW0BATwz",
        "outputId": "ecf3dc4f-ed07-424d-a304-2a6693f1bf00"
      },
      "execution_count": null,
      "outputs": [
        {
          "output_type": "stream",
          "name": "stdout",
          "text": [
            "ARIMA  (7,0,0): \t LL =  4077.2691749164305 \t AIC =  -8136.538349832861\n",
            "ARIMA (0,0,12): \t LL =  4090.3316474521976 \t AIC =  -8152.663294904395\n"
          ]
        }
      ]
    },
    {
      "cell_type": "markdown",
      "source": [
        "#Análisis de residuos del modelo de medias móviles de orden 12"
      ],
      "metadata": {
        "id": "Z9QznqDrAzhP"
      }
    },
    {
      "cell_type": "code",
      "source": [
        "df_train['res_ret_ma_12'] = results_ma_12.resid.iloc[:]\n",
        "sgt.plot_acf(df_train.res_ret_ma_12[1:], zero = False, lags = 40)\n",
        "plt.title(\"ACF de residuos para ARIMA(0,0,12)\", size = 24)\n",
        "plt.ylim(-0.25,0.25)\n",
        "plt.show()"
      ],
      "metadata": {
        "colab": {
          "base_uri": "https://localhost:8080/",
          "height": 573
        },
        "id": "pHoPtwB9A3Fo",
        "outputId": "f7830255-e795-490c-9f2a-8c19c849d2b6"
      },
      "execution_count": null,
      "outputs": [
        {
          "output_type": "stream",
          "name": "stderr",
          "text": [
            "<ipython-input-54-c395d9356376>:1: SettingWithCopyWarning: \n",
            "A value is trying to be set on a copy of a slice from a DataFrame.\n",
            "Try using .loc[row_indexer,col_indexer] = value instead\n",
            "\n",
            "See the caveats in the documentation: https://pandas.pydata.org/pandas-docs/stable/user_guide/indexing.html#returning-a-view-versus-a-copy\n",
            "  df_train['res_ret_ma_12'] = results_ma_12.resid.iloc[:]\n"
          ]
        },
        {
          "output_type": "display_data",
          "data": {
            "text/plain": [
              "<Figure size 640x480 with 1 Axes>"
            ],
            "image/png": "[encoded data removed]"
          },
          "metadata": {}
        }
      ]
    },
    {
      "cell_type": "code",
      "source": [
        "sts.adfuller(df_train.res_ret_ma_12[1:])"
      ],
      "metadata": {
        "colab": {
          "base_uri": "https://localhost:8080/"
        },
        "id": "uZWBvOx2B3KM",
        "outputId": "03743012-c9db-4d66-ab61-c3775d95c9fa"
      },
      "execution_count": null,
      "outputs": [
        {
          "output_type": "execute_result",
          "data": {
            "text/plain": [
              "(-12.36802475077789,\n",
              " 5.359287816366432e-23,\n",
              " 32,\n",
              " 6292,\n",
              " {'1%': -3.4313897282006667,\n",
              "  '5%': -2.8619994682023804,\n",
              "  '10%': -2.5670145719071717},\n",
              " -8415.066676538829)"
            ]
          },
          "metadata": {},
          "execution_count": 57
        }
      ]
    }
  ]
}